{
 "cells": [
  {
   "cell_type": "code",
   "execution_count": 1,
   "metadata": {},
   "outputs": [],
   "source": [
    "import geopandas as gpd\n",
    "import pandas as pd\n",
    "import os\n",
    "import getpass\n",
    "import matplotlib.pyplot as plt\n",
    "#from earthpy.clip import clip_shp"
   ]
  },
  {
   "cell_type": "markdown",
   "metadata": {},
   "source": [
    "### NOTES:\n"
   ]
  },
  {
   "cell_type": "markdown",
   "metadata": {},
   "source": [
    "###### Bring in necessary geojson files and set your projection for all files"
   ]
  },
  {
   "cell_type": "code",
   "execution_count": 2,
   "metadata": {},
   "outputs": [],
   "source": [
    "wd = os.getcwd()\n",
    "wd = wd[:wd.find('notebooks')]\n",
    "\n",
    "#crs is set for Central Texas; https://epsg.io/6578; \n",
    "crs =  {'init' :'epsg:6578'}\n",
    "\n",
    "#parks = gpd.read_file(wd+\"data/coaparks/parkboundaries.geojson\")\n",
    "#parks = parks.to_crs(crs).explode().reset_index()\n",
    "\n",
    "quartbuff = gpd.read_file(wd+\"data/coaparks_buffer/quarterbuff.shp\")\n",
    "quartbuff.crs={'init' :'epsg:6578'}\n",
    "\n",
    "pop = gpd.read_file(wd+\"data/blockgroups_censusdata/popmerge.shp\")\n",
    "pop = pop.to_crs(crs).reset_index()\n",
    "\n",
    "race = gpd.read_file(wd+\"data/blockgroups_censusdata/racemerge.shp\")\n",
    "race = race.to_crs(crs).reset_index()\n",
    "\n",
    "income = gpd.read_file(wd+\"data/blockgroups_censusdata/incomemerge.shp\")\n",
    "income = income.to_crs(crs).reset_index()\n",
    "\n",
    "age = gpd.read_file(wd+\"data/blockgroups_censusdata/agemerge.shp\")\n",
    "age = age.to_crs(crs).reset_index()\n"
   ]
  },
  {
   "cell_type": "markdown",
   "metadata": {},
   "source": [
    "##### Check your projections\n",
    "https://geopandas.org/projections.html"
   ]
  },
  {
   "cell_type": "code",
   "execution_count": null,
   "metadata": {},
   "outputs": [],
   "source": [
    "#quartbuff.crs"
   ]
  },
  {
   "cell_type": "code",
   "execution_count": null,
   "metadata": {},
   "outputs": [],
   "source": [
    "#pop.crs"
   ]
  },
  {
   "cell_type": "code",
   "execution_count": null,
   "metadata": {},
   "outputs": [],
   "source": [
    "#race.crs"
   ]
  },
  {
   "cell_type": "code",
   "execution_count": null,
   "metadata": {},
   "outputs": [],
   "source": [
    "#age.crs"
   ]
  },
  {
   "cell_type": "markdown",
   "metadata": {},
   "source": [
    "###### Preview the files and clean the data"
   ]
  },
  {
   "cell_type": "code",
   "execution_count": null,
   "metadata": {
    "scrolled": true
   },
   "outputs": [],
   "source": [
    "pop['fullarea_pop'] = pop['geometry'].area\n",
    "#pop.head()"
   ]
  },
  {
   "cell_type": "code",
   "execution_count": null,
   "metadata": {
    "scrolled": true
   },
   "outputs": [],
   "source": [
    "race['fullarea_race'] = race['geometry'].area\n",
    "#race.head()"
   ]
  },
  {
   "cell_type": "code",
   "execution_count": null,
   "metadata": {},
   "outputs": [],
   "source": [
    "income['fullarea_income'] = income['geometry'].area\n",
    "#income.head()"
   ]
  },
  {
   "cell_type": "code",
   "execution_count": null,
   "metadata": {},
   "outputs": [],
   "source": [
    "age['fullarea_age'] = age['geometry'].area\n",
    "#quartbuff.head()"
   ]
  },
  {
   "cell_type": "code",
   "execution_count": null,
   "metadata": {},
   "outputs": [],
   "source": [
    "quartbuff['fullarea_buff'] = quartbuff['geometry'].area\n",
    "#quartbuff.head()"
   ]
  },
  {
   "cell_type": "markdown",
   "metadata": {},
   "source": [
    "##### The three cells below give totals for each demographic group. These will be used at the end to compare the total amount of the population as compared to the number served."
   ]
  },
  {
   "cell_type": "code",
   "execution_count": null,
   "metadata": {},
   "outputs": [],
   "source": [
    "#race.sum( axis = 0,skipna = True,numeric_only=True)"
   ]
  },
  {
   "cell_type": "code",
   "execution_count": null,
   "metadata": {},
   "outputs": [],
   "source": [
    "#income.sum( axis = 0,skipna = True,numeric_only=True)"
   ]
  },
  {
   "cell_type": "code",
   "execution_count": 4,
   "metadata": {},
   "outputs": [],
   "source": [
    "#age.sum( axis = 0,skipna = True,numeric_only=True)"
   ]
  },
  {
   "cell_type": "markdown",
   "metadata": {},
   "source": [
    "### <font color=green>Run spatial analysis on the amount of people distributed within a census block group against the quarter mile park buffer area and the race census data</font>"
   ]
  },
  {
   "cell_type": "code",
   "execution_count": null,
   "metadata": {
    "scrolled": true
   },
   "outputs": [],
   "source": [
    "rp_intersection = gpd.overlay(race, quartbuff, how='intersection') #https://geopandas.org/set_operations.html\n",
    "rp_intersection['area_intersec'] = rp_intersection['geometry'].area\n",
    "rp_intersection.to_file(wd+\"data/access/rp_intersec_quarterbuff_ACS17.shp\")\n",
    "rp_intersection"
   ]
  },
  {
   "cell_type": "code",
   "execution_count": null,
   "metadata": {},
   "outputs": [],
   "source": [
    "#rp_intersection.crs"
   ]
  },
  {
   "cell_type": "code",
   "execution_count": null,
   "metadata": {},
   "outputs": [],
   "source": [
    "#rp_intersection.columns"
   ]
  },
  {
   "cell_type": "code",
   "execution_count": null,
   "metadata": {},
   "outputs": [],
   "source": [
    "rp_intersection[['GEOID10','Total_POP','fullarea_race','LOCATION_N','fullarea_buff','area_intersec','geometry']]"
   ]
  },
  {
   "cell_type": "code",
   "execution_count": null,
   "metadata": {},
   "outputs": [],
   "source": [
    "race_clip=rp_intersection.copy().reset_index()\n",
    "\n",
    "for val in race_clip:\n",
    "\n",
    "    race_clip['weight'] = race_clip['area_intersec']/ race_clip['fullarea_race']\n",
    "    \n",
    "    race_clip['access_pop'] = race_clip['weight'] * race_clip['Total_POP']\n",
    "    race_clip['access_nonhis'] = race_clip['weight'] * race_clip['Not Hispan']\n",
    "    race_clip['access_white'] = race_clip['weight'] * race_clip['White; Not']\n",
    "    race_clip['access_his_lat'] = race_clip['weight'] * race_clip['Hispanic o']\n",
    "\n",
    "race_clip.head()"
   ]
  },
  {
   "cell_type": "code",
   "execution_count": null,
   "metadata": {},
   "outputs": [],
   "source": [
    "#race_clip.columns"
   ]
  },
  {
   "cell_type": "code",
   "execution_count": null,
   "metadata": {},
   "outputs": [],
   "source": [
    "race_calc = race_clip[['LOCATION_N', 'Total_POP','access_pop', 'access_nonhis','access_white', 'access_his_lat','area_intersec','geometry']]\n",
    "access_data = race_calc.dissolve(by='LOCATION_N',as_index=False, aggfunc='sum')"
   ]
  },
  {
   "cell_type": "code",
   "execution_count": null,
   "metadata": {
    "scrolled": true
   },
   "outputs": [],
   "source": [
    "access_data"
   ]
  },
  {
   "cell_type": "markdown",
   "metadata": {},
   "source": [
    "##### Combine the park area data to the access data"
   ]
  },
  {
   "cell_type": "code",
   "execution_count": null,
   "metadata": {},
   "outputs": [],
   "source": [
    "parks_ = quartbuff[['LOCATION_N','ASSET_SIZE']].copy()"
   ]
  },
  {
   "cell_type": "code",
   "execution_count": null,
   "metadata": {},
   "outputs": [],
   "source": [
    "parks_"
   ]
  },
  {
   "cell_type": "code",
   "execution_count": null,
   "metadata": {},
   "outputs": [],
   "source": [
    "access_data = access_data.merge(parks_, on='LOCATION_N')"
   ]
  },
  {
   "cell_type": "code",
   "execution_count": null,
   "metadata": {},
   "outputs": [],
   "source": [
    "access_data"
   ]
  },
  {
   "cell_type": "markdown",
   "metadata": {},
   "source": [
    "##### The population served by parks is nomalized by dividing the population served by the area of the park for which they are being served "
   ]
  },
  {
   "cell_type": "code",
   "execution_count": null,
   "metadata": {},
   "outputs": [],
   "source": [
    "access_data['Normalized_byArea'] = access_data['access_pop']/access_data['ASSET_SIZE']\n",
    "access_data['Normalized_nonhis'] = access_data['access_nonhis']/access_data['ASSET_SIZE']\n",
    "access_data['Normalized_white'] = access_data['access_white']/access_data['ASSET_SIZE']\n",
    "access_data['Normalized_hislat'] = access_data['access_his_lat']/access_data['ASSET_SIZE']"
   ]
  },
  {
   "cell_type": "code",
   "execution_count": null,
   "metadata": {
    "scrolled": false
   },
   "outputs": [],
   "source": [
    "access_data.to_file(wd+\"data/access/access_data_race_ACS17.shp\")\n",
    "access_data"
   ]
  },
  {
   "cell_type": "markdown",
   "metadata": {},
   "source": [
    "#### A dataframe is created with the 'acess_data' geoshapefile. This dataframe is cleaned up and the values are convereted into integers. Finally, we export the dataframe into a csv file and a shapefile. "
   ]
  },
  {
   "cell_type": "code",
   "execution_count": null,
   "metadata": {},
   "outputs": [],
   "source": [
    "df = pd.DataFrame(access_data)\n",
    "\n",
    "df['Park_Name']=df['LOCATION_N']\n",
    "df['Total_Pop_Served'] = df['access_pop'].astype(int)\n",
    "df['Normalized_byArea'] = df['Normalized_byArea'].astype(int)\n",
    "df['Non_Hispan'] = df['access_nonhis'].astype(int)\n",
    "df['Normalized_nonhis'] = df['Normalized_nonhis'].astype(int)\n",
    "df['White'] = df['access_white'].astype(int)\n",
    "df['Normalized_white'] = df['Normalized_white'].astype(int)\n",
    "df['Hispan_Latin'] = df['access_his_lat'].astype(int)\n",
    "df['Normalized_hislat'] = df['Normalized_hislat'].astype(int)\n",
    "\n",
    "df.head()\n"
   ]
  },
  {
   "cell_type": "markdown",
   "metadata": {},
   "source": [
    "Export to Shapefile"
   ]
  },
  {
   "cell_type": "code",
   "execution_count": null,
   "metadata": {},
   "outputs": [],
   "source": [
    "access_race_final = df.copy().drop(columns=['access_pop','access_nonhis','access_white','access_his_lat'])\n",
    "access_race_final = gpd.GeoDataFrame(access_race_final, geometry='geometry')\n",
    "access_race_final.to_file(wd+\"data/access/access_race_final_ACS17.shp\")\n",
    "access_race_final.head()"
   ]
  },
  {
   "cell_type": "markdown",
   "metadata": {},
   "source": [
    "Export to CSV"
   ]
  },
  {
   "cell_type": "code",
   "execution_count": null,
   "metadata": {},
   "outputs": [],
   "source": [
    "access_racetable = df.drop(columns=['access_pop','access_nonhis','access_white','access_his_lat', 'geometry'])\n",
    "access_racetable.to_csv(wd+\"data/access/access_table_race_ACS17.csv\")\n",
    "access_racetable.head()"
   ]
  },
  {
   "cell_type": "markdown",
   "metadata": {},
   "source": [
    "Descriptive Statistics"
   ]
  },
  {
   "cell_type": "code",
   "execution_count": null,
   "metadata": {},
   "outputs": [],
   "source": [
    "Race_access_stats = access_racetable.describe()\n",
    "Race_access_stats.to_csv(wd+\"data/access/access_stats_race_ACS17.csv\")\n",
    "Race_access_stats"
   ]
  },
  {
   "cell_type": "code",
   "execution_count": null,
   "metadata": {},
   "outputs": [],
   "source": [
    "access_racetable.median()"
   ]
  },
  {
   "cell_type": "code",
   "execution_count": null,
   "metadata": {},
   "outputs": [],
   "source": [
    "#access_racetable.hist('');"
   ]
  },
  {
   "cell_type": "markdown",
   "metadata": {},
   "source": [
    "##  <font color=goldenrod>Run spatial analysis on the amount of people distributed within a census block group against the quarter mile park buffer area and the income census data</font>"
   ]
  },
  {
   "cell_type": "code",
   "execution_count": null,
   "metadata": {},
   "outputs": [],
   "source": [
    "income.columns"
   ]
  },
  {
   "cell_type": "code",
   "execution_count": null,
   "metadata": {},
   "outputs": [],
   "source": [
    "ip_intersection = gpd.overlay(income, quartbuff, how='intersection') #https://geopandas.org/set_operations.html\n",
    "ip_intersection['iarea_intersec'] = ip_intersection['geometry'].area\n",
    "ip_intersection.to_file(wd+\"data/access/ip_intersec_quarterbuff_ACS17.shp\")\n",
    "ip_intersection"
   ]
  },
  {
   "cell_type": "code",
   "execution_count": null,
   "metadata": {},
   "outputs": [],
   "source": [
    "ip_intersection.columns"
   ]
  },
  {
   "cell_type": "code",
   "execution_count": null,
   "metadata": {
    "scrolled": true
   },
   "outputs": [],
   "source": [
    "ip_intersection[['GEOID10','Total_Pop','fullarea_income','LOCATION_N','fullarea_buff','iarea_intersec','geometry']]"
   ]
  },
  {
   "cell_type": "code",
   "execution_count": null,
   "metadata": {},
   "outputs": [],
   "source": [
    "#ip_intersection.columns"
   ]
  },
  {
   "cell_type": "code",
   "execution_count": null,
   "metadata": {},
   "outputs": [],
   "source": [
    "income_clip=ip_intersection.copy().reset_index()\n",
    "\n",
    "for val in income_clip:\n",
    "\n",
    "    income_clip['weight'] = income_clip['iarea_intersec']/ income_clip['fullarea_income']\n",
    "    \n",
    "    income_clip['Total Pop Served_allincomes'] = income_clip['weight'] * income_clip['Total_Pop']\n",
    "    \n",
    "    income_clip['Less than $25,000'] = ((income_clip['weight'] * income_clip['Less than'])\\\n",
    "                                        +(income_clip['weight'] * income_clip['$10,000 to'])\\\n",
    "                                        +(income_clip['weight'] * income_clip['$15,000 to'])\\\n",
    "                                        +(income_clip['weight'] * income_clip['$20,000 to']))\n",
    "    \n",
    "    income_clip['$25,000 to $49,999'] = ((income_clip['weight'] * income_clip['$25,000 to'])\\\n",
    "                                        +(income_clip['weight'] * income_clip['$30,000 to'])\\\n",
    "                                        +(income_clip['weight'] * income_clip['$35,000 to'])\\\n",
    "                                        +(income_clip['weight'] * income_clip['$40,000 to'])\\\n",
    "                                        +(income_clip['weight'] * income_clip['$45,000 to']))\n",
    "    \n",
    "    income_clip['$50,000 to $74,999'] = ((income_clip['weight'] * income_clip['$50,000 to'])\\\n",
    "                                        +(income_clip['weight'] * income_clip['$60,000 to']))\n",
    "    \n",
    "    income_clip['$75,000 to $99,999'] = (income_clip['weight'] * income_clip['$75,000 to'])\n",
    "    \n",
    "    income_clip['$100,000 to $149,999'] = ((income_clip['weight'] * income_clip['$100,000 t'])\\\n",
    "                                            +(income_clip['weight'] * income_clip['$125,000 t']))\n",
    "    \n",
    "    income_clip['$150,000 or more'] = ((income_clip['weight'] * income_clip['$150,000 t'])\\\n",
    "                                        +(income_clip['weight'] * income_clip['$200,000 o']))\n",
    "    \n",
    "income_clip.head()"
   ]
  },
  {
   "cell_type": "code",
   "execution_count": null,
   "metadata": {},
   "outputs": [],
   "source": [
    "#income_clip.columns"
   ]
  },
  {
   "cell_type": "code",
   "execution_count": null,
   "metadata": {},
   "outputs": [],
   "source": [
    "income_calc = income_clip[['LOCATION_N', 'Total_Pop','Total Pop Served_allincomes', 'Less than $25,000','$25,000 to $49,999',\\\n",
    "                           '$50,000 to $74,999','$75,000 to $99,999','$100,000 to $149,999','$150,000 or more','geometry']]\n",
    "\n",
    "income_access_data = income_calc.dissolve(by='LOCATION_N',as_index=False, aggfunc='sum')"
   ]
  },
  {
   "cell_type": "markdown",
   "metadata": {},
   "source": [
    "##### Combine the park area data to the access data"
   ]
  },
  {
   "cell_type": "code",
   "execution_count": null,
   "metadata": {},
   "outputs": [],
   "source": [
    "income_access_data = income_access_data.merge(parks_, on='LOCATION_N')"
   ]
  },
  {
   "cell_type": "code",
   "execution_count": null,
   "metadata": {},
   "outputs": [],
   "source": [
    "income_access_data"
   ]
  },
  {
   "cell_type": "markdown",
   "metadata": {},
   "source": [
    "##### The population served by parks is nomalized by dividing the population served by the area of the park for which they are being served "
   ]
  },
  {
   "cell_type": "code",
   "execution_count": null,
   "metadata": {},
   "outputs": [],
   "source": [
    "income_access_data['TotalPop_Served_norm'] = income_access_data['Total Pop Served_allincomes']/income_access_data['ASSET_SIZE']\n",
    "income_access_data['Less than $25,000_norm'] = income_access_data['Less than $25,000']/income_access_data['ASSET_SIZE']\n",
    "income_access_data['$25,000 to $49,999_norm'] = income_access_data['$25,000 to $49,999']/income_access_data['ASSET_SIZE']\n",
    "income_access_data['$50,000 to $74,999_norm'] = income_access_data['$50,000 to $74,999']/income_access_data['ASSET_SIZE']\n",
    "income_access_data['$75,000 to $99,999_norm'] = income_access_data['$75,000 to $99,999']/income_access_data['ASSET_SIZE']\n",
    "income_access_data['$100,000 to $149,999_norm'] = income_access_data['$100,000 to $149,999']/income_access_data['ASSET_SIZE']\n",
    "income_access_data['$150,000 or more_norm'] = income_access_data['$150,000 or more']/income_access_data['ASSET_SIZE']\n"
   ]
  },
  {
   "cell_type": "code",
   "execution_count": null,
   "metadata": {},
   "outputs": [],
   "source": [
    "income_access_data.to_file(wd+\"data/access/access_data_income_ACS17.shp\")\n",
    "income_access_data"
   ]
  },
  {
   "cell_type": "markdown",
   "metadata": {},
   "source": [
    "#### A dataframe is created with the 'acess_data' geoshapefile. This dataframe is cleaned up and the values are convereted into integers. Finally, we export the dataframe into a csv file and a shapefile. "
   ]
  },
  {
   "cell_type": "code",
   "execution_count": null,
   "metadata": {},
   "outputs": [],
   "source": [
    "df1 = pd.DataFrame(income_access_data)\n",
    "df1['Park_Name']=df1['LOCATION_N']\n",
    "\n",
    "df1['Total Pop Served_allincomes'] = df1['Total Pop Served_allincomes'].astype(int)\n",
    "df1['TotalPop_Served_norm'] = df1['TotalPop_Served_norm'].astype(int)\n",
    "\n",
    "df1['Less than $25,000'] = df1['Less than $25,000'].astype(int)\n",
    "df1['Less than $25,000_norm'] = df1['Less than $25,000_norm'].astype(int)\n",
    "\n",
    "df1['$25,000 to $49,999'] = df1['$25,000 to $49,999'].astype(int)\n",
    "df1['$25,000 to $49,999_norm'] = df1['$25,000 to $49,999_norm'].astype(int)\n",
    "\n",
    "df1['$50,000 to $74,999'] = df1['$50,000 to $74,999'].astype(int)\n",
    "df1['$50,000 to $74,999_norm'] = df1['$50,000 to $74,999_norm'].astype(int)\n",
    "\n",
    "df1['$75,000 to $99,999'] = df1['$75,000 to $99,999'].astype(int)\n",
    "df1['$75,000 to $99,999_norm'] = df1['$75,000 to $99,999_norm'].astype(int)\n",
    "\n",
    "df1['$100,000 to $149,999'] = df1['$100,000 to $149,999'].astype(int)\n",
    "df1['$100,000 to $149,999_norm'] = df1['$100,000 to $149,999_norm'].astype(int)\n",
    "\n",
    "df1['$150,000 or more'] = df1['$150,000 or more'].astype(int)\n",
    "df1['$150,000 or more_norm'] = df1['$150,000 or more_norm'].astype(int)\n"
   ]
  },
  {
   "cell_type": "code",
   "execution_count": null,
   "metadata": {},
   "outputs": [],
   "source": [
    "access_income_final = df1.copy()\n",
    "access_income_final = gpd.GeoDataFrame(access_income_final, geometry='geometry')\n",
    "access_income_final.to_file(wd+\"data/access/access_income_final_ACS17.shp\")\n",
    "access_income_final.head()"
   ]
  },
  {
   "cell_type": "code",
   "execution_count": null,
   "metadata": {},
   "outputs": [],
   "source": [
    "access_incometable = df.drop(columns=['access_by_income_TotalPop','geometry'])\n",
    "access_incometable.to_csv(wd+\"data/access/access_table_income_ACS17.csv\")\n",
    "access_incometable.head()"
   ]
  },
  {
   "cell_type": "code",
   "execution_count": null,
   "metadata": {},
   "outputs": [],
   "source": [
    "access_income_stats = access_incometable.describe()\n",
    "access_income_stats.to_csv(wd+\"data/access/access_stats_income_ACS17.csv\")\n",
    "access_income_stats"
   ]
  },
  {
   "cell_type": "markdown",
   "metadata": {},
   "source": [
    "## <font color=peru>Run spatial analysis on the amount of people distributed within a census block group against the quarter mile park buffer area and the age/sex census data</font>"
   ]
  },
  {
   "cell_type": "code",
   "execution_count": null,
   "metadata": {},
   "outputs": [],
   "source": [
    "age_intersection = gpd.overlay(age, quartbuff, how='intersection') #https://geopandas.org/set_operations.html\n",
    "age_intersection['agearea_intersec'] = age_intersection['geometry'].area\n",
    "age_intersection.to_file(wd+\"data/access/age_intersec_quarterbuff_ACS17.shp\")\n",
    "\n",
    "age_intersection"
   ]
  },
  {
   "cell_type": "code",
   "execution_count": null,
   "metadata": {},
   "outputs": [],
   "source": [
    "age_intersec=age_intersection.drop(['GLOBALID', 'CREATED_BY', 'CREATED_DA', 'MODIFIED_B', 'MODIFIED_D',\n",
    "       'Shape__Are', 'Shape__Len', 'fullarea_buff','MXASSETNUM', 'MXLOCATION', 'MXSITEID', 'MXCREATION', 'MXSTATUS',\n",
    "       'MXCONDITIO', 'MXPRIORITY', 'MXLOADID'], axis=1)"
   ]
  },
  {
   "cell_type": "code",
   "execution_count": null,
   "metadata": {},
   "outputs": [],
   "source": [
    "age_intersec.columns"
   ]
  },
  {
   "cell_type": "code",
   "execution_count": null,
   "metadata": {
    "scrolled": true
   },
   "outputs": [],
   "source": [
    "age_intersection[['GEOID10','Total_pop_','fullarea_age','LOCATION_N','fullarea_buff','agearea_intersec','geometry']]"
   ]
  },
  {
   "cell_type": "code",
   "execution_count": null,
   "metadata": {},
   "outputs": [],
   "source": [
    "age_intersec.columns"
   ]
  },
  {
   "cell_type": "code",
   "execution_count": null,
   "metadata": {},
   "outputs": [],
   "source": [
    "age_clip=age_intersec.copy().reset_index()\n",
    "\n",
    "for val in age_clip:\n",
    "\n",
    "    age_clip['weight'] = age_clip['agearea_intersec']/ age_clip['fullarea_age']\n",
    "    \n",
    "    age_clip['Totalpop_served'] = age_clip['weight'] * age_clip['Total_pop_']\n",
    "    age_clip['Males_served'] = age_clip['weight'] * age_clip['Male']\n",
    "    age_clip['Males_served_Under5'] = age_clip['weight'] * age_clip['Male_Under']\n",
    "    age_clip['Males_served_Under18'] = age_clip['weight'] * age_clip['Male_Und_1']\n",
    "    age_clip['Males_served_Over65'] = age_clip['weight'] * age_clip['Male_Over6']\n",
    "    \n",
    "    age_clip['Females_served'] = age_clip['weight'] * age_clip['Female_']\n",
    "    age_clip['Females_served_Under5'] = age_clip['weight'] * age_clip['Female_Und']\n",
    "    age_clip['Females_served_Under18'] = age_clip['weight'] * age_clip['Female_U_1']\n",
    "    age_clip['Females_served_Over65'] = age_clip['weight'] * age_clip['Female_Ove']\n",
    "        \n",
    "age_clip.head()"
   ]
  },
  {
   "cell_type": "code",
   "execution_count": null,
   "metadata": {},
   "outputs": [],
   "source": [
    "#income_clip.columns"
   ]
  },
  {
   "cell_type": "code",
   "execution_count": null,
   "metadata": {},
   "outputs": [],
   "source": [
    "age_calc = age_clip[['LOCATION_N','Total_pop_', 'Totalpop_served', 'Males_served','Males_served_Under5','Males_served_Under18',\\\n",
    "                     'Males_served_Over65','Females_served','Females_served_Under5','Females_served_Under18',\\\n",
    "                     'Females_served_Over65','geometry']]\n",
    "\n",
    "age_access_data = age_calc.dissolve(by='LOCATION_N',as_index=False, aggfunc='sum')"
   ]
  },
  {
   "cell_type": "markdown",
   "metadata": {},
   "source": [
    "##### Combine the park area data to the access data"
   ]
  },
  {
   "cell_type": "code",
   "execution_count": null,
   "metadata": {},
   "outputs": [],
   "source": [
    "age_access_data = age_access_data.merge(parks_, on='LOCATION_N')"
   ]
  },
  {
   "cell_type": "code",
   "execution_count": null,
   "metadata": {},
   "outputs": [],
   "source": [
    "age_access_data"
   ]
  },
  {
   "cell_type": "code",
   "execution_count": null,
   "metadata": {},
   "outputs": [],
   "source": [
    "age_access_data.columns"
   ]
  },
  {
   "cell_type": "markdown",
   "metadata": {},
   "source": [
    "##### The population served by parks is nomalized by dividing the population served by the area of the park for which they are being served "
   ]
  },
  {
   "cell_type": "code",
   "execution_count": null,
   "metadata": {},
   "outputs": [],
   "source": [
    "age_access_data['Totalpop_served_norm'] = age_access_data['Totalpop_served']/age_access_data['ASSET_SIZE']\n",
    "age_access_data['Males_served_norm'] = age_access_data['Males_served']/age_access_data['ASSET_SIZE']\n",
    "age_access_data['Males_served_Under5_norm'] = age_access_data['Males_served_Under5']/age_access_data['ASSET_SIZE']\n",
    "age_access_data['Males_served_Under18_norm'] = age_access_data['Males_served_Under18']/age_access_data['ASSET_SIZE']\n",
    "age_access_data['Males_served_Over65_norm'] = age_access_data['Males_served_Over65']/age_access_data['ASSET_SIZE']\n",
    "\n",
    "age_access_data['Females_served_norm'] = age_access_data['Females_served']/age_access_data['ASSET_SIZE']\n",
    "age_access_data['Females_served_Under5_norm'] = age_access_data['Females_served_Under5']/age_access_data['ASSET_SIZE']\n",
    "age_access_data['Females_served_Under18_norm'] = age_access_data['Females_served_Under18']/age_access_data['ASSET_SIZE']\n",
    "age_access_data['Females_served_Over65_norm'] = age_access_data['Females_served_Over65']/age_access_data['ASSET_SIZE']\n",
    "\n",
    "age_access_data['Under5_served'] = age_access_data['Males_served_Under5'] + age_access_data['Females_served_Under5']\n",
    "age_access_data['Under5_served_norm'] = age_access_data['Under5_served']/age_access_data['ASSET_SIZE']\n",
    "\n",
    "age_access_data['Under18_served'] = age_access_data['Males_served_Under18'] + age_access_data['Females_served_Under18']\n",
    "age_access_data['Under18_served_norm'] = age_access_data['Under18_served']/age_access_data['ASSET_SIZE']\n",
    "\n",
    "age_access_data['Over65_served'] = age_access_data['Males_served_Over65'] + age_access_data['Females_served_Over65']\n",
    "age_access_data['Over65_served_norm'] = age_access_data['Over65_served']/age_access_data['ASSET_SIZE']"
   ]
  },
  {
   "cell_type": "code",
   "execution_count": null,
   "metadata": {},
   "outputs": [],
   "source": [
    "age_access_data.to_file(wd+\"data/access/access_data_age_sex_ACS17.shp\")\n",
    "age_access_data"
   ]
  },
  {
   "cell_type": "markdown",
   "metadata": {},
   "source": [
    "#### A dataframe is created with the 'acess_data' geoshapefile. This dataframe is cleaned up and the values are convereted into integers. Finally, we export the dataframe into a csv file and a shapefile. "
   ]
  },
  {
   "cell_type": "code",
   "execution_count": null,
   "metadata": {},
   "outputs": [],
   "source": [
    "age_access_data.columns"
   ]
  },
  {
   "cell_type": "code",
   "execution_count": null,
   "metadata": {},
   "outputs": [],
   "source": [
    "df = pd.DataFrame(age_access_data)\n",
    "df['Park_Name']=df['LOCATION_N']\n",
    "\n",
    "df['Totalpop_served'] = df['Totalpop_served'].astype(int)\n",
    "df['Totalpop_served_norm'] = df['Totalpop_served_norm'].astype(int)\n",
    "\n",
    "df['Males_served'] = df['Males_served'].astype(int)\n",
    "df['Males_served_norm'] = df['Males_served_norm'].astype(int)\n",
    "\n",
    "df['Males_served_Under5'] = df['Males_served_Under5'].astype(int)\n",
    "df['Males_served_Under5_norm'] = df['Males_served_Under5_norm'].astype(int)\n",
    "\n",
    "df['Males_served_Under18'] = df['Males_served_Under18'].astype(int)\n",
    "df['Males_served_Under18_norm'] = df['Males_served_Under18_norm'].astype(int)\n",
    "\n",
    "df['Males_served_Over65'] = df['Males_served_Over65'].astype(int)\n",
    "df['Males_served_Over65_norm'] = df['Males_served_Over65_norm'].astype(int)\n",
    "\n",
    "df['Females_served'] = df['Females_served'].astype(int)\n",
    "df['Females_served_norm'] = df['Females_served_norm'].astype(int)\n",
    "\n",
    "df['Females_served_Under5'] = df['Females_served_Under5'].astype(int)\n",
    "df['Females_served_Under5_norm'] = df['Females_served_Under5_norm'].astype(int)\n",
    "\n",
    "df['Females_served_Under18'] = df['Females_served_Under18'].astype(int)\n",
    "df['Females_served_Under18_norm'] = df['Females_served_Under18_norm'].astype(int)\n",
    "\n",
    "df['Females_served_Over65'] = df['Females_served_Over65'].astype(int)\n",
    "df['Females_served_Over65_norm'] = df['Females_served_Over65_norm'].astype(int)\n",
    "\n",
    "df['Under5_served'] = df['Under5_served'].astype(int)\n",
    "df['Under5_served_norm'] = df['Under5_served_norm'].astype(int)\n",
    "\n",
    "df['Under18_served'] = df['Under18_served'].astype(int)\n",
    "df['Under18_served_norm'] = df['Under18_served_norm'].astype(int)\n",
    "\n",
    "df['Over65_served'] = df['Over65_served'].astype(int)\n",
    "df['Over65_served_norm'] = df['Over65_served_norm'].astype(int)\n"
   ]
  },
  {
   "cell_type": "code",
   "execution_count": null,
   "metadata": {},
   "outputs": [],
   "source": [
    "df.columns"
   ]
  },
  {
   "cell_type": "code",
   "execution_count": null,
   "metadata": {},
   "outputs": [],
   "source": [
    "access_age_final = df.copy()\n",
    "access_age_final = gpd.GeoDataFrame(access_age_final, geometry='geometry')\n",
    "access_age_final.to_file(wd+\"data/access/access_age_final_ACS17.shp\")\n",
    "access_age_final.head()"
   ]
  },
  {
   "cell_type": "code",
   "execution_count": null,
   "metadata": {},
   "outputs": [],
   "source": [
    "access_agetable = df.drop(columns=['geometry'])\n",
    "access_agetable.to_csv(wd+\"data/access/access_table_age_ACS17.csv\")\n",
    "access_agetable.head()"
   ]
  },
  {
   "cell_type": "code",
   "execution_count": null,
   "metadata": {},
   "outputs": [],
   "source": [
    "access_age_stats = access_agetable.describe()\n",
    "#access_age_stats.to_csv(wd+\"data/access/access_stats_age_ACS17.csv\")\n",
    "access_age_stats"
   ]
  },
  {
   "cell_type": "code",
   "execution_count": null,
   "metadata": {},
   "outputs": [],
   "source": [
    "import numpy as np"
   ]
  },
  {
   "cell_type": "code",
   "execution_count": null,
   "metadata": {},
   "outputs": [],
   "source": [
    "age_median = access_agetable.median()\n",
    "age_median"
   ]
  },
  {
   "cell_type": "code",
   "execution_count": null,
   "metadata": {},
   "outputs": [],
   "source": [
    "descr = access_age_stats.aggregate([np.median, np.std, np.mean]).reset_index()\n",
    "descr = pd.Series( access_age_stats, index=descr.index)\n",
    "descr"
   ]
  },
  {
   "cell_type": "code",
   "execution_count": null,
   "metadata": {},
   "outputs": [],
   "source": []
  },
  {
   "cell_type": "code",
   "execution_count": null,
   "metadata": {},
   "outputs": [],
   "source": []
  },
  {
   "cell_type": "markdown",
   "metadata": {},
   "source": [
    "### END OF CODE"
   ]
  }
 ],
 "metadata": {
  "kernelspec": {
   "display_name": "Python 3",
   "language": "python",
   "name": "python3"
  },
  "language_info": {
   "codemirror_mode": {
    "name": "ipython",
    "version": 3
   },
   "file_extension": ".py",
   "mimetype": "text/x-python",
   "name": "python",
   "nbconvert_exporter": "python",
   "pygments_lexer": "ipython3",
   "version": "3.7.4"
  }
 },
 "nbformat": 4,
 "nbformat_minor": 2
}
