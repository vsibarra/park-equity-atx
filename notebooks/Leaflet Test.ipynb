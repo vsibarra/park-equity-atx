{
 "cells": [
  {
   "cell_type": "code",
   "execution_count": 43,
   "metadata": {},
   "outputs": [],
   "source": [
    "import geopandas as gpd\n",
    "import pandas as pd\n",
    "import os\n",
    "import getpass\n",
    "import matplotlib.pyplot as plt\n",
    "import re\n",
    "import ipyleaflet as ipy \n",
    "import json"
   ]
  },
  {
   "cell_type": "code",
   "execution_count": 33,
   "metadata": {},
   "outputs": [],
   "source": [
    "wd = os.getcwd()\n",
    "wd = wd[:wd.find('notebooks')]"
   ]
  },
  {
   "cell_type": "code",
   "execution_count": 63,
   "metadata": {},
   "outputs": [],
   "source": [
    "#landuse = gpd.read_file(wd+\\\"data//\")\n",
    "acl = gpd.read_file(wd+\"data/fulljurisdiction/austincitylimits.shp\")\n",
    "acl.to_file(\"acl2.geojson\", driver='GeoJSON')\n",
    "acl2 = gpd.read_file(\"acl2.geojson\")\n",
    "acl2.crs = {'init': 'epsg:4326'}\n",
    "\n",
    "cbg = gpd.read_file(wd+\"data/censusblockgroups/cbg.shp\")\n",
    "pop = pd.read_excel(wd+\"data/censustables/ACS_17_5yr_totalpop_allcounties.xlsx\")\n",
    "race = pd.read_excel(wd+\"data/censustables/ACS_17_5yr_race_includinglatinx.xlsx\")\n",
    "halfbuf = gpd.read_file(wd+\"data/coaparks_buffer/halfbuff.shp\")\n",
    "\n",
    "quarbuf = gpd.read_file(wd+\"data/coaparks_buffer/quarterbuff.shp\")\n",
    "varibuf = gpd.read_file(wd+\"data/coaparks_buffer/varibuff.shp\")\n",
    "parks = gpd.read_file(\"https://data.austintexas.gov/api/geospatial/8f2b-a4q5?method=export&format=GeoJSON\")"
   ]
  },
  {
   "cell_type": "code",
   "execution_count": 35,
   "metadata": {},
   "outputs": [],
   "source": [
    "m = ipy.Map(center=(30.26,-97.74), zoom = 10, basemap= ipy.basemaps.Esri.WorldTopoMap)"
   ]
  },
  {
   "cell_type": "code",
   "execution_count": 66,
   "metadata": {},
   "outputs": [
    {
     "data": {
      "application/vnd.jupyter.widget-view+json": {
       "model_id": "a48ac17248474ef39d01c2b6bb5b0181",
       "version_major": 2,
       "version_minor": 0
      },
      "text/plain": [
       "Map(basemap={'url': 'http://server.arcgisonline.com/ArcGIS/rest/services/World_Topo_Map/MapServer/tile/{z}/{y}…"
      ]
     },
     "metadata": {},
     "output_type": "display_data"
    }
   ],
   "source": [
    "acl_data = ipy.GeoData(geo_dataframe = acl2,\n",
    "                       style={'color': 'purple', 'opacity':1, 'weight':5, 'dashArray':'2', 'fillOpacity':0.6},\n",
    "                       hover_style={'fillColor': 'red' , 'fillOpacity': 0.2},\n",
    "                       name = 'Austin City Limits')\n",
    "\n",
    "halfbuf_data = ipy.GeoData(geo_dataframe = halfbuf,\n",
    "                       style={'color': 'black', 'fillColor': '#ffaa00', 'opacity':1, 'weight':1.9, 'dashArray':'2', 'fillOpacity':0.6},\n",
    "                       hover_style={'fillColor': 'red' , 'fillOpacity': 0.2},\n",
    "                       name = 'Half Mile Buffer')\n",
    "\n",
    "\n",
    "park_data = ipy.GeoData(geo_dataframe = parks,\n",
    "                       style={'color': 'black', 'fillColor': '#a1cc33', 'opacity':1, 'weight':1.9, 'dashArray':'2', 'fillOpacity':0.6},\n",
    "                       hover_style={'fillColor': 'red' , 'fillOpacity': 0.2},\n",
    "                       name = 'Parks')\n",
    "\n",
    "\n",
    "m.add_layer(acl_data)\n",
    "m.add_layer(park_data)\n",
    "m.add_layer(halfbuf_data)\n",
    "m.add_control(ipy.LayersControl())\n",
    "m"
   ]
  },
  {
   "cell_type": "code",
   "execution_count": null,
   "metadata": {},
   "outputs": [],
   "source": []
  }
 ],
 "metadata": {
  "kernelspec": {
   "display_name": "Python 3",
   "language": "python",
   "name": "python3"
  },
  "language_info": {
   "codemirror_mode": {
    "name": "ipython",
    "version": 3
   },
   "file_extension": ".py",
   "mimetype": "text/x-python",
   "name": "python",
   "nbconvert_exporter": "python",
   "pygments_lexer": "ipython3",
   "version": "3.7.3"
  }
 },
 "nbformat": 4,
 "nbformat_minor": 2
}
