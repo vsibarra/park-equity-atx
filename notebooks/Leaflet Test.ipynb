{
 "cells": [
  {
   "cell_type": "code",
   "execution_count": 1,
   "metadata": {},
   "outputs": [],
   "source": [
    "import geopandas as gpd\n",
    "import pandas as pd\n",
    "import os\n",
    "import getpass\n",
    "import matplotlib.pyplot as plt\n",
    "import re\n",
    "import ipyleaflet as ipy \n",
    "import json"
   ]
  },
  {
   "cell_type": "code",
   "execution_count": 2,
   "metadata": {},
   "outputs": [],
   "source": [
    "wd = os.getcwd()\n",
    "wd = wd[:wd.find('notebooks')]"
   ]
  },
  {
   "cell_type": "code",
   "execution_count": 3,
   "metadata": {},
   "outputs": [],
   "source": [
    "#landuse = gpd.read_file(wd+\\\"data//\")\n",
    "acl = gpd.read_file(wd+\"data/fulljurisdiction/austincitylimitsgj.geojson\")\n",
    "cbg = gpd.read_file(wd+\"data/censusblockgroups/cbggj.geojson\")\n",
    "pop = pd.read_excel(wd+\"data/censustables/ACS_17_5yr_totalpop_allcounties.xlsx\")\n",
    "race = pd.read_excel(wd+\"data/censustables/ACS_17_5yr_race_includinglatinx.xlsx\")\n",
    "halfbuff = gpd.read_file(wd+\"data/coaparks_buffer/halfbuffgj.geojson\")\n",
    "quarbuff = gpd.read_file(wd+\"data/coaparks_buffer/quarterbuffgj.geojson\")\n",
    "varibuff = gpd.read_file(wd+\"data/coaparks_buffer/varibuffgj.geojson\")\n",
    "parks = gpd.read_file(wd+\"data/coaparks/parkboundaries.geojson\")\n",
    "#parks = gpd.read_file(\"https://data.austintexas.gov/api/geospatial/8f2b-a4q5?method=export&format=GeoJSON\")"
   ]
  },
  {
   "cell_type": "code",
   "execution_count": 4,
   "metadata": {},
   "outputs": [],
   "source": [
    "m = ipy.Map(center=(30.26,-97.74), zoom = 10, basemap= ipy.basemaps.Esri.WorldTopoMap)"
   ]
  },
  {
   "cell_type": "code",
   "execution_count": 5,
   "metadata": {},
   "outputs": [
    {
     "data": {
      "application/vnd.jupyter.widget-view+json": {
       "model_id": "d88cd7a52a844a9686086caaed81d536",
       "version_major": 2,
       "version_minor": 0
      },
      "text/plain": [
       "Map(basemap={'url': 'http://server.arcgisonline.com/ArcGIS/rest/services/World_Topo_Map/MapServer/tile/{z}/{y}…"
      ]
     },
     "metadata": {},
     "output_type": "display_data"
    }
   ],
   "source": [
    "\n",
    "\n",
    "quarbuf_data = ipy.GeoData(geo_dataframe = quarbuff,\n",
    "                       style={'color': 'black', 'fillColor': '#eb0c0c', 'opacity':0.5, 'weight':1, 'dashArray':'2', 'fillOpacity':0.6},\n",
    "                       hover_style={'fillColor': 'red' , 'fillOpacity': 0.2},\n",
    "                       name = 'Quarter Mile Buffer')\n",
    "\n",
    "halfbuf_data = ipy.GeoData(geo_dataframe = halfbuff,\n",
    "                       style={'color': 'black', 'fillColor': '#ffaa00', 'opacity':0.5, 'weight':1, 'dashArray':'2', 'fillOpacity':0.6},\n",
    "                       hover_style={'fillColor': 'red' , 'fillOpacity': 0.2},\n",
    "                       name = 'Half Mile Buffer')\n",
    "\n",
    "varibuf_data = ipy.GeoData(geo_dataframe = varibuff,\n",
    "                       style={'color': 'black', 'fillColor': '#fcf800', 'opacity':0.5, 'weight':1, 'dashArray':'2', 'fillOpacity':0.6},\n",
    "                       hover_style={'fillColor': 'red' , 'fillOpacity': 0.2},\n",
    "                       name = 'Variable Mile Buffer')\n",
    "\n",
    "park_data = ipy.GeoData(geo_dataframe = parks,\n",
    "                       style={'color': 'black', 'fillColor': '#5c8000', 'opacity':1, 'weight':1, 'dashArray':'2', 'fillOpacity':0.6},\n",
    "                       name = 'Parks')\n",
    "\n",
    "#acl_data = ipy.GeoData(geo_dataframe = acl,\n",
    "                      # style={'color': 'white', 'opacity':0.05, 'weight':5, 'dashArray':'2', 'fillOpacity':0.6},\n",
    "                       #name = 'Austin City Limits')\n",
    "#m.add_layer(acl_data)\n",
    "\n",
    "m.add_layer(varibuf_data)\n",
    "m.add_layer(halfbuf_data)\n",
    "m.add_layer(quarbuf_data)\n",
    "m.add_layer(park_data)\n",
    "\n",
    "m.add_control(ipy.LayersControl())\n",
    "m"
   ]
  },
  {
   "cell_type": "code",
   "execution_count": null,
   "metadata": {},
   "outputs": [],
   "source": []
  }
 ],
 "metadata": {
  "kernelspec": {
   "display_name": "Python 3",
   "language": "python",
   "name": "python3"
  },
  "language_info": {
   "codemirror_mode": {
    "name": "ipython",
    "version": 3
   },
   "file_extension": ".py",
   "mimetype": "text/x-python",
   "name": "python",
   "nbconvert_exporter": "python",
   "pygments_lexer": "ipython3",
   "version": "3.7.3"
  }
 },
 "nbformat": 4,
 "nbformat_minor": 2
}
