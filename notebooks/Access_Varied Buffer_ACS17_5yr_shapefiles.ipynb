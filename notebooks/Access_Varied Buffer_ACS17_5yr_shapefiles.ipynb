{
 "cells": [
  {
   "cell_type": "code",
   "execution_count": 1,
   "metadata": {},
   "outputs": [],
   "source": [
    "import geopandas as gpd\n",
    "import pandas as pd\n",
    "import os\n",
    "import getpass\n",
    "import matplotlib.pyplot as plt"
   ]
  },
  {
   "cell_type": "markdown",
   "metadata": {},
   "source": [
    "### NOTES:\n"
   ]
  },
  {
   "cell_type": "markdown",
   "metadata": {},
   "source": [
    "###### Bring in necessary geojson files and set your projection for all files"
   ]
  },
  {
   "cell_type": "code",
   "execution_count": 2,
   "metadata": {},
   "outputs": [],
   "source": [
    "wd = os.getcwd()\n",
    "wd = wd[:wd.find('notebooks')]\n",
    "\n",
    "#crs is set for Central Texas; https://epsg.io/6578; \n",
    "crs =  {'init' :'epsg:6578'}\n",
    "\n",
    "parks = gpd.read_file(wd+\"data/coaparks/parkboundaries.geojson\")\n",
    "parks = parks.to_crs(crs).explode().reset_index()\n",
    "\n",
    "varibuff = gpd.read_file(wd+\"data/coaparks_buffer/varibuff.shp\")\n",
    "varibuff.crs={'init' :'epsg:6578'}\n",
    "\n",
    "pop = gpd.read_file(wd+\"data/blockgroups_censusdata/popmerge.shp\")\n",
    "pop = pop.to_crs(crs).reset_index()\n",
    "\n",
    "race = gpd.read_file(wd+\"data/blockgroups_censusdata/racemerge.shp\")\n",
    "race = race.to_crs(crs).reset_index()\n",
    "\n",
    "income = gpd.read_file(wd+\"data/blockgroups_censusdata/incomemerge.shp\")\n",
    "income = income.to_crs(crs).reset_index()\n",
    "\n",
    "age = gpd.read_file(wd+\"data/blockgroups_censusdata/agemerge.shp\")\n",
    "age = age.to_crs(crs).reset_index()\n"
   ]
  },
  {
   "cell_type": "markdown",
   "metadata": {},
   "source": [
    "##### Check your projections\n",
    "https://geopandas.org/projections.html"
   ]
  },
  {
   "cell_type": "code",
   "execution_count": 3,
   "metadata": {},
   "outputs": [],
   "source": [
    "#varibuff.crs"
   ]
  },
  {
   "cell_type": "code",
   "execution_count": 4,
   "metadata": {},
   "outputs": [],
   "source": [
    "#pop.crs"
   ]
  },
  {
   "cell_type": "code",
   "execution_count": 5,
   "metadata": {},
   "outputs": [],
   "source": [
    "#race.crs"
   ]
  },
  {
   "cell_type": "code",
   "execution_count": 6,
   "metadata": {},
   "outputs": [],
   "source": [
    "#age.crs"
   ]
  },
  {
   "cell_type": "markdown",
   "metadata": {},
   "source": [
    "###### Preview the files and clean the data"
   ]
  },
  {
   "cell_type": "code",
   "execution_count": 7,
   "metadata": {
    "scrolled": true
   },
   "outputs": [],
   "source": [
    "pop['fullarea_pop'] = pop['geometry'].area\n",
    "#pop.head()"
   ]
  },
  {
   "cell_type": "code",
   "execution_count": 8,
   "metadata": {
    "scrolled": true
   },
   "outputs": [],
   "source": [
    "race['fullarea_race'] = race['geometry'].area\n",
    "#race.head()"
   ]
  },
  {
   "cell_type": "code",
   "execution_count": 9,
   "metadata": {},
   "outputs": [],
   "source": [
    "income['fullarea_income'] = income['geometry'].area\n",
    "#income.head()"
   ]
  },
  {
   "cell_type": "code",
   "execution_count": 10,
   "metadata": {},
   "outputs": [],
   "source": [
    "age['fullarea_age'] = age['geometry'].area\n",
    "#age.head()"
   ]
  },
  {
   "cell_type": "code",
   "execution_count": 11,
   "metadata": {},
   "outputs": [],
   "source": [
    "varibuff['fullarea_buff'] = varibuff['geometry'].area\n",
    "#varibuff.head()"
   ]
  },
  {
   "cell_type": "markdown",
   "metadata": {},
   "source": [
    "### Run spatial analysis using 'difference' to calculate who is not served by a park"
   ]
  },
  {
   "cell_type": "code",
   "execution_count": 27,
   "metadata": {},
   "outputs": [],
   "source": [
    "park_dif = parks.copy()\n",
    "vbuff = varibuff.copy().explode()\n",
    "race_dif = race.copy()\n",
    "income_dif = income.copy()\n",
    "age_dif = age.copy()\n",
    "\n",
    "race_difference = gpd.overlay(race_dif, park_dif, how='difference')\n",
    "income_difference = gpd.overlay(income_dif, park_dif, how='difference')\n",
    "age_difference = gpd.overlay(age_dif, park_dif, how='difference')"
   ]
  },
  {
   "cell_type": "code",
   "execution_count": 29,
   "metadata": {},
   "outputs": [
    {
     "data": {
      "text/html": [
       "<div>\n",
       "<style scoped>\n",
       "    .dataframe tbody tr th:only-of-type {\n",
       "        vertical-align: middle;\n",
       "    }\n",
       "\n",
       "    .dataframe tbody tr th {\n",
       "        vertical-align: top;\n",
       "    }\n",
       "\n",
       "    .dataframe thead th {\n",
       "        text-align: right;\n",
       "    }\n",
       "</style>\n",
       "<table border=\"1\" class=\"dataframe\">\n",
       "  <thead>\n",
       "    <tr style=\"text-align: right;\">\n",
       "      <th></th>\n",
       "      <th></th>\n",
       "      <th>ASSET_MGMT</th>\n",
       "      <th>LOCATION_N</th>\n",
       "      <th>ADDRESS</th>\n",
       "      <th>CITY_MUNIC</th>\n",
       "      <th>COUNTY</th>\n",
       "      <th>STATE</th>\n",
       "      <th>STREET_NUM</th>\n",
       "      <th>STREET_NAM</th>\n",
       "      <th>STREET_TYP</th>\n",
       "      <th>ZIPCODE</th>\n",
       "      <th>...</th>\n",
       "      <th>MXLOADID</th>\n",
       "      <th>GLOBALID</th>\n",
       "      <th>CREATED_BY</th>\n",
       "      <th>CREATED_DA</th>\n",
       "      <th>MODIFIED_B</th>\n",
       "      <th>MODIFIED_D</th>\n",
       "      <th>Shape__Are</th>\n",
       "      <th>Shape__Len</th>\n",
       "      <th>fullarea_buff</th>\n",
       "      <th>geometry</th>\n",
       "    </tr>\n",
       "  </thead>\n",
       "  <tbody>\n",
       "    <tr>\n",
       "      <th>0</th>\n",
       "      <th>0</th>\n",
       "      <td>412</td>\n",
       "      <td>Stratford Overlook Greenbelt</td>\n",
       "      <td>3006 Stratford Dr., Austin, Texas 78746</td>\n",
       "      <td>Austin</td>\n",
       "      <td>Travis</td>\n",
       "      <td>TX</td>\n",
       "      <td>3006</td>\n",
       "      <td>Stratford</td>\n",
       "      <td>Dr.</td>\n",
       "      <td>78746</td>\n",
       "      <td>...</td>\n",
       "      <td>None</td>\n",
       "      <td>None</td>\n",
       "      <td>CTM.Publisher</td>\n",
       "      <td>2019-10-12</td>\n",
       "      <td>CTM.Publisher</td>\n",
       "      <td>2019-10-12</td>\n",
       "      <td>4403.261719</td>\n",
       "      <td>420.672106</td>\n",
       "      <td>3.283968e+08</td>\n",
       "      <td>POLYGON ((3093382.105579928 10068110.4697226, ...</td>\n",
       "    </tr>\n",
       "    <tr>\n",
       "      <th>1</th>\n",
       "      <th>0</th>\n",
       "      <td>413</td>\n",
       "      <td>Highland Neighborhood Park</td>\n",
       "      <td>403 W St Johns Ave., Austin, Texas 78752</td>\n",
       "      <td>Austin</td>\n",
       "      <td>Travis</td>\n",
       "      <td>TX</td>\n",
       "      <td>403</td>\n",
       "      <td>W St Johns</td>\n",
       "      <td>Ave.</td>\n",
       "      <td>78752</td>\n",
       "      <td>...</td>\n",
       "      <td>None</td>\n",
       "      <td>None</td>\n",
       "      <td>CTM.Publisher</td>\n",
       "      <td>2019-10-12</td>\n",
       "      <td>CTM.Publisher</td>\n",
       "      <td>2019-10-12</td>\n",
       "      <td>10487.996094</td>\n",
       "      <td>422.279483</td>\n",
       "      <td>6.005148e+06</td>\n",
       "      <td>POLYGON ((3122096.607847079 10096622.97796875,...</td>\n",
       "    </tr>\n",
       "    <tr>\n",
       "      <th>2</th>\n",
       "      <th>0</th>\n",
       "      <td>354</td>\n",
       "      <td>Palma Plaza Pocket Park</td>\n",
       "      <td>1524 Palma Plz., Austin, Texas 78703</td>\n",
       "      <td>Austin</td>\n",
       "      <td>Travis</td>\n",
       "      <td>TX</td>\n",
       "      <td>1524</td>\n",
       "      <td>Palma</td>\n",
       "      <td>Plz</td>\n",
       "      <td>78703</td>\n",
       "      <td>...</td>\n",
       "      <td>None</td>\n",
       "      <td>None</td>\n",
       "      <td>CTM.Publisher</td>\n",
       "      <td>2019-10-12</td>\n",
       "      <td>CTM.Publisher</td>\n",
       "      <td>2019-10-12</td>\n",
       "      <td>10076.777344</td>\n",
       "      <td>492.661534</td>\n",
       "      <td>5.758054e+06</td>\n",
       "      <td>POLYGON ((3110880.480735413 10075707.57567622,...</td>\n",
       "    </tr>\n",
       "    <tr>\n",
       "      <th>3</th>\n",
       "      <th>0</th>\n",
       "      <td>398</td>\n",
       "      <td>Oertli Neighborhood Park</td>\n",
       "      <td>12613 Blaine Rd., Austin, Texas 78753</td>\n",
       "      <td>Austin</td>\n",
       "      <td>Travis</td>\n",
       "      <td>TX</td>\n",
       "      <td>12613</td>\n",
       "      <td>Blaine</td>\n",
       "      <td>Rd.</td>\n",
       "      <td>78753</td>\n",
       "      <td>...</td>\n",
       "      <td>None</td>\n",
       "      <td>None</td>\n",
       "      <td>CTM.Publisher</td>\n",
       "      <td>2019-10-12</td>\n",
       "      <td>CTM.Publisher</td>\n",
       "      <td>2019-10-12</td>\n",
       "      <td>267188.275391</td>\n",
       "      <td>2404.916487</td>\n",
       "      <td>9.878700e+07</td>\n",
       "      <td>POLYGON ((3139954.891922666 10112725.14427203,...</td>\n",
       "    </tr>\n",
       "    <tr>\n",
       "      <th>4</th>\n",
       "      <th>0</th>\n",
       "      <td>364</td>\n",
       "      <td>Peace Point at Town Lake Metro Park</td>\n",
       "      <td>2200 S Lakeshore Blvd., Austin, Texas 78741</td>\n",
       "      <td>Austin</td>\n",
       "      <td>Travis</td>\n",
       "      <td>TX</td>\n",
       "      <td>2200</td>\n",
       "      <td>S Lakeshore</td>\n",
       "      <td>Blvd</td>\n",
       "      <td>78741</td>\n",
       "      <td>...</td>\n",
       "      <td>None</td>\n",
       "      <td>None</td>\n",
       "      <td>CTM.Publisher</td>\n",
       "      <td>2019-10-12</td>\n",
       "      <td>CTM.Publisher</td>\n",
       "      <td>2019-10-12</td>\n",
       "      <td>238128.056641</td>\n",
       "      <td>4343.236948</td>\n",
       "      <td>9.320615e+07</td>\n",
       "      <td>POLYGON ((3125344.080527302 10059285.06139334,...</td>\n",
       "    </tr>\n",
       "  </tbody>\n",
       "</table>\n",
       "<p>5 rows × 55 columns</p>\n",
       "</div>"
      ],
      "text/plain": [
       "    ASSET_MGMT                           LOCATION_N  \\\n",
       "0 0        412         Stratford Overlook Greenbelt   \n",
       "1 0        413           Highland Neighborhood Park   \n",
       "2 0        354              Palma Plaza Pocket Park   \n",
       "3 0        398             Oertli Neighborhood Park   \n",
       "4 0        364  Peace Point at Town Lake Metro Park   \n",
       "\n",
       "                                         ADDRESS CITY_MUNIC  COUNTY STATE  \\\n",
       "0 0      3006 Stratford Dr., Austin, Texas 78746     Austin  Travis    TX   \n",
       "1 0     403 W St Johns Ave., Austin, Texas 78752     Austin  Travis    TX   \n",
       "2 0         1524 Palma Plz., Austin, Texas 78703     Austin  Travis    TX   \n",
       "3 0        12613 Blaine Rd., Austin, Texas 78753     Austin  Travis    TX   \n",
       "4 0  2200 S Lakeshore Blvd., Austin, Texas 78741     Austin  Travis    TX   \n",
       "\n",
       "    STREET_NUM   STREET_NAM STREET_TYP ZIPCODE  ...  MXLOADID GLOBALID  \\\n",
       "0 0       3006    Stratford        Dr.   78746  ...      None     None   \n",
       "1 0        403   W St Johns       Ave.   78752  ...      None     None   \n",
       "2 0       1524        Palma        Plz   78703  ...      None     None   \n",
       "3 0      12613       Blaine        Rd.   78753  ...      None     None   \n",
       "4 0       2200  S Lakeshore       Blvd   78741  ...      None     None   \n",
       "\n",
       "        CREATED_BY  CREATED_DA     MODIFIED_B  MODIFIED_D     Shape__Are  \\\n",
       "0 0  CTM.Publisher  2019-10-12  CTM.Publisher  2019-10-12    4403.261719   \n",
       "1 0  CTM.Publisher  2019-10-12  CTM.Publisher  2019-10-12   10487.996094   \n",
       "2 0  CTM.Publisher  2019-10-12  CTM.Publisher  2019-10-12   10076.777344   \n",
       "3 0  CTM.Publisher  2019-10-12  CTM.Publisher  2019-10-12  267188.275391   \n",
       "4 0  CTM.Publisher  2019-10-12  CTM.Publisher  2019-10-12  238128.056641   \n",
       "\n",
       "      Shape__Len  fullarea_buff  \\\n",
       "0 0   420.672106   3.283968e+08   \n",
       "1 0   422.279483   6.005148e+06   \n",
       "2 0   492.661534   5.758054e+06   \n",
       "3 0  2404.916487   9.878700e+07   \n",
       "4 0  4343.236948   9.320615e+07   \n",
       "\n",
       "                                              geometry  \n",
       "0 0  POLYGON ((3093382.105579928 10068110.4697226, ...  \n",
       "1 0  POLYGON ((3122096.607847079 10096622.97796875,...  \n",
       "2 0  POLYGON ((3110880.480735413 10075707.57567622,...  \n",
       "3 0  POLYGON ((3139954.891922666 10112725.14427203,...  \n",
       "4 0  POLYGON ((3125344.080527302 10059285.06139334,...  \n",
       "\n",
       "[5 rows x 55 columns]"
      ]
     },
     "execution_count": 29,
     "metadata": {},
     "output_type": "execute_result"
    }
   ],
   "source": [
    "vbuff.head()"
   ]
  },
  {
   "cell_type": "code",
   "execution_count": 30,
   "metadata": {},
   "outputs": [
    {
     "data": {
      "image/png": "[encoded data removed]",
      "text/plain": [
       "<Figure size 720x720 with 1 Axes>"
      ]
     },
     "metadata": {
      "needs_background": "light"
     },
     "output_type": "display_data"
    }
   ],
   "source": [
    "fig, ax = plt.subplots(figsize=(10,10))\n",
    "vbuff.plot(ax = ax, color='red');"
   ]
  },
  {
   "cell_type": "code",
   "execution_count": 32,
   "metadata": {},
   "outputs": [],
   "source": [
    "vbuff_diss = vbuff.dissolve(by='STATE')"
   ]
  },
  {
   "cell_type": "code",
   "execution_count": 33,
   "metadata": {},
   "outputs": [
    {
     "data": {
      "image/png": "[encoded data removed]",
      "text/plain": [
       "<Figure size 720x720 with 1 Axes>"
      ]
     },
     "metadata": {
      "needs_background": "light"
     },
     "output_type": "display_data"
    }
   ],
   "source": [
    "fig, ax = plt.subplots(figsize=(10,10))\n",
    "vbuff_diss.plot(ax = ax, color='red');"
   ]
  },
  {
   "cell_type": "code",
   "execution_count": 34,
   "metadata": {},
   "outputs": [],
   "source": [
    "race_difference = gpd.overlay(race_difference, vbuff_diss, how='difference')\n",
    "income_difference = gpd.overlay(income_difference, vbuff_diss, how='difference')\n",
    "age_difference = gpd.overlay(age_difference, vbuff_diss, how='difference')"
   ]
  },
  {
   "cell_type": "code",
   "execution_count": 35,
   "metadata": {},
   "outputs": [
    {
     "name": "stderr",
     "output_type": "stream",
     "text": [
      "C:\\Users\\Victoria\\Anaconda3\\envs\\park_env\\lib\\site-packages\\ipykernel_launcher.py:3: SettingWithCopyWarning: \n",
      "A value is trying to be set on a copy of a slice from a DataFrame.\n",
      "Try using .loc[row_indexer,col_indexer] = value instead\n",
      "\n",
      "See the caveats in the documentation: http://pandas.pydata.org/pandas-docs/stable/user_guide/indexing.html#returning-a-view-versus-a-copy\n",
      "  This is separate from the ipykernel package so we can avoid doing imports until\n",
      "C:\\Users\\Victoria\\Anaconda3\\envs\\park_env\\lib\\site-packages\\ipykernel_launcher.py:4: SettingWithCopyWarning: \n",
      "A value is trying to be set on a copy of a slice from a DataFrame.\n",
      "Try using .loc[row_indexer,col_indexer] = value instead\n",
      "\n",
      "See the caveats in the documentation: http://pandas.pydata.org/pandas-docs/stable/user_guide/indexing.html#returning-a-view-versus-a-copy\n",
      "  after removing the cwd from sys.path.\n",
      "C:\\Users\\Victoria\\Anaconda3\\envs\\park_env\\lib\\site-packages\\ipykernel_launcher.py:8: SettingWithCopyWarning: \n",
      "A value is trying to be set on a copy of a slice from a DataFrame.\n",
      "Try using .loc[row_indexer,col_indexer] = value instead\n",
      "\n",
      "See the caveats in the documentation: http://pandas.pydata.org/pandas-docs/stable/user_guide/indexing.html#returning-a-view-versus-a-copy\n",
      "  \n",
      "C:\\Users\\Victoria\\Anaconda3\\envs\\park_env\\lib\\site-packages\\ipykernel_launcher.py:10: SettingWithCopyWarning: \n",
      "A value is trying to be set on a copy of a slice from a DataFrame.\n",
      "Try using .loc[row_indexer,col_indexer] = value instead\n",
      "\n",
      "See the caveats in the documentation: http://pandas.pydata.org/pandas-docs/stable/user_guide/indexing.html#returning-a-view-versus-a-copy\n",
      "  # Remove the CWD from sys.path while we load stuff.\n",
      "C:\\Users\\Victoria\\Anaconda3\\envs\\park_env\\lib\\site-packages\\ipykernel_launcher.py:11: SettingWithCopyWarning: \n",
      "A value is trying to be set on a copy of a slice from a DataFrame.\n",
      "Try using .loc[row_indexer,col_indexer] = value instead\n",
      "\n",
      "See the caveats in the documentation: http://pandas.pydata.org/pandas-docs/stable/user_guide/indexing.html#returning-a-view-versus-a-copy\n",
      "  # This is added back by InteractiveShellApp.init_path()\n",
      "C:\\Users\\Victoria\\Anaconda3\\envs\\park_env\\lib\\site-packages\\ipykernel_launcher.py:12: SettingWithCopyWarning: \n",
      "A value is trying to be set on a copy of a slice from a DataFrame.\n",
      "Try using .loc[row_indexer,col_indexer] = value instead\n",
      "\n",
      "See the caveats in the documentation: http://pandas.pydata.org/pandas-docs/stable/user_guide/indexing.html#returning-a-view-versus-a-copy\n",
      "  if sys.path[0] == '':\n",
      "C:\\Users\\Victoria\\Anaconda3\\envs\\park_env\\lib\\site-packages\\ipykernel_launcher.py:13: SettingWithCopyWarning: \n",
      "A value is trying to be set on a copy of a slice from a DataFrame.\n",
      "Try using .loc[row_indexer,col_indexer] = value instead\n",
      "\n",
      "See the caveats in the documentation: http://pandas.pydata.org/pandas-docs/stable/user_guide/indexing.html#returning-a-view-versus-a-copy\n",
      "  del sys.path[0]\n",
      "C:\\Users\\Victoria\\Anaconda3\\envs\\park_env\\lib\\site-packages\\ipykernel_launcher.py:15: SettingWithCopyWarning: \n",
      "A value is trying to be set on a copy of a slice from a DataFrame.\n",
      "Try using .loc[row_indexer,col_indexer] = value instead\n",
      "\n",
      "See the caveats in the documentation: http://pandas.pydata.org/pandas-docs/stable/user_guide/indexing.html#returning-a-view-versus-a-copy\n",
      "  from ipykernel import kernelapp as app\n",
      "C:\\Users\\Victoria\\Anaconda3\\envs\\park_env\\lib\\site-packages\\ipykernel_launcher.py:16: SettingWithCopyWarning: \n",
      "A value is trying to be set on a copy of a slice from a DataFrame.\n",
      "Try using .loc[row_indexer,col_indexer] = value instead\n",
      "\n",
      "See the caveats in the documentation: http://pandas.pydata.org/pandas-docs/stable/user_guide/indexing.html#returning-a-view-versus-a-copy\n",
      "  app.launch_new_instance()\n",
      "C:\\Users\\Victoria\\Anaconda3\\envs\\park_env\\lib\\site-packages\\ipykernel_launcher.py:17: SettingWithCopyWarning: \n",
      "A value is trying to be set on a copy of a slice from a DataFrame.\n",
      "Try using .loc[row_indexer,col_indexer] = value instead\n",
      "\n",
      "See the caveats in the documentation: http://pandas.pydata.org/pandas-docs/stable/user_guide/indexing.html#returning-a-view-versus-a-copy\n",
      "C:\\Users\\Victoria\\Anaconda3\\envs\\park_env\\lib\\site-packages\\ipykernel_launcher.py:18: SettingWithCopyWarning: \n",
      "A value is trying to be set on a copy of a slice from a DataFrame.\n",
      "Try using .loc[row_indexer,col_indexer] = value instead\n",
      "\n",
      "See the caveats in the documentation: http://pandas.pydata.org/pandas-docs/stable/user_guide/indexing.html#returning-a-view-versus-a-copy\n"
     ]
    }
   ],
   "source": [
    "race_ns = race_difference[[ 'GEOID10','Total_POP_', 'Not Hisp_1', 'White; N_1', 'Hispanic_1', 'fullarea_race','geometry']]\n",
    "\n",
    "race_ns['new_area'] = race_ns['geometry'].area\n",
    "race_ns['area_acre'] = (race_ns['new_area']/43560)\n",
    "\n",
    "for val in race_ns:\n",
    "\n",
    "    race_ns['weight'] = race_ns['new_area']/ race_ns['fullarea_race']\n",
    "    \n",
    "    race_ns['TotPopNS'] = (race_ns['weight'] * race_ns['Total_POP_']).astype(int)\n",
    "    race_ns['NotHisNS'] = (race_ns['weight'] * race_ns['Not Hisp_1']).astype(int)\n",
    "    race_ns['WhiteNS'] = (race_ns['weight'] * race_ns['White; N_1']).astype(int)\n",
    "    race_ns['HispanNS'] = (race_ns['weight'] * race_ns['Hispanic_1']).astype(int)\n",
    "\n",
    "race_ns['Norm_byArea'] = race_ns['TotPopNS']/race_ns['area_acre']\n",
    "race_ns['Norm_nonhis'] = race_ns['NotHisNS']/race_ns['area_acre']\n",
    "race_ns['Norm_white'] = race_ns['WhiteNS']/race_ns['area_acre']\n",
    "race_ns['Norm_hislat'] = race_ns['HispanNS']/race_ns['area_acre']\n",
    "\n",
    "race_ns.to_file(wd+\"data/access/noaccess_race_varibuff_ACS17.shp\")\n",
    "race_ns.head()\n",
    "\n",
    "notserved_racetable = race_ns.drop(columns=['geometry'])\n",
    "notserved_racetable.to_csv(wd+\"data/access/noaccess_table_race_varibuff_ACS17_ACS17.csv\")\n",
    "\n",
    "Race_noaccess_stats = notserved_racetable.describe()\n",
    "Race_noaccess_stats.to_csv(wd+\"data/access/stats_race_varibuff_ACS17ACS17.csv\")"
   ]
  },
  {
   "cell_type": "code",
   "execution_count": 36,
   "metadata": {},
   "outputs": [
    {
     "name": "stderr",
     "output_type": "stream",
     "text": [
      "C:\\Users\\Victoria\\Anaconda3\\envs\\park_env\\lib\\site-packages\\ipykernel_launcher.py:6: SettingWithCopyWarning: \n",
      "A value is trying to be set on a copy of a slice from a DataFrame.\n",
      "Try using .loc[row_indexer,col_indexer] = value instead\n",
      "\n",
      "See the caveats in the documentation: http://pandas.pydata.org/pandas-docs/stable/user_guide/indexing.html#returning-a-view-versus-a-copy\n",
      "  \n",
      "C:\\Users\\Victoria\\Anaconda3\\envs\\park_env\\lib\\site-packages\\ipykernel_launcher.py:7: SettingWithCopyWarning: \n",
      "A value is trying to be set on a copy of a slice from a DataFrame.\n",
      "Try using .loc[row_indexer,col_indexer] = value instead\n",
      "\n",
      "See the caveats in the documentation: http://pandas.pydata.org/pandas-docs/stable/user_guide/indexing.html#returning-a-view-versus-a-copy\n",
      "  import sys\n",
      "C:\\Users\\Victoria\\Anaconda3\\envs\\park_env\\lib\\site-packages\\ipykernel_launcher.py:11: SettingWithCopyWarning: \n",
      "A value is trying to be set on a copy of a slice from a DataFrame.\n",
      "Try using .loc[row_indexer,col_indexer] = value instead\n",
      "\n",
      "See the caveats in the documentation: http://pandas.pydata.org/pandas-docs/stable/user_guide/indexing.html#returning-a-view-versus-a-copy\n",
      "  # This is added back by InteractiveShellApp.init_path()\n",
      "C:\\Users\\Victoria\\Anaconda3\\envs\\park_env\\lib\\site-packages\\ipykernel_launcher.py:13: SettingWithCopyWarning: \n",
      "A value is trying to be set on a copy of a slice from a DataFrame.\n",
      "Try using .loc[row_indexer,col_indexer] = value instead\n",
      "\n",
      "See the caveats in the documentation: http://pandas.pydata.org/pandas-docs/stable/user_guide/indexing.html#returning-a-view-versus-a-copy\n",
      "  del sys.path[0]\n",
      "C:\\Users\\Victoria\\Anaconda3\\envs\\park_env\\lib\\site-packages\\ipykernel_launcher.py:18: SettingWithCopyWarning: \n",
      "A value is trying to be set on a copy of a slice from a DataFrame.\n",
      "Try using .loc[row_indexer,col_indexer] = value instead\n",
      "\n",
      "See the caveats in the documentation: http://pandas.pydata.org/pandas-docs/stable/user_guide/indexing.html#returning-a-view-versus-a-copy\n",
      "C:\\Users\\Victoria\\Anaconda3\\envs\\park_env\\lib\\site-packages\\ipykernel_launcher.py:24: SettingWithCopyWarning: \n",
      "A value is trying to be set on a copy of a slice from a DataFrame.\n",
      "Try using .loc[row_indexer,col_indexer] = value instead\n",
      "\n",
      "See the caveats in the documentation: http://pandas.pydata.org/pandas-docs/stable/user_guide/indexing.html#returning-a-view-versus-a-copy\n",
      "C:\\Users\\Victoria\\Anaconda3\\envs\\park_env\\lib\\site-packages\\ipykernel_launcher.py:27: SettingWithCopyWarning: \n",
      "A value is trying to be set on a copy of a slice from a DataFrame.\n",
      "Try using .loc[row_indexer,col_indexer] = value instead\n",
      "\n",
      "See the caveats in the documentation: http://pandas.pydata.org/pandas-docs/stable/user_guide/indexing.html#returning-a-view-versus-a-copy\n",
      "C:\\Users\\Victoria\\Anaconda3\\envs\\park_env\\lib\\site-packages\\ipykernel_launcher.py:29: SettingWithCopyWarning: \n",
      "A value is trying to be set on a copy of a slice from a DataFrame.\n",
      "Try using .loc[row_indexer,col_indexer] = value instead\n",
      "\n",
      "See the caveats in the documentation: http://pandas.pydata.org/pandas-docs/stable/user_guide/indexing.html#returning-a-view-versus-a-copy\n",
      "C:\\Users\\Victoria\\Anaconda3\\envs\\park_env\\lib\\site-packages\\ipykernel_launcher.py:32: SettingWithCopyWarning: \n",
      "A value is trying to be set on a copy of a slice from a DataFrame.\n",
      "Try using .loc[row_indexer,col_indexer] = value instead\n",
      "\n",
      "See the caveats in the documentation: http://pandas.pydata.org/pandas-docs/stable/user_guide/indexing.html#returning-a-view-versus-a-copy\n",
      "C:\\Users\\Victoria\\Anaconda3\\envs\\park_env\\lib\\site-packages\\ipykernel_launcher.py:35: SettingWithCopyWarning: \n",
      "A value is trying to be set on a copy of a slice from a DataFrame.\n",
      "Try using .loc[row_indexer,col_indexer] = value instead\n",
      "\n",
      "See the caveats in the documentation: http://pandas.pydata.org/pandas-docs/stable/user_guide/indexing.html#returning-a-view-versus-a-copy\n",
      "C:\\Users\\Victoria\\Anaconda3\\envs\\park_env\\lib\\site-packages\\ipykernel_launcher.py:37: SettingWithCopyWarning: \n",
      "A value is trying to be set on a copy of a slice from a DataFrame.\n",
      "Try using .loc[row_indexer,col_indexer] = value instead\n",
      "\n",
      "See the caveats in the documentation: http://pandas.pydata.org/pandas-docs/stable/user_guide/indexing.html#returning-a-view-versus-a-copy\n",
      "C:\\Users\\Victoria\\Anaconda3\\envs\\park_env\\lib\\site-packages\\ipykernel_launcher.py:38: SettingWithCopyWarning: \n",
      "A value is trying to be set on a copy of a slice from a DataFrame.\n",
      "Try using .loc[row_indexer,col_indexer] = value instead\n",
      "\n",
      "See the caveats in the documentation: http://pandas.pydata.org/pandas-docs/stable/user_guide/indexing.html#returning-a-view-versus-a-copy\n",
      "C:\\Users\\Victoria\\Anaconda3\\envs\\park_env\\lib\\site-packages\\ipykernel_launcher.py:39: SettingWithCopyWarning: \n",
      "A value is trying to be set on a copy of a slice from a DataFrame.\n",
      "Try using .loc[row_indexer,col_indexer] = value instead\n",
      "\n",
      "See the caveats in the documentation: http://pandas.pydata.org/pandas-docs/stable/user_guide/indexing.html#returning-a-view-versus-a-copy\n",
      "C:\\Users\\Victoria\\Anaconda3\\envs\\park_env\\lib\\site-packages\\ipykernel_launcher.py:40: SettingWithCopyWarning: \n",
      "A value is trying to be set on a copy of a slice from a DataFrame.\n",
      "Try using .loc[row_indexer,col_indexer] = value instead\n",
      "\n",
      "See the caveats in the documentation: http://pandas.pydata.org/pandas-docs/stable/user_guide/indexing.html#returning-a-view-versus-a-copy\n",
      "C:\\Users\\Victoria\\Anaconda3\\envs\\park_env\\lib\\site-packages\\ipykernel_launcher.py:41: SettingWithCopyWarning: \n",
      "A value is trying to be set on a copy of a slice from a DataFrame.\n",
      "Try using .loc[row_indexer,col_indexer] = value instead\n",
      "\n",
      "See the caveats in the documentation: http://pandas.pydata.org/pandas-docs/stable/user_guide/indexing.html#returning-a-view-versus-a-copy\n",
      "C:\\Users\\Victoria\\Anaconda3\\envs\\park_env\\lib\\site-packages\\ipykernel_launcher.py:42: SettingWithCopyWarning: \n",
      "A value is trying to be set on a copy of a slice from a DataFrame.\n",
      "Try using .loc[row_indexer,col_indexer] = value instead\n",
      "\n",
      "See the caveats in the documentation: http://pandas.pydata.org/pandas-docs/stable/user_guide/indexing.html#returning-a-view-versus-a-copy\n",
      "C:\\Users\\Victoria\\Anaconda3\\envs\\park_env\\lib\\site-packages\\ipykernel_launcher.py:43: SettingWithCopyWarning: \n",
      "A value is trying to be set on a copy of a slice from a DataFrame.\n",
      "Try using .loc[row_indexer,col_indexer] = value instead\n",
      "\n",
      "See the caveats in the documentation: http://pandas.pydata.org/pandas-docs/stable/user_guide/indexing.html#returning-a-view-versus-a-copy\n"
     ]
    }
   ],
   "source": [
    "income_ns = income_difference[[ 'GEOID10','Total_POP_', 'Less tha_1', '$10,000 _1', '$15,000 _1','$20,000 _1', '$25,000 _1', \n",
    "                               '$30,000 _1', '$35,000 _1', '$40,000 _1','$45,000 _1', '$50,000 _1', '$60,000 _1', \n",
    "                               '$75,000 _1', '$100,000_1','$125,000_1', '$150,000_1', '$200,000_1', 'fullarea_income',\n",
    "                               'geometry']]\n",
    "\n",
    "income_ns['new_area'] = income_ns['geometry'].area\n",
    "income_ns['area_acre'] = (income_ns['new_area']/43560)\n",
    "\n",
    "for val in income_ns:\n",
    "\n",
    "    income_ns['weight'] = income_ns['new_area']/ income_ns['fullarea_income']\n",
    "    \n",
    "    income_ns['TotPopNS'] = income_ns['weight'] * income_ns['Total_POP_']\n",
    "    \n",
    "    income_ns['Lessthan25,000'] = ((income_ns['weight'] * income_ns['Less tha_1'])\\\n",
    "                                        +(income_ns['weight'] * income_ns['$10,000 _1'])\\\n",
    "                                        +(income_ns['weight'] * income_ns['$15,000 _1'])\\\n",
    "                                        +(income_ns['weight'] * income_ns['$20,000 _1'])).astype(int)\n",
    "    \n",
    "    income_ns['25,000to49,999'] = ((income_ns['weight'] * income_ns['$25,000 _1'])\\\n",
    "                                        +(income_ns['weight'] * income_ns['$30,000 _1'])\\\n",
    "                                        +(income_ns['weight'] * income_ns['$35,000 _1'])\\\n",
    "                                        +(income_ns['weight'] * income_ns['$40,000 _1'])\\\n",
    "                                        +(income_ns['weight'] * income_ns['$45,000 _1'])).astype(int)\n",
    "    \n",
    "    income_ns['50,000to74,999'] = ((income_ns['weight'] * income_ns['$50,000 _1'])\\\n",
    "                                        +(income_ns['weight'] * income_ns['$60,000 _1'])).astype(int)\n",
    "    \n",
    "    income_ns['75,000to99,999'] = (income_ns['weight'] * income_ns['$75,000 _1']).astype(int)\n",
    "    \n",
    "    income_ns['100,000to149,999'] = ((income_ns['weight'] * income_ns['$100,000_1'])\\\n",
    "                                            +(income_ns['weight'] * income_ns['$125,000_1'])).astype(int)\n",
    "    \n",
    "    income_ns['150,000ormore'] = ((income_ns['weight'] * income_ns['$150,000_1'])\\\n",
    "                                        +(income_ns['weight'] * income_ns['$200,000_1'])).astype(int)\n",
    "    \n",
    "income_ns['Norm_TotPopNS'] = income_ns['TotPopNS']/income_ns['area_acre']\n",
    "income_ns['Norm_Lessthan25,000'] = income_ns['Lessthan25,000']/income_ns['area_acre']\n",
    "income_ns['Norm_25,000to49,999'] = income_ns['25,000to49,999']/income_ns['area_acre']\n",
    "income_ns['Norm_50,000to74,999'] = income_ns['50,000to74,999']/income_ns['area_acre']\n",
    "income_ns['Norm_75,000to99,999'] = income_ns['75,000to99,999']/income_ns['area_acre']\n",
    "income_ns['Norm_100,000to149,999'] = income_ns['100,000to149,999']/income_ns['area_acre']\n",
    "income_ns['Norm_150,000ormore'] = income_ns['150,000ormore']/income_ns['area_acre']\n",
    "\n",
    "income_ns.to_file(wd+\"data/access/noaccess_income_varibuff_ACS17_ACS17.shp\")\n",
    "income_ns.head()\n",
    "\n",
    "notserved_incometable = income_ns.drop(columns=['geometry'])\n",
    "notserved_incometable.to_csv(wd+\"data/access/noaccess_table_income_varibuff_ACS17_ACS17.csv\")\n",
    "\n",
    "income_noaccess_stats = notserved_incometable.describe()\n",
    "income_noaccess_stats.to_csv(wd+\"data/access/stats_income_varibuff_ACS17ACS17.csv\")"
   ]
  },
  {
   "cell_type": "code",
   "execution_count": 37,
   "metadata": {},
   "outputs": [
    {
     "name": "stderr",
     "output_type": "stream",
     "text": [
      "C:\\Users\\Victoria\\Anaconda3\\envs\\park_env\\lib\\site-packages\\ipykernel_launcher.py:4: SettingWithCopyWarning: \n",
      "A value is trying to be set on a copy of a slice from a DataFrame.\n",
      "Try using .loc[row_indexer,col_indexer] = value instead\n",
      "\n",
      "See the caveats in the documentation: http://pandas.pydata.org/pandas-docs/stable/user_guide/indexing.html#returning-a-view-versus-a-copy\n",
      "  after removing the cwd from sys.path.\n",
      "C:\\Users\\Victoria\\Anaconda3\\envs\\park_env\\lib\\site-packages\\ipykernel_launcher.py:5: SettingWithCopyWarning: \n",
      "A value is trying to be set on a copy of a slice from a DataFrame.\n",
      "Try using .loc[row_indexer,col_indexer] = value instead\n",
      "\n",
      "See the caveats in the documentation: http://pandas.pydata.org/pandas-docs/stable/user_guide/indexing.html#returning-a-view-versus-a-copy\n",
      "  \"\"\"\n",
      "C:\\Users\\Victoria\\Anaconda3\\envs\\park_env\\lib\\site-packages\\ipykernel_launcher.py:9: SettingWithCopyWarning: \n",
      "A value is trying to be set on a copy of a slice from a DataFrame.\n",
      "Try using .loc[row_indexer,col_indexer] = value instead\n",
      "\n",
      "See the caveats in the documentation: http://pandas.pydata.org/pandas-docs/stable/user_guide/indexing.html#returning-a-view-versus-a-copy\n",
      "  if __name__ == '__main__':\n",
      "C:\\Users\\Victoria\\Anaconda3\\envs\\park_env\\lib\\site-packages\\ipykernel_launcher.py:11: SettingWithCopyWarning: \n",
      "A value is trying to be set on a copy of a slice from a DataFrame.\n",
      "Try using .loc[row_indexer,col_indexer] = value instead\n",
      "\n",
      "See the caveats in the documentation: http://pandas.pydata.org/pandas-docs/stable/user_guide/indexing.html#returning-a-view-versus-a-copy\n",
      "  # This is added back by InteractiveShellApp.init_path()\n",
      "C:\\Users\\Victoria\\Anaconda3\\envs\\park_env\\lib\\site-packages\\ipykernel_launcher.py:13: SettingWithCopyWarning: \n",
      "A value is trying to be set on a copy of a slice from a DataFrame.\n",
      "Try using .loc[row_indexer,col_indexer] = value instead\n",
      "\n",
      "See the caveats in the documentation: http://pandas.pydata.org/pandas-docs/stable/user_guide/indexing.html#returning-a-view-versus-a-copy\n",
      "  del sys.path[0]\n",
      "C:\\Users\\Victoria\\Anaconda3\\envs\\park_env\\lib\\site-packages\\ipykernel_launcher.py:14: SettingWithCopyWarning: \n",
      "A value is trying to be set on a copy of a slice from a DataFrame.\n",
      "Try using .loc[row_indexer,col_indexer] = value instead\n",
      "\n",
      "See the caveats in the documentation: http://pandas.pydata.org/pandas-docs/stable/user_guide/indexing.html#returning-a-view-versus-a-copy\n",
      "  \n",
      "C:\\Users\\Victoria\\Anaconda3\\envs\\park_env\\lib\\site-packages\\ipykernel_launcher.py:15: SettingWithCopyWarning: \n",
      "A value is trying to be set on a copy of a slice from a DataFrame.\n",
      "Try using .loc[row_indexer,col_indexer] = value instead\n",
      "\n",
      "See the caveats in the documentation: http://pandas.pydata.org/pandas-docs/stable/user_guide/indexing.html#returning-a-view-versus-a-copy\n",
      "  from ipykernel import kernelapp as app\n",
      "C:\\Users\\Victoria\\Anaconda3\\envs\\park_env\\lib\\site-packages\\ipykernel_launcher.py:16: SettingWithCopyWarning: \n",
      "A value is trying to be set on a copy of a slice from a DataFrame.\n",
      "Try using .loc[row_indexer,col_indexer] = value instead\n",
      "\n",
      "See the caveats in the documentation: http://pandas.pydata.org/pandas-docs/stable/user_guide/indexing.html#returning-a-view-versus-a-copy\n",
      "  app.launch_new_instance()\n",
      "C:\\Users\\Victoria\\Anaconda3\\envs\\park_env\\lib\\site-packages\\ipykernel_launcher.py:18: SettingWithCopyWarning: \n",
      "A value is trying to be set on a copy of a slice from a DataFrame.\n",
      "Try using .loc[row_indexer,col_indexer] = value instead\n",
      "\n",
      "See the caveats in the documentation: http://pandas.pydata.org/pandas-docs/stable/user_guide/indexing.html#returning-a-view-versus-a-copy\n",
      "C:\\Users\\Victoria\\Anaconda3\\envs\\park_env\\lib\\site-packages\\ipykernel_launcher.py:19: SettingWithCopyWarning: \n",
      "A value is trying to be set on a copy of a slice from a DataFrame.\n",
      "Try using .loc[row_indexer,col_indexer] = value instead\n",
      "\n",
      "See the caveats in the documentation: http://pandas.pydata.org/pandas-docs/stable/user_guide/indexing.html#returning-a-view-versus-a-copy\n",
      "C:\\Users\\Victoria\\Anaconda3\\envs\\park_env\\lib\\site-packages\\ipykernel_launcher.py:20: SettingWithCopyWarning: \n",
      "A value is trying to be set on a copy of a slice from a DataFrame.\n",
      "Try using .loc[row_indexer,col_indexer] = value instead\n",
      "\n",
      "See the caveats in the documentation: http://pandas.pydata.org/pandas-docs/stable/user_guide/indexing.html#returning-a-view-versus-a-copy\n",
      "C:\\Users\\Victoria\\Anaconda3\\envs\\park_env\\lib\\site-packages\\ipykernel_launcher.py:21: SettingWithCopyWarning: \n",
      "A value is trying to be set on a copy of a slice from a DataFrame.\n",
      "Try using .loc[row_indexer,col_indexer] = value instead\n",
      "\n",
      "See the caveats in the documentation: http://pandas.pydata.org/pandas-docs/stable/user_guide/indexing.html#returning-a-view-versus-a-copy\n",
      "C:\\Users\\Victoria\\Anaconda3\\envs\\park_env\\lib\\site-packages\\ipykernel_launcher.py:23: SettingWithCopyWarning: \n",
      "A value is trying to be set on a copy of a slice from a DataFrame.\n",
      "Try using .loc[row_indexer,col_indexer] = value instead\n",
      "\n",
      "See the caveats in the documentation: http://pandas.pydata.org/pandas-docs/stable/user_guide/indexing.html#returning-a-view-versus-a-copy\n",
      "C:\\Users\\Victoria\\Anaconda3\\envs\\park_env\\lib\\site-packages\\ipykernel_launcher.py:24: SettingWithCopyWarning: \n",
      "A value is trying to be set on a copy of a slice from a DataFrame.\n",
      "Try using .loc[row_indexer,col_indexer] = value instead\n",
      "\n",
      "See the caveats in the documentation: http://pandas.pydata.org/pandas-docs/stable/user_guide/indexing.html#returning-a-view-versus-a-copy\n",
      "C:\\Users\\Victoria\\Anaconda3\\envs\\park_env\\lib\\site-packages\\ipykernel_launcher.py:25: SettingWithCopyWarning: \n",
      "A value is trying to be set on a copy of a slice from a DataFrame.\n",
      "Try using .loc[row_indexer,col_indexer] = value instead\n",
      "\n",
      "See the caveats in the documentation: http://pandas.pydata.org/pandas-docs/stable/user_guide/indexing.html#returning-a-view-versus-a-copy\n",
      "C:\\Users\\Victoria\\Anaconda3\\envs\\park_env\\lib\\site-packages\\ipykernel_launcher.py:26: SettingWithCopyWarning: \n",
      "A value is trying to be set on a copy of a slice from a DataFrame.\n",
      "Try using .loc[row_indexer,col_indexer] = value instead\n",
      "\n",
      "See the caveats in the documentation: http://pandas.pydata.org/pandas-docs/stable/user_guide/indexing.html#returning-a-view-versus-a-copy\n",
      "C:\\Users\\Victoria\\Anaconda3\\envs\\park_env\\lib\\site-packages\\ipykernel_launcher.py:27: SettingWithCopyWarning: \n",
      "A value is trying to be set on a copy of a slice from a DataFrame.\n",
      "Try using .loc[row_indexer,col_indexer] = value instead\n",
      "\n",
      "See the caveats in the documentation: http://pandas.pydata.org/pandas-docs/stable/user_guide/indexing.html#returning-a-view-versus-a-copy\n",
      "C:\\Users\\Victoria\\Anaconda3\\envs\\park_env\\lib\\site-packages\\ipykernel_launcher.py:30: SettingWithCopyWarning: \n",
      "A value is trying to be set on a copy of a slice from a DataFrame.\n",
      "Try using .loc[row_indexer,col_indexer] = value instead\n",
      "\n",
      "See the caveats in the documentation: http://pandas.pydata.org/pandas-docs/stable/user_guide/indexing.html#returning-a-view-versus-a-copy\n",
      "C:\\Users\\Victoria\\Anaconda3\\envs\\park_env\\lib\\site-packages\\ipykernel_launcher.py:32: SettingWithCopyWarning: \n",
      "A value is trying to be set on a copy of a slice from a DataFrame.\n",
      "Try using .loc[row_indexer,col_indexer] = value instead\n",
      "\n",
      "See the caveats in the documentation: http://pandas.pydata.org/pandas-docs/stable/user_guide/indexing.html#returning-a-view-versus-a-copy\n",
      "C:\\Users\\Victoria\\Anaconda3\\envs\\park_env\\lib\\site-packages\\ipykernel_launcher.py:33: SettingWithCopyWarning: \n",
      "A value is trying to be set on a copy of a slice from a DataFrame.\n",
      "Try using .loc[row_indexer,col_indexer] = value instead\n",
      "\n",
      "See the caveats in the documentation: http://pandas.pydata.org/pandas-docs/stable/user_guide/indexing.html#returning-a-view-versus-a-copy\n",
      "C:\\Users\\Victoria\\Anaconda3\\envs\\park_env\\lib\\site-packages\\ipykernel_launcher.py:34: SettingWithCopyWarning: \n",
      "A value is trying to be set on a copy of a slice from a DataFrame.\n",
      "Try using .loc[row_indexer,col_indexer] = value instead\n",
      "\n",
      "See the caveats in the documentation: http://pandas.pydata.org/pandas-docs/stable/user_guide/indexing.html#returning-a-view-versus-a-copy\n",
      "C:\\Users\\Victoria\\Anaconda3\\envs\\park_env\\lib\\site-packages\\ipykernel_launcher.py:35: SettingWithCopyWarning: \n",
      "A value is trying to be set on a copy of a slice from a DataFrame.\n",
      "Try using .loc[row_indexer,col_indexer] = value instead\n",
      "\n",
      "See the caveats in the documentation: http://pandas.pydata.org/pandas-docs/stable/user_guide/indexing.html#returning-a-view-versus-a-copy\n",
      "C:\\Users\\Victoria\\Anaconda3\\envs\\park_env\\lib\\site-packages\\ipykernel_launcher.py:37: SettingWithCopyWarning: \n",
      "A value is trying to be set on a copy of a slice from a DataFrame.\n",
      "Try using .loc[row_indexer,col_indexer] = value instead\n",
      "\n",
      "See the caveats in the documentation: http://pandas.pydata.org/pandas-docs/stable/user_guide/indexing.html#returning-a-view-versus-a-copy\n"
     ]
    },
    {
     "name": "stderr",
     "output_type": "stream",
     "text": [
      "C:\\Users\\Victoria\\Anaconda3\\envs\\park_env\\lib\\site-packages\\ipykernel_launcher.py:38: SettingWithCopyWarning: \n",
      "A value is trying to be set on a copy of a slice from a DataFrame.\n",
      "Try using .loc[row_indexer,col_indexer] = value instead\n",
      "\n",
      "See the caveats in the documentation: http://pandas.pydata.org/pandas-docs/stable/user_guide/indexing.html#returning-a-view-versus-a-copy\n",
      "C:\\Users\\Victoria\\Anaconda3\\envs\\park_env\\lib\\site-packages\\ipykernel_launcher.py:39: SettingWithCopyWarning: \n",
      "A value is trying to be set on a copy of a slice from a DataFrame.\n",
      "Try using .loc[row_indexer,col_indexer] = value instead\n",
      "\n",
      "See the caveats in the documentation: http://pandas.pydata.org/pandas-docs/stable/user_guide/indexing.html#returning-a-view-versus-a-copy\n",
      "C:\\Users\\Victoria\\Anaconda3\\envs\\park_env\\lib\\site-packages\\ipykernel_launcher.py:40: SettingWithCopyWarning: \n",
      "A value is trying to be set on a copy of a slice from a DataFrame.\n",
      "Try using .loc[row_indexer,col_indexer] = value instead\n",
      "\n",
      "See the caveats in the documentation: http://pandas.pydata.org/pandas-docs/stable/user_guide/indexing.html#returning-a-view-versus-a-copy\n",
      "C:\\Users\\Victoria\\Anaconda3\\envs\\park_env\\lib\\site-packages\\ipykernel_launcher.py:42: SettingWithCopyWarning: \n",
      "A value is trying to be set on a copy of a slice from a DataFrame.\n",
      "Try using .loc[row_indexer,col_indexer] = value instead\n",
      "\n",
      "See the caveats in the documentation: http://pandas.pydata.org/pandas-docs/stable/user_guide/indexing.html#returning-a-view-versus-a-copy\n",
      "C:\\Users\\Victoria\\Anaconda3\\envs\\park_env\\lib\\site-packages\\ipykernel_launcher.py:43: SettingWithCopyWarning: \n",
      "A value is trying to be set on a copy of a slice from a DataFrame.\n",
      "Try using .loc[row_indexer,col_indexer] = value instead\n",
      "\n",
      "See the caveats in the documentation: http://pandas.pydata.org/pandas-docs/stable/user_guide/indexing.html#returning-a-view-versus-a-copy\n",
      "C:\\Users\\Victoria\\Anaconda3\\envs\\park_env\\lib\\site-packages\\ipykernel_launcher.py:44: SettingWithCopyWarning: \n",
      "A value is trying to be set on a copy of a slice from a DataFrame.\n",
      "Try using .loc[row_indexer,col_indexer] = value instead\n",
      "\n",
      "See the caveats in the documentation: http://pandas.pydata.org/pandas-docs/stable/user_guide/indexing.html#returning-a-view-versus-a-copy\n",
      "C:\\Users\\Victoria\\Anaconda3\\envs\\park_env\\lib\\site-packages\\ipykernel_launcher.py:45: SettingWithCopyWarning: \n",
      "A value is trying to be set on a copy of a slice from a DataFrame.\n",
      "Try using .loc[row_indexer,col_indexer] = value instead\n",
      "\n",
      "See the caveats in the documentation: http://pandas.pydata.org/pandas-docs/stable/user_guide/indexing.html#returning-a-view-versus-a-copy\n",
      "C:\\Users\\Victoria\\Anaconda3\\envs\\park_env\\lib\\site-packages\\ipykernel_launcher.py:46: SettingWithCopyWarning: \n",
      "A value is trying to be set on a copy of a slice from a DataFrame.\n",
      "Try using .loc[row_indexer,col_indexer] = value instead\n",
      "\n",
      "See the caveats in the documentation: http://pandas.pydata.org/pandas-docs/stable/user_guide/indexing.html#returning-a-view-versus-a-copy\n"
     ]
    }
   ],
   "source": [
    "age_ns = age_difference[[ 'GEOID10','Total_PO_1', 'Male_new','Male_Und_2', 'Male_Und_3', 'Male_Ove_1', 'Female', \n",
    "                         'Female_U_2','Female_U_3', 'Female_O_1', 'fullarea_age','geometry']]\n",
    "\n",
    "age_ns['new_area'] = age_ns['geometry'].area\n",
    "age_ns['area_acre'] = (age_ns['new_area']/43560)\n",
    "\n",
    "for val in age_ns:\n",
    "\n",
    "    age_ns['weight'] = age_ns['new_area']/ age_ns['fullarea_age']\n",
    "    \n",
    "    age_ns['TotPopNS'] = age_ns['weight'] * age_ns['Total_PO_1']\n",
    "    \n",
    "    age_ns['Males_ns'] = age_ns['weight'] * age_ns['Male_new']\n",
    "    age_ns['Males_ns_under5'] = age_ns['weight'] * age_ns['Male_Und_2']\n",
    "    age_ns['Males_ns_under18'] = age_ns['weight'] * age_ns['Male_Und_3']\n",
    "    age_ns['Males_ns_over65'] = age_ns['weight'] * age_ns['Male_Ove_1']   \n",
    "    \n",
    "    age_ns['Females_ns'] = age_ns['weight'] * age_ns['Female']\n",
    "    age_ns['Females_ns_under5'] = age_ns['weight'] * age_ns['Female_U_2']\n",
    "    age_ns['Females_ns_under18'] = age_ns['weight'] * age_ns['Female_U_3']\n",
    "    age_ns['Females_ns_over65'] = age_ns['weight'] * age_ns['Female_O_1']\n",
    "\n",
    "age_ns['Under5_ns'] = age_ns['Males_ns_under5'] + age_ns['Females_ns_under5']\n",
    "age_ns['Under18_ns'] = age_ns['Males_ns_under18'] + age_ns['Females_ns_under18']\n",
    "age_ns['Over65_ns'] = age_ns['Males_ns_over65'] + age_ns['Females_ns_over65']\n",
    "age_ns['W_C_under5']= age_ns['Females_ns'] + age_ns['Males_ns_under5']\n",
    "age_ns['W_C_under18']= age_ns['Females_ns'] + age_ns['Males_ns_under18']\n",
    "\n",
    "\n",
    "age_ns['Norm_TotPopNS'] = age_ns['TotPopNS']/age_ns['area_acre']\n",
    "\n",
    "age_ns['Norm_M_ns'] = age_ns['Males_ns']/age_ns['area_acre']\n",
    "age_ns['Norm_M_ns_un5'] = age_ns['Males_ns_under5']/age_ns['area_acre']\n",
    "age_ns['Norm_M_ns_un18'] = age_ns['Males_ns_under18']/age_ns['area_acre']\n",
    "age_ns['Norm_M_ns_ov65'] = age_ns['Males_ns_over65']/age_ns['area_acre']\n",
    "\n",
    "age_ns['Norm_F_ns'] = age_ns['Females_ns']/age_ns['area_acre']\n",
    "age_ns['Norm_F_ns_un5'] = age_ns['Females_ns_under5']/age_ns['area_acre']\n",
    "age_ns['Norm_F_ns_un18'] = age_ns['Females_ns_under18']/age_ns['area_acre']\n",
    "age_ns['Norm_F_ns_ov65'] = age_ns['Females_ns_over65']/age_ns['area_acre']\n",
    "\n",
    "age_ns['Norm_Under5'] = age_ns['Under5_ns']/age_ns['area_acre']\n",
    "age_ns['Norm_Under18'] = age_ns['Under18_ns']/age_ns['area_acre']\n",
    "age_ns['Norm_Over65_ns'] = age_ns['Over65_ns']/age_ns['area_acre']\n",
    "age_ns['Norm_W_C_under5']= age_ns['W_C_under5']/age_ns['area_acre']\n",
    "age_ns['Norm_W_C_under18']= age_ns['W_C_under18'] /age_ns['area_acre']\n",
    "\n",
    "\n",
    "age_ns.to_file(wd+\"data/access/noaccess_age_varibuff_ACS17.shp\")\n",
    "age_ns.head()\n",
    "\n",
    "notserved_agetable = age_ns.drop(columns=['geometry'])\n",
    "notserved_agetable.to_csv(wd+\"data/access/noaccess_table_age_varibuff_ACS17.csv\")\n",
    "\n",
    "age_noaccess_stats = notserved_agetable.describe()\n",
    "age_noaccess_stats.to_csv(wd+\"data/access/stats_age_varibufff_ACS17.csv\")"
   ]
  },
  {
   "cell_type": "markdown",
   "metadata": {},
   "source": [
    "### <font color=green>Run spatial analysis on the amount of people distributed within a census block group against the varied mile park buffer area and the race census data</font>"
   ]
  },
  {
   "cell_type": "code",
   "execution_count": null,
   "metadata": {
    "scrolled": true
   },
   "outputs": [],
   "source": [
    "rp_intersection = gpd.overlay(race, varibuff, how='intersection') #https://geopandas.org/set_operations.html\n",
    "rp_intersection['area_intersec'] = rp_intersection['geometry'].area\n",
    "rp_intersection.to_file(wd+\"data/access/rp_intersec_varibuff_ACS17.shp\")\n",
    "rp_intersection"
   ]
  },
  {
   "cell_type": "code",
   "execution_count": null,
   "metadata": {},
   "outputs": [],
   "source": [
    "#rp_intersection.crs"
   ]
  },
  {
   "cell_type": "code",
   "execution_count": null,
   "metadata": {},
   "outputs": [],
   "source": [
    "#rp_intersection.columns"
   ]
  },
  {
   "cell_type": "code",
   "execution_count": null,
   "metadata": {},
   "outputs": [],
   "source": [
    "rp_intersection[['GEOID10','Total_POP_','fullarea_race','LOCATION_N','fullarea_buff','area_intersec','geometry']]"
   ]
  },
  {
   "cell_type": "code",
   "execution_count": null,
   "metadata": {},
   "outputs": [],
   "source": [
    "race_clip=rp_intersection.copy()\n",
    "\n",
    "for val in race_clip:\n",
    "\n",
    "    race_clip['weight'] = race_clip['area_intersec']/ race_clip['fullarea_race']\n",
    "    \n",
    "    race_clip['access_pop'] = race_clip['weight'] * race_clip['Total_POP_']\n",
    "    race_clip['access_nonhis'] = race_clip['weight'] * race_clip['Not Hispan']\n",
    "    race_clip['access_white'] = race_clip['weight'] * race_clip['White; Not']\n",
    "    race_clip['access_his_lat'] = race_clip['weight'] * race_clip['Hispanic o']\n",
    "\n",
    "race_clip.head()"
   ]
  },
  {
   "cell_type": "code",
   "execution_count": null,
   "metadata": {},
   "outputs": [],
   "source": [
    "#race_clip.columns"
   ]
  },
  {
   "cell_type": "code",
   "execution_count": null,
   "metadata": {},
   "outputs": [],
   "source": [
    "race_calc = race_clip[['LOCATION_N', 'Total_POP_','access_pop', 'access_nonhis','access_white', 'access_his_lat','area_intersec','geometry']]\n",
    "access_data = race_calc.dissolve(by='LOCATION_N',as_index=False, aggfunc='sum')"
   ]
  },
  {
   "cell_type": "code",
   "execution_count": null,
   "metadata": {
    "scrolled": true
   },
   "outputs": [],
   "source": [
    "access_data"
   ]
  },
  {
   "cell_type": "markdown",
   "metadata": {},
   "source": [
    "##### Combine the park area data to the access data"
   ]
  },
  {
   "cell_type": "code",
   "execution_count": null,
   "metadata": {},
   "outputs": [],
   "source": [
    "parks_ = varibuff[['LOCATION_N','ASSET_SIZE']].copy()"
   ]
  },
  {
   "cell_type": "code",
   "execution_count": null,
   "metadata": {},
   "outputs": [],
   "source": [
    "parks_"
   ]
  },
  {
   "cell_type": "code",
   "execution_count": null,
   "metadata": {},
   "outputs": [],
   "source": [
    "access_data = access_data.merge(parks_, on='LOCATION_N')"
   ]
  },
  {
   "cell_type": "code",
   "execution_count": null,
   "metadata": {},
   "outputs": [],
   "source": [
    "access_data"
   ]
  },
  {
   "cell_type": "markdown",
   "metadata": {},
   "source": [
    "##### The population served by parks is nomalized by dividing the population served by the area of the park for which they are being served "
   ]
  },
  {
   "cell_type": "code",
   "execution_count": null,
   "metadata": {},
   "outputs": [],
   "source": [
    "access_data['Normalized_byArea'] = access_data['access_pop']/access_data['ASSET_SIZE']\n",
    "access_data['Normalized_nonhis'] = access_data['access_nonhis']/access_data['ASSET_SIZE']\n",
    "access_data['Normalized_white'] = access_data['access_white']/access_data['ASSET_SIZE']\n",
    "access_data['Normalized_hislat'] = access_data['access_his_lat']/access_data['ASSET_SIZE']"
   ]
  },
  {
   "cell_type": "code",
   "execution_count": null,
   "metadata": {
    "scrolled": false
   },
   "outputs": [],
   "source": [
    "access_data.to_file(wd+\"data/access/access_data_race_varibuff_ACS17.shp\")\n",
    "access_data"
   ]
  },
  {
   "cell_type": "markdown",
   "metadata": {},
   "source": [
    "#### A dataframe is created with the 'acess_data' geoshapefile. This dataframe is cleaned up and the values are convereted into integers. Finally, we export the dataframe into a csv file and a shapefile. "
   ]
  },
  {
   "cell_type": "code",
   "execution_count": null,
   "metadata": {},
   "outputs": [],
   "source": [
    "df = pd.DataFrame(access_data)\n",
    "\n",
    "df['Park_Name']=df['LOCATION_N']\n",
    "df['Total_Pop_Served'] = df['access_pop'].astype(int)\n",
    "df['Normalized_byArea'] = df['Normalized_byArea'].astype(int)\n",
    "df['Non_Hispan'] = df['access_nonhis'].astype(int)\n",
    "df['Normalized_nonhis'] = df['Normalized_nonhis'].astype(int)\n",
    "df['White'] = df['access_white'].astype(int)\n",
    "df['Normalized_white'] = df['Normalized_white'].astype(int)\n",
    "df['Hispan_Latin'] = df['access_his_lat'].astype(int)\n",
    "df['Normalized_hislat'] = df['Normalized_hislat'].astype(int)\n",
    "\n",
    "df.head()\n"
   ]
  },
  {
   "cell_type": "markdown",
   "metadata": {},
   "source": [
    "Export to Shapefile"
   ]
  },
  {
   "cell_type": "code",
   "execution_count": null,
   "metadata": {},
   "outputs": [],
   "source": [
    "access_race_final = df.copy().drop(columns=['access_pop','access_nonhis','access_white','access_his_lat'])\n",
    "access_race_final = gpd.GeoDataFrame(access_race_final, geometry='geometry')\n",
    "access_race_final.to_file(wd+\"data/access/access_race_final_varibuff_ACS17.shp\")\n",
    "access_race_final.head()"
   ]
  },
  {
   "cell_type": "markdown",
   "metadata": {},
   "source": [
    "Export to CSV"
   ]
  },
  {
   "cell_type": "code",
   "execution_count": null,
   "metadata": {},
   "outputs": [],
   "source": [
    "access_racetable = df.drop(columns=['access_pop','access_nonhis','access_white','access_his_lat', 'geometry'])\n",
    "access_racetable.to_csv(wd+\"data/access/access_table_race_varibuff_ACS17.csv\")\n",
    "access_racetable.head()"
   ]
  },
  {
   "cell_type": "markdown",
   "metadata": {},
   "source": [
    "Descriptive Statistics"
   ]
  },
  {
   "cell_type": "code",
   "execution_count": null,
   "metadata": {},
   "outputs": [],
   "source": [
    "Race_access_stats = access_racetable.describe()\n",
    "Race_access_stats.to_csv(wd+\"data/access/access_stats_race_varibuff_ACS17.csv\")\n",
    "Race_access_stats"
   ]
  },
  {
   "cell_type": "code",
   "execution_count": null,
   "metadata": {},
   "outputs": [],
   "source": [
    "#access_racetable.hist('');"
   ]
  },
  {
   "cell_type": "markdown",
   "metadata": {},
   "source": [
    "##  <font color=goldenrod>Run spatial analysis on the amount of people distributed within a census block group against the varied buff mile park buffer area and the income census data</font>"
   ]
  },
  {
   "cell_type": "code",
   "execution_count": null,
   "metadata": {},
   "outputs": [],
   "source": [
    "ip_intersection = gpd.overlay(income, varibuff, how='intersection') #https://geopandas.org/set_operations.html\n",
    "ip_intersection['iarea_intersec'] = ip_intersection['geometry'].area\n",
    "ip_intersection.to_file(wd+\"data/access/ip_intersec_varibuff_ACS17.shp\")\n",
    "ip_intersection"
   ]
  },
  {
   "cell_type": "code",
   "execution_count": null,
   "metadata": {},
   "outputs": [],
   "source": [
    "#ip_intersection.columns"
   ]
  },
  {
   "cell_type": "code",
   "execution_count": null,
   "metadata": {
    "scrolled": true
   },
   "outputs": [],
   "source": [
    "ip_intersection[['GEOID10','Total_Pop','fullarea_income','LOCATION_N','fullarea_buff','iarea_intersec','geometry']]"
   ]
  },
  {
   "cell_type": "code",
   "execution_count": null,
   "metadata": {},
   "outputs": [],
   "source": [
    "ip_intersection.columns"
   ]
  },
  {
   "cell_type": "code",
   "execution_count": null,
   "metadata": {},
   "outputs": [],
   "source": [
    "income_clip=ip_intersection.copy()\n",
    "\n",
    "for val in income_clip:\n",
    "\n",
    "    income_clip['weight'] = income_clip['iarea_intersec']/ income_clip['fullarea_income']\n",
    "    \n",
    "    income_clip['access_by_income_TotalPop'] = income_clip['weight'] * income_clip['Total_Pop']\n",
    "    \n",
    "    income_clip['Less than $25,000'] = (income_clip['weight'] * income_clip['Less than'])\\\n",
    "                                        +(income_clip['weight'] * income_clip['$10,000 to'])\\\n",
    "                                        +(income_clip['weight'] * income_clip['$15,000 to'])\\\n",
    "                                        +(income_clip['weight'] * income_clip['$20,000 to'])\n",
    "    \n",
    "    income_clip['$25,000 to $49,999'] = (income_clip['weight'] * income_clip['$25,000 to'])\\\n",
    "                                        +(income_clip['weight'] * income_clip['$30,000 to'])\\\n",
    "                                        +(income_clip['weight'] * income_clip['$35,000 to'])\\\n",
    "                                        +(income_clip['weight'] * income_clip['$40,000 to'])\\\n",
    "                                        +(income_clip['weight'] * income_clip['$45,000 to'])\\\n",
    "    \n",
    "    income_clip['$50,000 to $74,999'] = (income_clip['weight'] * income_clip['$50,000 to'])\\\n",
    "                                        +(income_clip['weight'] * income_clip['$60,000 to'])\\\n",
    "    \n",
    "    income_clip['$75,000 to $99,999'] = (income_clip['weight'] * income_clip['$75,000 to'])\n",
    "    \n",
    "    income_clip['$100,000 to $149,999'] = (income_clip['weight'] * income_clip['$100,000 t'])\\\n",
    "                                            +(income_clip['weight'] * income_clip['$125,000 t'])\\\n",
    "    \n",
    "    income_clip['$150,000 or more'] = (income_clip['weight'] * income_clip['$150,000 t'])\\\n",
    "                                        +(income_clip['weight'] * income_clip['$200,000 o'])\\\n",
    "    \n",
    "income_clip.head()"
   ]
  },
  {
   "cell_type": "code",
   "execution_count": null,
   "metadata": {},
   "outputs": [],
   "source": [
    "#income_clip.columns"
   ]
  },
  {
   "cell_type": "code",
   "execution_count": null,
   "metadata": {},
   "outputs": [],
   "source": [
    "income_calc = income_clip[['LOCATION_N', 'Total_Pop','access_by_income_TotalPop', 'Less than $25,000','$25,000 to $49,999',\\\n",
    "                           '$50,000 to $74,999','$75,000 to $99,999','$100,000 to $149,999','$150,000 or more','geometry']]\n",
    "\n",
    "income_access_data = income_calc.dissolve(by='LOCATION_N',as_index=False, aggfunc='sum')"
   ]
  },
  {
   "cell_type": "markdown",
   "metadata": {},
   "source": [
    "##### Combine the park area data to the access data"
   ]
  },
  {
   "cell_type": "code",
   "execution_count": null,
   "metadata": {},
   "outputs": [],
   "source": [
    "income_access_data = income_access_data.merge(parks_, on='LOCATION_N')"
   ]
  },
  {
   "cell_type": "code",
   "execution_count": null,
   "metadata": {},
   "outputs": [],
   "source": [
    "income_access_data"
   ]
  },
  {
   "cell_type": "markdown",
   "metadata": {},
   "source": [
    "##### The population served by parks is nomalized by dividing the population served by the area of the park for which they are being served "
   ]
  },
  {
   "cell_type": "code",
   "execution_count": null,
   "metadata": {},
   "outputs": [],
   "source": [
    "income_access_data['TotalPop_Served_norm'] = income_access_data['access_by_income_TotalPop']/income_access_data['ASSET_SIZE']\n",
    "income_access_data['Less than $25,000_norm'] = income_access_data['Less than $25,000']/income_access_data['ASSET_SIZE']\n",
    "income_access_data['$25,000 to $49,999_norm'] = income_access_data['$25,000 to $49,999']/income_access_data['ASSET_SIZE']\n",
    "income_access_data['$50,000 to $74,999_norm'] = income_access_data['$50,000 to $74,999']/income_access_data['ASSET_SIZE']\n",
    "income_access_data['$75,000 to $99,999_norm'] = income_access_data['$75,000 to $99,999']/income_access_data['ASSET_SIZE']\n",
    "income_access_data['$100,000 to $149,999_norm'] = income_access_data['$100,000 to $149,999']/income_access_data['ASSET_SIZE']\n",
    "income_access_data['$150,000 or more_norm'] = income_access_data['$150,000 or more']/income_access_data['ASSET_SIZE']\n"
   ]
  },
  {
   "cell_type": "code",
   "execution_count": null,
   "metadata": {},
   "outputs": [],
   "source": [
    "income_access_data.to_file(wd+\"data/access/access_data_income_varibuff_ACS17.shp\")\n",
    "income_access_data"
   ]
  },
  {
   "cell_type": "markdown",
   "metadata": {},
   "source": [
    "#### A dataframe is created with the 'acess_data' geoshapefile. This dataframe is cleaned up and the values are convereted into integers. Finally, we export the dataframe into a csv file and a shapefile. "
   ]
  },
  {
   "cell_type": "code",
   "execution_count": null,
   "metadata": {},
   "outputs": [],
   "source": [
    "df = pd.DataFrame(income_access_data)\n",
    "df['Park_Name']=df['LOCATION_N']\n",
    "\n",
    "df['Total Pop Served'] = df['access_by_income_TotalPop'].astype(int)\n",
    "df['TotalPop_Served_norm'] = df['TotalPop_Served_norm'].astype(int)\n",
    "\n",
    "df['Less than $25,000'] = df['Less than $25,000'].astype(int)\n",
    "df['Less than $25,000_norm'] = df['Less than $25,000_norm'].astype(int)\n",
    "\n",
    "df['$25,000 to $49,999'] = df['$25,000 to $49,999'].astype(int)\n",
    "df['$25,000 to $49,999_norm'] = df['$25,000 to $49,999_norm'].astype(int)\n",
    "\n",
    "df['$50,000 to $74,999'] = df['$50,000 to $74,999'].astype(int)\n",
    "df['$50,000 to $74,999_norm'] = df['$50,000 to $74,999_norm'].astype(int)\n",
    "\n",
    "df['$75,000 to $99,999'] = df['$75,000 to $99,999'].astype(int)\n",
    "df['$75,000 to $99,999_norm'] = df['$75,000 to $99,999_norm'].astype(int)\n",
    "\n",
    "df['$100,000 to $149,999'] = df['$100,000 to $149,999'].astype(int)\n",
    "df['$100,000 to $149,999_norm'] = df['$100,000 to $149,999_norm'].astype(int)\n",
    "\n",
    "df['$150,000 or more'] = df['$150,000 or more'].astype(int)\n",
    "df['$150,000 or more_norm'] = df['$150,000 or more_norm'].astype(int)\n"
   ]
  },
  {
   "cell_type": "code",
   "execution_count": null,
   "metadata": {},
   "outputs": [],
   "source": [
    "access_income_final = df.copy().drop(columns=['access_by_income_TotalPop'])\n",
    "access_income_final = gpd.GeoDataFrame(access_income_final, geometry='geometry')\n",
    "access_income_final.to_file(wd+\"data/access/access_income_final_varibuff_ACS17.shp\")\n",
    "access_income_final.head()"
   ]
  },
  {
   "cell_type": "code",
   "execution_count": null,
   "metadata": {},
   "outputs": [],
   "source": [
    "access_incometable = df.drop(columns=['access_by_income_TotalPop','geometry'])\n",
    "access_incometable.to_csv(wd+\"data/access/access_table_income_varibuff_ACS17.csv\")\n",
    "access_incometable.head()"
   ]
  },
  {
   "cell_type": "code",
   "execution_count": null,
   "metadata": {},
   "outputs": [],
   "source": [
    "access_income_stats = access_incometable.describe()\n",
    "access_income_stats.to_csv(wd+\"data/access/access_stats_income_varibuff_ACS17.csv\")\n",
    "access_income_stats"
   ]
  },
  {
   "cell_type": "markdown",
   "metadata": {},
   "source": [
    "## <font color=peru>Run spatial analysis on the amount of people distributed within a census block group against the varied park buffer area and the age/sex census data</font>"
   ]
  },
  {
   "cell_type": "code",
   "execution_count": null,
   "metadata": {},
   "outputs": [],
   "source": [
    "age_intersection = gpd.overlay(age, varibuff, how='intersection') #https://geopandas.org/set_operations.html\n",
    "age_intersection['agearea_intersec'] = age_intersection['geometry'].area\n",
    "age_intersection.to_file(wd+\"data/access/age_intersec_varibuff_ACS17.shp\")\n",
    "\n",
    "age_intersection"
   ]
  },
  {
   "cell_type": "code",
   "execution_count": null,
   "metadata": {},
   "outputs": [],
   "source": [
    "age_intersec=age_intersection.drop(['GLOBALID', 'CREATED_BY', 'CREATED_DA', 'MODIFIED_B', 'MODIFIED_D',\n",
    "       'Shape__Are', 'Shape__Len', 'fullarea_buff','MXASSETNUM', 'MXLOCATION', 'MXSITEID', 'MXCREATION', 'MXSTATUS',\n",
    "       'MXCONDITIO', 'MXPRIORITY', 'MXLOADID'], axis=1)"
   ]
  },
  {
   "cell_type": "code",
   "execution_count": null,
   "metadata": {},
   "outputs": [],
   "source": [
    "age_intersec.columns"
   ]
  },
  {
   "cell_type": "code",
   "execution_count": null,
   "metadata": {
    "scrolled": true
   },
   "outputs": [],
   "source": [
    "age_intersection[['GEOID10','Total_pop_','fullarea_age','LOCATION_N','fullarea_buff','agearea_intersec','geometry']]"
   ]
  },
  {
   "cell_type": "code",
   "execution_count": null,
   "metadata": {},
   "outputs": [],
   "source": [
    "age_intersec.columns"
   ]
  },
  {
   "cell_type": "code",
   "execution_count": null,
   "metadata": {},
   "outputs": [],
   "source": [
    "age_clip=age_intersec.copy()\n",
    "\n",
    "for val in age_clip:\n",
    "\n",
    "    age_clip['weight'] = age_clip['agearea_intersec']/ age_clip['fullarea_age']\n",
    "    \n",
    "    age_clip['Totalpop_served'] = age_clip['weight'] * age_clip['Total_pop_']\n",
    "    age_clip['Males_served'] = age_clip['weight'] * age_clip['Male']\n",
    "    age_clip['Males_served_Under5'] = age_clip['weight'] * age_clip['Male_Under']\n",
    "    age_clip['Males_served_Under18'] = age_clip['weight'] * age_clip['Male_Und_1']\n",
    "    age_clip['Males_served_Over65'] = age_clip['weight'] * age_clip['Male_Over6']\n",
    "    \n",
    "    age_clip['Females_served'] = age_clip['weight'] * age_clip['Female_']\n",
    "    age_clip['Females_served_Under5'] = age_clip['weight'] * age_clip['Female_Und']\n",
    "    age_clip['Females_served_Under18'] = age_clip['weight'] * age_clip['Female_U_1']\n",
    "    age_clip['Females_served_Over65'] = age_clip['weight'] * age_clip['Female_Ove']\n",
    "        \n",
    "age_clip.head()"
   ]
  },
  {
   "cell_type": "code",
   "execution_count": null,
   "metadata": {},
   "outputs": [],
   "source": [
    "#income_clip.columns"
   ]
  },
  {
   "cell_type": "code",
   "execution_count": null,
   "metadata": {},
   "outputs": [],
   "source": [
    "age_calc = age_clip[['LOCATION_N','Total_pop_', 'Totalpop_served', 'Males_served','Males_served_Under5','Males_served_Under18',\\\n",
    "                     'Males_served_Over65','Females_served','Females_served_Under5','Females_served_Under18',\\\n",
    "                     'Females_served_Over65','geometry']]\n",
    "\n",
    "age_access_data = age_calc.dissolve(by='LOCATION_N',as_index=False, aggfunc='sum')"
   ]
  },
  {
   "cell_type": "markdown",
   "metadata": {},
   "source": [
    "##### Combine the park area data to the access data"
   ]
  },
  {
   "cell_type": "code",
   "execution_count": null,
   "metadata": {},
   "outputs": [],
   "source": [
    "age_access_data = age_access_data.merge(parks_, on='LOCATION_N')"
   ]
  },
  {
   "cell_type": "code",
   "execution_count": null,
   "metadata": {},
   "outputs": [],
   "source": [
    "age_access_data"
   ]
  },
  {
   "cell_type": "code",
   "execution_count": null,
   "metadata": {},
   "outputs": [],
   "source": [
    "age_access_data.columns"
   ]
  },
  {
   "cell_type": "markdown",
   "metadata": {},
   "source": [
    "##### The population served by parks is nomalized by dividing the population served by the area of the park for which they are being served "
   ]
  },
  {
   "cell_type": "code",
   "execution_count": null,
   "metadata": {},
   "outputs": [],
   "source": [
    "age_access_data['Totalpop_served_norm'] = age_access_data['Totalpop_served']/age_access_data['ASSET_SIZE']\n",
    "age_access_data['Males_served_norm'] = age_access_data['Males_served']/age_access_data['ASSET_SIZE']\n",
    "age_access_data['Males_served_Under5_norm'] = age_access_data['Males_served_Under5']/age_access_data['ASSET_SIZE']\n",
    "age_access_data['Males_served_Under18_norm'] = age_access_data['Males_served_Under18']/age_access_data['ASSET_SIZE']\n",
    "age_access_data['Males_served_Over65_norm'] = age_access_data['Males_served_Over65']/age_access_data['ASSET_SIZE']\n",
    "\n",
    "age_access_data['Females_served_norm'] = age_access_data['Females_served']/age_access_data['ASSET_SIZE']\n",
    "age_access_data['Females_served_Under5_norm'] = age_access_data['Females_served_Under5']/age_access_data['ASSET_SIZE']\n",
    "age_access_data['Females_served_Under18_norm'] = age_access_data['Females_served_Under18']/age_access_data['ASSET_SIZE']\n",
    "age_access_data['Females_served_Over65_norm'] = age_access_data['Females_served_Over65']/age_access_data['ASSET_SIZE']\n",
    "\n",
    "age_access_data['Under5_served'] = age_access_data['Males_served_Under5'] + age_access_data['Females_served_Under5']\n",
    "age_access_data['Under5_served_norm'] = age_access_data['Under5_served']/age_access_data['ASSET_SIZE']\n",
    "\n",
    "age_access_data['Under18_served'] = age_access_data['Males_served_Under18'] + age_access_data['Females_served_Under18']\n",
    "age_access_data['Under18_served_norm'] = age_access_data['Under18_served']/age_access_data['ASSET_SIZE']\n",
    "\n",
    "age_access_data['Over65_served'] = age_access_data['Males_served_Over65'] + age_access_data['Females_served_Over65']\n",
    "age_access_data['Over65_served_norm'] = age_access_data['Over65_served']/age_access_data['ASSET_SIZE']\n",
    "\n",
    "age_access_data['Women_Children_under5']= age_access_data['Females_served'] + age_access_data['Males_served_Under5']\n",
    "age_access_data['Women_Children_under5_norm']= age_access_data['Women_Children_under5']/age_access_data['ASSET_SIZE']\n",
    "\n",
    "age_access_data['Women_Children_under18']= age_access_data['Females_served'] + age_access_data['Males_served_Under18']\n",
    "age_access_data['Women_Children_under18_norm']= age_access_data['Women_Children_under18']/age_access_data['ASSET_SIZE']"
   ]
  },
  {
   "cell_type": "code",
   "execution_count": null,
   "metadata": {},
   "outputs": [],
   "source": [
    "age_access_data.to_file(wd+\"data/access/access_data_age_sex_varibuff_ACS17.shp\")\n",
    "age_access_data"
   ]
  },
  {
   "cell_type": "markdown",
   "metadata": {},
   "source": [
    "#### A dataframe is created with the 'acess_data' geoshapefile. This dataframe is cleaned up and the values are convereted into integers. Finally, we export the dataframe into a csv file and a shapefile. "
   ]
  },
  {
   "cell_type": "code",
   "execution_count": null,
   "metadata": {},
   "outputs": [],
   "source": [
    "age_access_data.columns"
   ]
  },
  {
   "cell_type": "code",
   "execution_count": null,
   "metadata": {},
   "outputs": [],
   "source": [
    "df = pd.DataFrame(age_access_data)\n",
    "df['Park_Name']=df['LOCATION_N']\n",
    "\n",
    "df['Totalpop_served'] = df['Totalpop_served'].astype(int)\n",
    "df['Totalpop_served_norm'] = df['Totalpop_served_norm'].astype(int)\n",
    "\n",
    "df['Males_served'] = df['Males_served'].astype(int)\n",
    "df['Males_served_norm'] = df['Males_served_norm'].astype(int)\n",
    "\n",
    "df['Males_served_Under5'] = df['Males_served_Under5'].astype(int)\n",
    "df['Males_served_Under5_norm'] = df['Males_served_Under5_norm'].astype(int)\n",
    "\n",
    "df['Males_served_Under18'] = df['Males_served_Under18'].astype(int)\n",
    "df['Males_served_Under18_norm'] = df['Males_served_Under18_norm'].astype(int)\n",
    "\n",
    "df['Males_served_Over65'] = df['Males_served_Over65'].astype(int)\n",
    "df['Males_served_Over65_norm'] = df['Males_served_Over65_norm'].astype(int)\n",
    "\n",
    "df['Females_served'] = df['Females_served'].astype(int)\n",
    "df['Females_served_norm'] = df['Females_served_norm'].astype(int)\n",
    "\n",
    "df['Females_served_Under5'] = df['Females_served_Under5'].astype(int)\n",
    "df['Females_served_Under5_norm'] = df['Females_served_Under5_norm'].astype(int)\n",
    "\n",
    "df['Females_served_Under18'] = df['Females_served_Under18'].astype(int)\n",
    "df['Females_served_Under18_norm'] = df['Females_served_Under18_norm'].astype(int)\n",
    "\n",
    "df['Females_served_Over65'] = df['Females_served_Over65'].astype(int)\n",
    "df['Females_served_Over65_norm'] = df['Females_served_Over65_norm'].astype(int)\n",
    "\n",
    "df['Under5_served'] = df['Under5_served'].astype(int)\n",
    "df['Under5_served_norm'] = df['Under5_served_norm'].astype(int)\n",
    "\n",
    "df['Under18_served'] = df['Under18_served'].astype(int)\n",
    "df['Under18_served_norm'] = df['Under18_served_norm'].astype(int)\n",
    "\n",
    "df['Over65_served'] = df['Over65_served'].astype(int)\n",
    "df['Over65_served_norm'] = df['Over65_served_norm'].astype(int)\n",
    "\n",
    "df['Women_Children_under5']= df['Women_Children_under5'].astype(int)\n",
    "df['Women_Children_under5_norm']= df['Women_Children_under5_norm'].astype(int)\n",
    "\n",
    "df['Women_Children_under18']= df['Women_Children_under18'].astype(int)\n",
    "df['Women_Children_under18_norm']= df['Women_Children_under18_norm'].astype(int)"
   ]
  },
  {
   "cell_type": "code",
   "execution_count": null,
   "metadata": {},
   "outputs": [],
   "source": [
    "df.columns"
   ]
  },
  {
   "cell_type": "code",
   "execution_count": null,
   "metadata": {},
   "outputs": [],
   "source": [
    "access_age_final = df.copy()\n",
    "access_age_final = gpd.GeoDataFrame(access_age_final, geometry='geometry')\n",
    "access_age_final.to_file(wd+\"data/access/access_age_final_varibuff_ACS17.shp\")\n",
    "access_age_final.head()"
   ]
  },
  {
   "cell_type": "code",
   "execution_count": null,
   "metadata": {},
   "outputs": [],
   "source": [
    "access_agetable = df.drop(columns=['geometry'])\n",
    "access_agetable.to_csv(wd+\"data/access/access_table_age_varibuff_ACS17.csv\")\n",
    "access_agetable.head()"
   ]
  },
  {
   "cell_type": "code",
   "execution_count": null,
   "metadata": {},
   "outputs": [],
   "source": [
    "access_age_stats = access_agetable.describe()\n",
    "access_age_stats.to_csv(wd+\"data/access/access_stats_age_varibuff_ACS17.csv\")\n",
    "access_age_stats"
   ]
  },
  {
   "cell_type": "markdown",
   "metadata": {},
   "source": [
    "### END OF CODE"
   ]
  }
 ],
 "metadata": {
  "kernelspec": {
   "display_name": "Python 3",
   "language": "python",
   "name": "python3"
  },
  "language_info": {
   "codemirror_mode": {
    "name": "ipython",
    "version": 3
   },
   "file_extension": ".py",
   "mimetype": "text/x-python",
   "name": "python",
   "nbconvert_exporter": "python",
   "pygments_lexer": "ipython3",
   "version": "3.7.4"
  }
 },
 "nbformat": 4,
 "nbformat_minor": 2
}
