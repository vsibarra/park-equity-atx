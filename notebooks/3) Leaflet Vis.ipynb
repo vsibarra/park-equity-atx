{
 "cells": [
  {
   "cell_type": "code",
   "execution_count": 1,
   "metadata": {},
   "outputs": [],
   "source": [
    "import geopandas as gpd\n",
    "import pandas as pd\n",
    "import os\n",
    "import getpass\n",
    "import matplotlib.pyplot as plt\n",
    "import re\n",
    "import ipyleaflet as ipy \n",
    "import json\n",
    "import ipywidgets"
   ]
  },
  {
   "cell_type": "code",
   "execution_count": 2,
   "metadata": {},
   "outputs": [],
   "source": [
    "wd = os.getcwd()\n",
    "wd = wd[:wd.find('notebooks')]"
   ]
  },
  {
   "cell_type": "code",
   "execution_count": 3,
   "metadata": {},
   "outputs": [],
   "source": [
    "#landuse = gpd.read_file(wd+\\\"data//\")\n",
    "acl = gpd.read_file(wd+\"data/fulljurisdiction/austincitylimitsgj.geojson\")\n",
    "cbg = gpd.read_file(wd+\"data/censusblockgroups/cbggj.geojson\")\n",
    "pop = gpd.read_file(wd+\"data/blockgroups_censusdata/popcount.geojson\")\n",
    "race = gpd.read_file(wd+\"data/blockgroups_censusdata/race.geojson\")\n",
    "income = gpd.read_file(wd+\"data/blockgroups_censusdata/income.geojson\")\n",
    "halfbuff = gpd.read_file(wd+\"data/coaparks_buffer/halfbuffgj.geojson\")\n",
    "quarbuff = gpd.read_file(wd+\"data/coaparks_buffer/quarterbuffgj.geojson\")\n",
    "varibuff = gpd.read_file(wd+\"data/coaparks_buffer/varibuffgj.geojson\")\n",
    "parks = gpd.read_file(wd+\"data/coaparks/parkboundaries.geojson\")\n",
    "#parks = gpd.read_file(\"https://data.austintexas.gov/api/geospatial/8f2b-a4q5?method=export&format=GeoJSON\")"
   ]
  },
  {
   "cell_type": "code",
   "execution_count": 4,
   "metadata": {},
   "outputs": [],
   "source": [
    "# Estimate = Total population\n",
    "# Estimate_1  = Not hispanic or latino\n",
    "# Estimate_2 = white\n",
    "# Estimate_3 = Black or African American\n",
    "# Estimate_4 = American Indian or Native Alaskan\n",
    "# Estimate_5 = Asian\n",
    "# esitamte_6 = Native Hawaiian and Other Pasific Islander\n",
    "# Estimate_7 = Other race\n",
    "# Estiamte_8 = Non Hispanic - 2 or more Races\n",
    "# Estimate_9 = Hispanic Or Latino\n",
    "# Sum of Non is same as total poputaion is the sum of non hispanic and hispanic. "
   ]
  },
  {
   "cell_type": "code",
   "execution_count": 5,
   "metadata": {},
   "outputs": [],
   "source": [
    "quarbuf_data = ipy.GeoData(geo_dataframe = quarbuff,\n",
    "                       style={'color': 'black', 'fillColor': '#eb0c0c', 'opacity':0.5, 'weight':1, 'dashArray':'2', 'fillOpacity':0.6},\n",
    "                       hover_style={'fillColor': 'red' , 'fillOpacity': 0.2},\n",
    "                       name = 'Quarter Mile Buffer')\n",
    "\n",
    "halfbuf_data = ipy.GeoData(geo_dataframe = halfbuff,\n",
    "                       style={'color': 'black', 'fillColor': '#ffaa00', 'opacity':0.5, 'weight':1, 'dashArray':'2', 'fillOpacity':0.6},\n",
    "                       hover_style={'fillColor': 'red' , 'fillOpacity': 0.2},\n",
    "                       name = 'Half Mile Buffer')\n",
    "\n",
    "varibuf_data = ipy.GeoData(geo_dataframe = varibuff,\n",
    "                       style={'color': 'black', 'fillColor': '#fcf800', 'opacity':0.5, 'weight':1, 'dashArray':'2', 'fillOpacity':0.6},\n",
    "                       hover_style={'fillColor': 'red' , 'fillOpacity': 0.2},\n",
    "                       name = 'Variable Mile Buffer')\n",
    "\n",
    "pop_data = ipy.GeoData(geo_dataframe=pop,\n",
    "                    style={'color': 'black', 'fillColor': '#ac7c72', 'opacity':0.5, 'weight':1, 'dashArray':'2', 'fillOpacity':0.6},\n",
    "                    hover_style={'fillColor': 'red' , 'fillOpacity': 0.2},\n",
    "                    name = 'Population Data')\n",
    "\n",
    "#acl_data = ipy.GeoData(geo_dataframe = acl,\n",
    "                      # style={'color': 'white', 'opacity':0.05, 'weight':5, 'dashArray':'2', 'fillOpacity':0.6},\n",
    "                       #name = 'Austin City Limits')\n",
    "#m.add_layer(acl_data)"
   ]
  },
  {
   "cell_type": "code",
   "execution_count": 6,
   "metadata": {},
   "outputs": [
    {
     "data": {
      "application/vnd.jupyter.widget-view+json": {
       "model_id": "9b495363a3ed413d9a2927346fe61221",
       "version_major": 2,
       "version_minor": 0
      },
      "text/plain": [
       "Dropdown(description='Radius within Parks', options=('Quarter Mile Buffer', 'Half Mile Buffer', 'Varied Buffer…"
      ]
     },
     "metadata": {},
     "output_type": "display_data"
    },
    {
     "data": {
      "application/vnd.jupyter.widget-view+json": {
       "model_id": "2eacccd040ba4679a99a5702306fa590",
       "version_major": 2,
       "version_minor": 0
      },
      "text/plain": [
       "VBox(children=(Map(basemap={'url': 'http://server.arcgisonline.com/ArcGIS/rest/services/World_Topo_Map/MapServ…"
      ]
     },
     "metadata": {},
     "output_type": "display_data"
    }
   ],
   "source": [
    "m = ipy.Map(center=(30.26,-97.74), zoom = 10, basemap= ipy.basemaps.Esri.WorldTopoMap)\n",
    "\n",
    "def hover_handler(event=None, id=None, properties=None, feature=None):\n",
    "    label_name.value='Park: '+ str(properties['LOCATION_N'])\n",
    "    label_parks.value = 'Park acreage: ' + str(properties['ASSET_SIZE'])\n",
    "    label_buff.value = 'Area within park: '+ str(dropdown.value)\n",
    "\n",
    "# Not in use anymore..pending deletion\n",
    "def hover_handler2(event=None, id=None, properties=None, feature=None):\n",
    "    label_pop.value='Pop: '+ str(properties['Estimate;'])    \n",
    "\n",
    "def on_dropdown_change(change):\n",
    "    if change.new == 'Quarter Mile Buffer':\n",
    "        if len(layer_group.layers) > 2:\n",
    "            layer_group.remove_layer(layer_group.layers[2])\n",
    "        layer_group.add_layer(quarbuf_data)\n",
    "    if change.new == 'Half Mile Buffer':\n",
    "        if len(layer_group.layers) > 2:\n",
    "            layer_group.remove_layer(layer_group.layers[2])\n",
    "        layer_group.add_layer(halfbuf_data)\n",
    "    if change.new == 'Varied Buffers':\n",
    "        if len(layer_group.layers) > 2:\n",
    "            layer_group.remove_layer(layer_group.layers[2])\n",
    "        layer_group.add_layer(varibuf_data)\n",
    "\n",
    "        \n",
    "\n",
    "park_data = ipy.GeoData(geo_dataframe = parks,\n",
    "                       style={'color': 'black', 'fillColor': '#5c8000', 'opacity':1, 'weight':1, 'dashArray':'2', 'fillOpacity':0.6},\n",
    "                       hover_style={'fillColor': 'red' , 'fillOpacity': 0.2},\n",
    "                       name = 'Parks'\n",
    "                       )\n",
    "\n",
    "\n",
    "label_parks = ipywidgets.Label(layout=ipywidgets.Layout(width='100%'))\n",
    "label_name = ipywidgets.Label(layout=ipywidgets.Layout(width='100%'))\n",
    "label_buff = ipywidgets.Label(layout=ipywidgets.Layout(width='100%'))\n",
    "label_pop = ipywidgets.Label(layout=ipywidgets.Layout(width='100%'))\n",
    "\n",
    "dropdown = ipywidgets.Dropdown(options=['Quarter Mile Buffer', 'Half Mile Buffer', 'Varied Buffers'],\n",
    "                    value='Quarter Mile Buffer', \n",
    "                    description='Radius within Parks',\n",
    "                    disabled=False)\n",
    "display(dropdown)\n",
    "dropdown.observe(on_dropdown_change)\n",
    "\n",
    "park_data.on_hover(hover_handler)\n",
    "pop_data.on_hover(hover_handler2)\n",
    "\n",
    "#acl_data.on_hover(hover_handler_acl)\n",
    "#m.add_layer(acl_data)\n",
    "layer_group = ipy.LayerGroup(layers=(park_data, pop_data, quarbuf_data))\n",
    "\n",
    "m.add_layer(layer_group)\n",
    "m.add_control(ipy.LayersControl())\n",
    "m\n",
    "ipywidgets.VBox([m, label_name, label_parks, label_buff, label_pop])"
   ]
  },
  {
   "cell_type": "code",
   "execution_count": null,
   "metadata": {},
   "outputs": [],
   "source": []
  }
 ],
 "metadata": {
  "kernelspec": {
   "display_name": "Python 3",
   "language": "python",
   "name": "python3"
  },
  "language_info": {
   "codemirror_mode": {
    "name": "ipython",
    "version": 3
   },
   "file_extension": ".py",
   "mimetype": "text/x-python",
   "name": "python",
   "nbconvert_exporter": "python",
   "pygments_lexer": "ipython3",
   "version": "3.7.3"
  }
 },
 "nbformat": 4,
 "nbformat_minor": 2
}
