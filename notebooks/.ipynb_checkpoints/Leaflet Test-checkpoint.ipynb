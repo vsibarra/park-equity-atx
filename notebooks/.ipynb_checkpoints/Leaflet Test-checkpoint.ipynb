{
 "cells": [
  {
   "cell_type": "code",
   "execution_count": 42,
   "metadata": {},
   "outputs": [],
   "source": [
    "import geopandas as gpd\n",
    "import pandas as pd\n",
    "import os\n",
    "import getpass\n",
    "import matplotlib.pyplot as plt\n",
    "import re\n",
    "import ipyleaflet as ipy \n",
    "import json\n",
    "import ipywidgets"
   ]
  },
  {
   "cell_type": "code",
   "execution_count": 2,
   "metadata": {},
   "outputs": [],
   "source": [
    "wd = os.getcwd()\n",
    "wd = wd[:wd.find('notebooks')]"
   ]
  },
  {
   "cell_type": "code",
   "execution_count": 50,
   "metadata": {},
   "outputs": [],
   "source": [
    "#landuse = gpd.read_file(wd+\\\"data//\")\n",
    "acl = gpd.read_file(wd+\"data/fulljurisdiction/austincitylimitsgj.geojson\")\n",
    "cbg = gpd.read_file(wd+\"data/censusblockgroups/cbggj.geojson\")\n",
    "pop = pd.read_excel(wd+\"data/censustables/ACS_17_5yr_totalpop_allcounties.xlsx\")\n",
    "race = pd.read_excel(wd+\"data/censustables/ACS_17_5yr_race_includinglatinx.xlsx\")\n",
    "halfbuff = gpd.read_file(wd+\"data/coaparks_buffer/halfbuffgj.geojson\")\n",
    "quarbuff = gpd.read_file(wd+\"data/coaparks_buffer/quarterbuffgj.geojson\")\n",
    "varibuff = gpd.read_file(wd+\"data/coaparks_buffer/varibuffgj.geojson\")\n",
    "parks = gpd.read_file(wd+\"data/coaparks/parkboundaries.geojson\")\n",
    "#parks = gpd.read_file(\"https://data.austintexas.gov/api/geospatial/8f2b-a4q5?method=export&format=GeoJSON\")"
   ]
  },
  {
   "cell_type": "code",
   "execution_count": 68,
   "metadata": {},
   "outputs": [],
   "source": [
    "m = ipy.Map(center=(30.26,-97.74), zoom = 10, basemap= ipy.basemaps.Esri.WorldTopoMap)"
   ]
  },
  {
   "cell_type": "code",
   "execution_count": 69,
   "metadata": {
    "scrolled": false
   },
   "outputs": [
    {
     "data": {
      "application/vnd.jupyter.widget-view+json": {
       "model_id": "f0bc493d863d4a52b4d71f8ea81d740c",
       "version_major": 2,
       "version_minor": 0
      },
      "text/plain": [
       "VBox(children=(Map(basemap={'url': 'http://server.arcgisonline.com/ArcGIS/rest/services/World_Topo_Map/MapServ…"
      ]
     },
     "metadata": {},
     "output_type": "display_data"
    }
   ],
   "source": [
    "'''\n",
    "quarbuf_data = ipy.GeoData(geo_dataframe = quarbuff,\n",
    "                       style={'color': 'black', 'fillColor': '#eb0c0c', 'opacity':0.5, 'weight':1, 'dashArray':'2', 'fillOpacity':0.6},\n",
    "                       hover_style={'fillColor': 'red' , 'fillOpacity': 0.2},\n",
    "                       name = 'Quarter Mile Buffer')\n",
    "m.add_layer(quarbuf_data)\n",
    "\n",
    "halfbuf_data = ipy.GeoData(geo_dataframe = halfbuff,\n",
    "                       style={'color': 'black', 'fillColor': '#ffaa00', 'opacity':0.5, 'weight':1, 'dashArray':'2', 'fillOpacity':0.6},\n",
    "                       hover_style={'fillColor': 'red' , 'fillOpacity': 0.2},\n",
    "                       name = 'Half Mile Buffer')\n",
    "m.add_layer(halfbuf_data)\n",
    "\n",
    "'''\n",
    "\n",
    "\n",
    "ipywidgets.Dropdown(\n",
    "    options=['Quarter Mile Buffer', 'Half Mile Buffer', 'Varied Buffers'],\n",
    "    value='Half Mile Buffer',\n",
    "    description='Radius within Parks',\n",
    "    disabled=False,\n",
    ")\n",
    "\n",
    "\n",
    "varibuf_data = ipy.GeoData(geo_dataframe = varibuff,\n",
    "                       style={'color': 'black', 'fillColor': '#fcf800', 'opacity':0.5, 'weight':1, 'dashArray':'2', 'fillOpacity':0.6},\n",
    "                       hover_style={'fillColor': 'red' , 'fillOpacity': 0.2},\n",
    "                       name = 'Variable Mile Buffer')\n",
    "m.add_layer(varibuf_data)\n",
    "\n",
    "\n",
    "label_parks = ipywidgets.Label(layout=ipywidgets.Layout(width='100%'))\n",
    "label_acl = ipywidgets.Label(layout=ipywidgets.Layout(width='100%'))\n",
    "\n",
    "def hover_handler(event=None, id=None, properties=None, feature=None):\n",
    "    label_parks.value = str(properties['ASSET_SIZE'])\n",
    "    label_acl.value=str(properties['jurisdicti'])\n",
    "#def hover_handler_acl(event=None, id=None, properties=None, feature=None):\n",
    "    \n",
    "    \n",
    "    \n",
    "park_data = ipy.GeoData(geo_dataframe = parks,\n",
    "                       style={'color': 'black', 'fillColor': '#5c8000', 'opacity':1, 'weight':1, 'dashArray':'2', 'fillOpacity':0.6},\n",
    "                       name = 'Parks')\n",
    "\n",
    "acl_data = ipy.GeoData(geo_dataframe = acl,\n",
    "                      style={'color': 'white', 'opacity':0.05, 'weight':5, 'dashArray':'2', 'fillOpacity':0.6},\n",
    "                       name = 'Austin City Limits')\n",
    "\n",
    "\n",
    "\n",
    "# Add popup display\n",
    "popup = ipy.Popup(location = (30.26,-97.74),\n",
    "             child=message,\n",
    "             close_button=True,\n",
    "             auto_close = False,\n",
    "             close_on_escape=False,\n",
    "             name = 'Popup'\n",
    "             )\n",
    "\n",
    "park_data.on_hover(hover_handler)\n",
    "#acl_data.on_hover(hover_handler_acl)\n",
    "m.add_layer(park_data)\n",
    "m.add_layer(acl_data)\n",
    "m.add_control(ipy.LayersControl())\n",
    "ipywidgets.VBox([m, label_parks, label_acl])"
   ]
  },
  {
   "cell_type": "code",
   "execution_count": 60,
   "metadata": {},
   "outputs": [
    {
     "data": {
      "text/plain": [
       "Index(['city_name', 'jurisdicti', 'jurisdic_1', 'jurisdic_2', 'jurisdic_3',\n",
       "       'modified_f', 'objectid', 'shape_area', 'shape_leng', 'geometry'],\n",
       "      dtype='object')"
      ]
     },
     "execution_count": 60,
     "metadata": {},
     "output_type": "execute_result"
    }
   ],
   "source": [
    "acl.columns"
   ]
  },
  {
   "cell_type": "code",
   "execution_count": null,
   "metadata": {},
   "outputs": [],
   "source": []
  },
  {
   "cell_type": "code",
   "execution_count": null,
   "metadata": {},
   "outputs": [],
   "source": [
    "\n"
   ]
  }
 ],
 "metadata": {
  "kernelspec": {
   "display_name": "park_env",
   "language": "python",
   "name": "park_env"
  },
  "language_info": {
   "codemirror_mode": {
    "name": "ipython",
    "version": 3
   },
   "file_extension": ".py",
   "mimetype": "text/x-python",
   "name": "python",
   "nbconvert_exporter": "python",
   "pygments_lexer": "ipython3",
   "version": "3.7.4"
  }
 },
 "nbformat": 4,
 "nbformat_minor": 2
}
