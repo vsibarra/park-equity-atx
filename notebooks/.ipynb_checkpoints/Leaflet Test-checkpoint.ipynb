{
 "cells": [
  {
   "cell_type": "code",
   "execution_count": 1,
   "metadata": {},
   "outputs": [],
   "source": [
    "import geopandas as gpd\n",
    "import pandas as pd\n",
    "import os\n",
    "import getpass\n",
    "import matplotlib.pyplot as plt\n",
    "import re\n",
    "import ipyleaflet as ipy \n",
    "import json\n",
    "import ipywidgets"
   ]
  },
  {
   "cell_type": "code",
   "execution_count": 2,
   "metadata": {},
   "outputs": [],
   "source": [
    "wd = os.getcwd()\n",
    "wd = wd[:wd.find('notebooks')]"
   ]
  },
  {
   "cell_type": "code",
   "execution_count": 3,
   "metadata": {},
   "outputs": [],
   "source": [
    "#landuse = gpd.read_file(wd+\\\"data//\")\n",
    "acl = gpd.read_file(wd+\"data/fulljurisdiction/austincitylimitsgj.geojson\")\n",
    "cbg = gpd.read_file(wd+\"data/censusblockgroups/cbggj.geojson\")\n",
    "pop = pd.read_excel(wd+\"data/censustables/ACS_17_5yr_totalpop_allcounties.xlsx\")\n",
    "race = pd.read_excel(wd+\"data/censustables/ACS_17_5yr_race_includinglatinx.xlsx\")\n",
    "halfbuff = gpd.read_file(wd+\"data/coaparks_buffer/halfbuffgj.geojson\")\n",
    "quarbuff = gpd.read_file(wd+\"data/coaparks_buffer/quarterbuffgj.geojson\")\n",
    "varibuff = gpd.read_file(wd+\"data/coaparks_buffer/varibuffgj.geojson\")\n",
    "parks = gpd.read_file(wd+\"data/coaparks/parkboundaries.geojson\")\n",
    "#parks = gpd.read_file(\"https://data.austintexas.gov/api/geospatial/8f2b-a4q5?method=export&format=GeoJSON\")"
   ]
  },
  {
   "cell_type": "code",
   "execution_count": 36,
   "metadata": {},
   "outputs": [
    {
     "data": {
      "text/plain": [
       "<bound method Series.unique of 0      482090101001\n",
       "1      482090101002\n",
       "2      482090102001\n",
       "3      482090102002\n",
       "4      482090102003\n",
       "           ...     \n",
       "898    484910216013\n",
       "899    484910216021\n",
       "900    484910216022\n",
       "901    484910216031\n",
       "902    484910216032\n",
       "Name: Id2, Length: 903, dtype: int64>"
      ]
     },
     "execution_count": 36,
     "metadata": {},
     "output_type": "execute_result"
    }
   ],
   "source": [
    "race['Id2'].unique"
   ]
  },
  {
   "cell_type": "code",
   "execution_count": 47,
   "metadata": {},
   "outputs": [
    {
     "data": {
      "text/plain": [
       "903"
      ]
     },
     "execution_count": 47,
     "metadata": {},
     "output_type": "execute_result"
    }
   ],
   "source": [
    "shpexcmerger = blocks.merge(tables, left_on=blockgroup, right_on='Id2', suffixes=('_blocks', '_tables'))"
   ]
  },
  {
   "cell_type": "code",
   "execution_count": 49,
   "metadata": {},
   "outputs": [
    {
     "data": {
      "text/plain": [
       "False"
      ]
     },
     "execution_count": 49,
     "metadata": {},
     "output_type": "execute_result"
    }
   ],
   "source": [
    "cbg['GEOID10'].str.slice(start=0, stop=12).equals(pop['Id2'])"
   ]
  },
  {
   "cell_type": "code",
   "execution_count": 4,
   "metadata": {},
   "outputs": [],
   "source": [
    "halfbuf_data = ipy.GeoData(geo_dataframe = halfbuff,\n",
    "                       style={'color': 'black', 'fillColor': '#ffaa00', 'opacity':0.5, 'weight':1, 'dashArray':'2', 'fillOpacity':0.6},\n",
    "                       hover_style={'fillColor': 'red' , 'fillOpacity': 0.2},\n",
    "                       name = 'Half Mile Buffer')\n",
    "\n",
    "varibuf_data = ipy.GeoData(geo_dataframe = varibuff,\n",
    "                       style={'color': 'black', 'fillColor': '#fcf800', 'opacity':0.5, 'weight':1, 'dashArray':'2', 'fillOpacity':0.6},\n",
    "                       hover_style={'fillColor': 'red' , 'fillOpacity': 0.2},\n",
    "                       name = 'Variable Mile Buffer')\n",
    "\n",
    "#acl_data = ipy.GeoData(geo_dataframe = acl,\n",
    "                      # style={'color': 'white', 'opacity':0.05, 'weight':5, 'dashArray':'2', 'fillOpacity':0.6},\n",
    "                       #name = 'Austin City Limits')\n",
    "#m.add_layer(acl_data)"
   ]
  },
  {
   "cell_type": "code",
   "execution_count": 8,
   "metadata": {
    "scrolled": false
   },
   "outputs": [
    {
     "data": {
      "application/vnd.jupyter.widget-view+json": {
       "model_id": "471e0bce3b8e4e47a311c7bedf2b9892",
       "version_major": 2,
       "version_minor": 0
      },
      "text/plain": [
       "Dropdown(description='Radius within Parks', index=1, options=('Quarter Mile Buffer', 'Half Mile Buffer', 'Vari…"
      ]
     },
     "metadata": {},
     "output_type": "display_data"
    },
    {
     "data": {
      "application/vnd.jupyter.widget-view+json": {
       "model_id": "a07db4933b474328b9c523053a52f25b",
       "version_major": 2,
       "version_minor": 0
      },
      "text/plain": [
       "VBox(children=(Map(basemap={'url': 'http://server.arcgisonline.com/ArcGIS/rest/services/World_Topo_Map/MapServ…"
      ]
     },
     "metadata": {},
     "output_type": "display_data"
    }
   ],
   "source": [
    "m = ipy.Map(center=(30.26,-97.74), zoom = 10, basemap= ipy.basemaps.Esri.WorldTopoMap)\n",
    "\n",
    "def hover_handler(event=None, id=None, properties=None, feature=None):\n",
    "    label_name.value='Park: '+ str(properties['LOCATION_N'])\n",
    "    label_parks.value = 'Park acreage: ' + str(properties['ASSET_SIZE'])\n",
    "    label_buff.value = 'Buff: '+ str(dropdown.value)\n",
    "\n",
    "# Not in use anymore...\n",
    "def hover_handler2(event=None, id=None, properties=None, feature=None):\n",
    "    label_name.value='Park: '+ str(properties['LOCATION_N'])\n",
    "    label_parks.value = 'Park acreage: ' + str(properties['ASSET_SIZE'])\n",
    "    \n",
    "\n",
    "def on_dropdown_change(change):\n",
    "    if change.new == 'Quarter Mile Buffer':\n",
    "        m.remove_layer(quarbuf_data)\n",
    "        quarbuf_data.on_hover(hover_handler)\n",
    "        m.add_layer(quarbuf_data)\n",
    "\n",
    "quarbuf_data = ipy.GeoData(geo_dataframe = quarbuff,\n",
    "                       style={'color': 'black', 'fillColor': '#eb0c0c', 'opacity':0.5, 'weight':1, 'dashArray':'2', 'fillOpacity':0.6},\n",
    "                       hover_style={'fillColor': 'red' , 'fillOpacity': 0.2},\n",
    "                       name = 'Quarter Mile Buffer')\n",
    "\n",
    "\n",
    "\n",
    "park_data = ipy.GeoData(geo_dataframe = parks,\n",
    "                       style={'color': 'black', 'fillColor': '#5c8000', 'opacity':1, 'weight':1, 'dashArray':'2', 'fillOpacity':0.6},\n",
    "                       hover_style={'fillColor': 'red' , 'fillOpacity': 0.2},\n",
    "                       name = 'Parks'\n",
    "                       )\n",
    "\n",
    "\n",
    "label_parks = ipywidgets.Label(layout=ipywidgets.Layout(width='100%'))\n",
    "label_name = ipywidgets.Label(layout=ipywidgets.Layout(width='100%'))\n",
    "label_buff = ipywidgets.Label(layout=ipywidgets.Layout(width='100%'))\n",
    "\n",
    "dropdown = ipywidgets.Dropdown(options=['Quarter Mile Buffer', 'Half Mile Buffer', 'Varied Buffers'],\n",
    "                    value='Half Mile Buffer', \n",
    "                    description='Radius within Parks',\n",
    "                    disabled=False)\n",
    "display(dropdown)\n",
    "dropdown.observe(on_dropdown_change)\n",
    "\n",
    "park_data.on_hover(hover_handler)\n",
    "#acl_data.on_hover(hover_handler_acl)\n",
    "#m.add_layer(acl_data)\n",
    "m.add_layer(quarbuf_data)\n",
    "m.add_layer(park_data)\n",
    "m.add_control(ipy.LayersControl())\n",
    "m\n",
    "ipywidgets.VBox([m, label_name, label_parks, label_buff])"
   ]
  },
  {
   "cell_type": "code",
   "execution_count": null,
   "metadata": {},
   "outputs": [],
   "source": [
    "help(ipywidgets.Dropdown)"
   ]
  },
  {
   "cell_type": "code",
   "execution_count": null,
   "metadata": {},
   "outputs": [],
   "source": [
    "quarbuff.head()"
   ]
  },
  {
   "cell_type": "code",
   "execution_count": null,
   "metadata": {},
   "outputs": [],
   "source": []
  }
 ],
 "metadata": {
  "kernelspec": {
   "display_name": "park_env",
   "language": "python",
   "name": "park_env"
  },
  "language_info": {
   "codemirror_mode": {
    "name": "ipython",
    "version": 3
   },
   "file_extension": ".py",
   "mimetype": "text/x-python",
   "name": "python",
   "nbconvert_exporter": "python",
   "pygments_lexer": "ipython3",
   "version": "3.7.4"
  }
 },
 "nbformat": 4,
 "nbformat_minor": 2
}
