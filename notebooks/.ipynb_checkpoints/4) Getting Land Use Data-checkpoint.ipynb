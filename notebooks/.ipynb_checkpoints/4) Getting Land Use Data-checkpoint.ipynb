{
 "cells": [
  {
   "cell_type": "markdown",
   "metadata": {},
   "source": [
    "## Take the Land Use database 2016 file from the Austin Open Data Portal and reduces the file to a usealbe format "
   ]
  },
  {
   "cell_type": "code",
   "execution_count": 6,
   "metadata": {},
   "outputs": [],
   "source": [
    "import geopandas as gpd\n",
    "import pandas as pd\n",
    "import matplotlib.pyplot as plt\n",
    "import os\n",
    "from ipyleaflet import Map, GeoData, basemaps, LayersControl"
   ]
  },
  {
   "cell_type": "code",
   "execution_count": 2,
   "metadata": {},
   "outputs": [],
   "source": [
    "wd = os.getcwd()\n",
    "wd = wd[:wd.find('notebooks')]"
   ]
  },
  {
   "cell_type": "code",
   "execution_count": 3,
   "metadata": {},
   "outputs": [],
   "source": [
    "#acl = gpd.read_file(wd+'data/fulljurisdiction/austincitylimits.shp')\n",
    "#acl.crs = {'init': 'epsg:102739'}"
   ]
  },
  {
   "cell_type": "code",
   "execution_count": 4,
   "metadata": {},
   "outputs": [],
   "source": [
    "#acl"
   ]
  },
  {
   "cell_type": "code",
   "execution_count": 3,
   "metadata": {},
   "outputs": [],
   "source": [
    "citybound = gpd.read_file('https://data.austintexas.gov/api/geospatial/3pzb-6mbr?method=export&format=GeoJSON')\n",
    "#citybound['city'] = 'Austin'"
   ]
  },
  {
   "cell_type": "code",
   "execution_count": 4,
   "metadata": {},
   "outputs": [
    {
     "data": {
      "text/html": [
       "<div>\n",
       "<style scoped>\n",
       "    .dataframe tbody tr th:only-of-type {\n",
       "        vertical-align: middle;\n",
       "    }\n",
       "\n",
       "    .dataframe tbody tr th {\n",
       "        vertical-align: top;\n",
       "    }\n",
       "\n",
       "    .dataframe thead th {\n",
       "        text-align: right;\n",
       "    }\n",
       "</style>\n",
       "<table border=\"1\" class=\"dataframe\">\n",
       "  <thead>\n",
       "    <tr style=\"text-align: right;\">\n",
       "      <th></th>\n",
       "      <th>shape_area</th>\n",
       "      <th>modified_fips</th>\n",
       "      <th>objectid</th>\n",
       "      <th>jurisdiction_label</th>\n",
       "      <th>shape_length</th>\n",
       "      <th>jurisdictions_id</th>\n",
       "      <th>city_name</th>\n",
       "      <th>jurisdiction_type_specifics</th>\n",
       "      <th>jurisdiction_type</th>\n",
       "      <th>geometry</th>\n",
       "    </tr>\n",
       "  </thead>\n",
       "  <tbody>\n",
       "    <tr>\n",
       "      <th>0</th>\n",
       "      <td>117836728.685547</td>\n",
       "      <td>205</td>\n",
       "      <td>236</td>\n",
       "      <td>AUSTIN 5 MILE ETJ</td>\n",
       "      <td>58893.8820348363</td>\n",
       "      <td>400508415</td>\n",
       "      <td>CITY OF AUSTIN</td>\n",
       "      <td>5 MILE ETJ</td>\n",
       "      <td>5MILE</td>\n",
       "      <td>(POLYGON ((-97.752423476064 30.078842394235, -...</td>\n",
       "    </tr>\n",
       "    <tr>\n",
       "      <th>1</th>\n",
       "      <td>9753.138671875</td>\n",
       "      <td>202</td>\n",
       "      <td>184</td>\n",
       "      <td>AUSTIN 2 MILE ETJ</td>\n",
       "      <td>447.406502158537</td>\n",
       "      <td>311</td>\n",
       "      <td>CITY OF AUSTIN</td>\n",
       "      <td>2 MILE ETJ</td>\n",
       "      <td>2MILE</td>\n",
       "      <td>(POLYGON ((-97.831909250146 30.326340414064, -...</td>\n",
       "    </tr>\n",
       "    <tr>\n",
       "      <th>2</th>\n",
       "      <td>17207960.6464844</td>\n",
       "      <td>211</td>\n",
       "      <td>430</td>\n",
       "      <td>AUSTIN LTD</td>\n",
       "      <td>35663.0671682806</td>\n",
       "      <td>400359641</td>\n",
       "      <td>CITY OF AUSTIN</td>\n",
       "      <td>LIMITED PURPOSE PLANNING ZONING</td>\n",
       "      <td>LTD</td>\n",
       "      <td>(POLYGON ((-97.815319682664 30.346252467717, -...</td>\n",
       "    </tr>\n",
       "    <tr>\n",
       "      <th>3</th>\n",
       "      <td>176599.8046875</td>\n",
       "      <td>202</td>\n",
       "      <td>175</td>\n",
       "      <td>AUSTIN 2 MILE ETJ</td>\n",
       "      <td>1773.67497128701</td>\n",
       "      <td>52</td>\n",
       "      <td>CITY OF AUSTIN</td>\n",
       "      <td>2 MILE ETJ</td>\n",
       "      <td>2MILE</td>\n",
       "      <td>(POLYGON ((-97.66510976491701 30.449441706986,...</td>\n",
       "    </tr>\n",
       "    <tr>\n",
       "      <th>4</th>\n",
       "      <td>26957.341796875</td>\n",
       "      <td>202</td>\n",
       "      <td>341</td>\n",
       "      <td>AUSTIN 2 MILE ETJ</td>\n",
       "      <td>725.804400649227</td>\n",
       "      <td>292</td>\n",
       "      <td>CITY OF AUSTIN</td>\n",
       "      <td>2 MILE ETJ</td>\n",
       "      <td>2MILE</td>\n",
       "      <td>(POLYGON ((-97.7824456921 30.393095518776, -97...</td>\n",
       "    </tr>\n",
       "  </tbody>\n",
       "</table>\n",
       "</div>"
      ],
      "text/plain": [
       "         shape_area modified_fips objectid jurisdiction_label  \\\n",
       "0  117836728.685547           205      236  AUSTIN 5 MILE ETJ   \n",
       "1    9753.138671875           202      184  AUSTIN 2 MILE ETJ   \n",
       "2  17207960.6464844           211      430         AUSTIN LTD   \n",
       "3    176599.8046875           202      175  AUSTIN 2 MILE ETJ   \n",
       "4   26957.341796875           202      341  AUSTIN 2 MILE ETJ   \n",
       "\n",
       "       shape_length jurisdictions_id       city_name  \\\n",
       "0  58893.8820348363        400508415  CITY OF AUSTIN   \n",
       "1  447.406502158537              311  CITY OF AUSTIN   \n",
       "2  35663.0671682806        400359641  CITY OF AUSTIN   \n",
       "3  1773.67497128701               52  CITY OF AUSTIN   \n",
       "4  725.804400649227              292  CITY OF AUSTIN   \n",
       "\n",
       "       jurisdiction_type_specifics jurisdiction_type  \\\n",
       "0                       5 MILE ETJ             5MILE   \n",
       "1                       2 MILE ETJ             2MILE   \n",
       "2  LIMITED PURPOSE PLANNING ZONING               LTD   \n",
       "3                       2 MILE ETJ             2MILE   \n",
       "4                       2 MILE ETJ             2MILE   \n",
       "\n",
       "                                            geometry  \n",
       "0  (POLYGON ((-97.752423476064 30.078842394235, -...  \n",
       "1  (POLYGON ((-97.831909250146 30.326340414064, -...  \n",
       "2  (POLYGON ((-97.815319682664 30.346252467717, -...  \n",
       "3  (POLYGON ((-97.66510976491701 30.449441706986,...  \n",
       "4  (POLYGON ((-97.7824456921 30.393095518776, -97...  "
      ]
     },
     "execution_count": 4,
     "metadata": {},
     "output_type": "execute_result"
    }
   ],
   "source": [
    "citybound.head()"
   ]
  },
  {
   "cell_type": "code",
   "execution_count": 5,
   "metadata": {},
   "outputs": [],
   "source": [
    "fulljurisdiction = citybound.dissolve(by='jurisdiction_type')"
   ]
  },
  {
   "cell_type": "code",
   "execution_count": 6,
   "metadata": {},
   "outputs": [
    {
     "data": {
      "text/html": [
       "<div>\n",
       "<style scoped>\n",
       "    .dataframe tbody tr th:only-of-type {\n",
       "        vertical-align: middle;\n",
       "    }\n",
       "\n",
       "    .dataframe tbody tr th {\n",
       "        vertical-align: top;\n",
       "    }\n",
       "\n",
       "    .dataframe thead th {\n",
       "        text-align: right;\n",
       "    }\n",
       "</style>\n",
       "<table border=\"1\" class=\"dataframe\">\n",
       "  <thead>\n",
       "    <tr style=\"text-align: right;\">\n",
       "      <th></th>\n",
       "      <th>geometry</th>\n",
       "      <th>shape_area</th>\n",
       "      <th>modified_fips</th>\n",
       "      <th>objectid</th>\n",
       "      <th>jurisdiction_label</th>\n",
       "      <th>shape_length</th>\n",
       "      <th>jurisdictions_id</th>\n",
       "      <th>city_name</th>\n",
       "      <th>jurisdiction_type_specifics</th>\n",
       "    </tr>\n",
       "    <tr>\n",
       "      <th>jurisdiction_type</th>\n",
       "      <th></th>\n",
       "      <th></th>\n",
       "      <th></th>\n",
       "      <th></th>\n",
       "      <th></th>\n",
       "      <th></th>\n",
       "      <th></th>\n",
       "      <th></th>\n",
       "      <th></th>\n",
       "    </tr>\n",
       "  </thead>\n",
       "  <tbody>\n",
       "    <tr>\n",
       "      <th>2MILE</th>\n",
       "      <td>(POLYGON ((-97.646536850179 30.194626081333, -...</td>\n",
       "      <td>9753.138671875</td>\n",
       "      <td>202</td>\n",
       "      <td>184</td>\n",
       "      <td>AUSTIN 2 MILE ETJ</td>\n",
       "      <td>447.406502158537</td>\n",
       "      <td>311</td>\n",
       "      <td>CITY OF AUSTIN</td>\n",
       "      <td>2 MILE ETJ</td>\n",
       "    </tr>\n",
       "    <tr>\n",
       "      <th>5MILE</th>\n",
       "      <td>(POLYGON ((-97.752423476064 30.078842394235, -...</td>\n",
       "      <td>117836728.685547</td>\n",
       "      <td>205</td>\n",
       "      <td>236</td>\n",
       "      <td>AUSTIN 5 MILE ETJ</td>\n",
       "      <td>58893.8820348363</td>\n",
       "      <td>400508415</td>\n",
       "      <td>CITY OF AUSTIN</td>\n",
       "      <td>5 MILE ETJ</td>\n",
       "    </tr>\n",
       "    <tr>\n",
       "      <th>FULL</th>\n",
       "      <td>(POLYGON ((-97.62802812866801 30.354332362659,...</td>\n",
       "      <td>7167226.01367188</td>\n",
       "      <td>210</td>\n",
       "      <td>252</td>\n",
       "      <td>AUSTIN FULL PURPOSE</td>\n",
       "      <td>12191.0414315244</td>\n",
       "      <td>400455693</td>\n",
       "      <td>CITY OF AUSTIN</td>\n",
       "      <td>FULL PURPOSE</td>\n",
       "    </tr>\n",
       "    <tr>\n",
       "      <th>LTD</th>\n",
       "      <td>(POLYGON ((-97.79137132583 30.093084953283, -9...</td>\n",
       "      <td>17207960.6464844</td>\n",
       "      <td>211</td>\n",
       "      <td>430</td>\n",
       "      <td>AUSTIN LTD</td>\n",
       "      <td>35663.0671682806</td>\n",
       "      <td>400359641</td>\n",
       "      <td>CITY OF AUSTIN</td>\n",
       "      <td>LIMITED PURPOSE PLANNING ZONING</td>\n",
       "    </tr>\n",
       "  </tbody>\n",
       "</table>\n",
       "</div>"
      ],
      "text/plain": [
       "                                                            geometry  \\\n",
       "jurisdiction_type                                                      \n",
       "2MILE              (POLYGON ((-97.646536850179 30.194626081333, -...   \n",
       "5MILE              (POLYGON ((-97.752423476064 30.078842394235, -...   \n",
       "FULL               (POLYGON ((-97.62802812866801 30.354332362659,...   \n",
       "LTD                (POLYGON ((-97.79137132583 30.093084953283, -9...   \n",
       "\n",
       "                         shape_area modified_fips objectid  \\\n",
       "jurisdiction_type                                            \n",
       "2MILE                9753.138671875           202      184   \n",
       "5MILE              117836728.685547           205      236   \n",
       "FULL               7167226.01367188           210      252   \n",
       "LTD                17207960.6464844           211      430   \n",
       "\n",
       "                    jurisdiction_label      shape_length jurisdictions_id  \\\n",
       "jurisdiction_type                                                           \n",
       "2MILE                AUSTIN 2 MILE ETJ  447.406502158537              311   \n",
       "5MILE                AUSTIN 5 MILE ETJ  58893.8820348363        400508415   \n",
       "FULL               AUSTIN FULL PURPOSE  12191.0414315244        400455693   \n",
       "LTD                         AUSTIN LTD  35663.0671682806        400359641   \n",
       "\n",
       "                        city_name      jurisdiction_type_specifics  \n",
       "jurisdiction_type                                                   \n",
       "2MILE              CITY OF AUSTIN                       2 MILE ETJ  \n",
       "5MILE              CITY OF AUSTIN                       5 MILE ETJ  \n",
       "FULL               CITY OF AUSTIN                     FULL PURPOSE  \n",
       "LTD                CITY OF AUSTIN  LIMITED PURPOSE PLANNING ZONING  "
      ]
     },
     "execution_count": 6,
     "metadata": {},
     "output_type": "execute_result"
    }
   ],
   "source": [
    "fulljurisdiction"
   ]
  },
  {
   "cell_type": "code",
   "execution_count": 7,
   "metadata": {},
   "outputs": [],
   "source": [
    "acl = fulljurisdiction.drop(['2MILE', '5MILE', 'LTD'])"
   ]
  },
  {
   "cell_type": "code",
   "execution_count": 8,
   "metadata": {},
   "outputs": [
    {
     "data": {
      "text/html": [
       "<div>\n",
       "<style scoped>\n",
       "    .dataframe tbody tr th:only-of-type {\n",
       "        vertical-align: middle;\n",
       "    }\n",
       "\n",
       "    .dataframe tbody tr th {\n",
       "        vertical-align: top;\n",
       "    }\n",
       "\n",
       "    .dataframe thead th {\n",
       "        text-align: right;\n",
       "    }\n",
       "</style>\n",
       "<table border=\"1\" class=\"dataframe\">\n",
       "  <thead>\n",
       "    <tr style=\"text-align: right;\">\n",
       "      <th></th>\n",
       "      <th>geometry</th>\n",
       "      <th>shape_area</th>\n",
       "      <th>modified_fips</th>\n",
       "      <th>objectid</th>\n",
       "      <th>jurisdiction_label</th>\n",
       "      <th>shape_length</th>\n",
       "      <th>jurisdictions_id</th>\n",
       "      <th>city_name</th>\n",
       "      <th>jurisdiction_type_specifics</th>\n",
       "    </tr>\n",
       "    <tr>\n",
       "      <th>jurisdiction_type</th>\n",
       "      <th></th>\n",
       "      <th></th>\n",
       "      <th></th>\n",
       "      <th></th>\n",
       "      <th></th>\n",
       "      <th></th>\n",
       "      <th></th>\n",
       "      <th></th>\n",
       "      <th></th>\n",
       "    </tr>\n",
       "  </thead>\n",
       "  <tbody>\n",
       "    <tr>\n",
       "      <th>FULL</th>\n",
       "      <td>(POLYGON ((-97.62802812866801 30.354332362659,...</td>\n",
       "      <td>7167226.01367188</td>\n",
       "      <td>210</td>\n",
       "      <td>252</td>\n",
       "      <td>AUSTIN FULL PURPOSE</td>\n",
       "      <td>12191.0414315244</td>\n",
       "      <td>400455693</td>\n",
       "      <td>CITY OF AUSTIN</td>\n",
       "      <td>FULL PURPOSE</td>\n",
       "    </tr>\n",
       "  </tbody>\n",
       "</table>\n",
       "</div>"
      ],
      "text/plain": [
       "                                                            geometry  \\\n",
       "jurisdiction_type                                                      \n",
       "FULL               (POLYGON ((-97.62802812866801 30.354332362659,...   \n",
       "\n",
       "                         shape_area modified_fips objectid  \\\n",
       "jurisdiction_type                                            \n",
       "FULL               7167226.01367188           210      252   \n",
       "\n",
       "                    jurisdiction_label      shape_length jurisdictions_id  \\\n",
       "jurisdiction_type                                                           \n",
       "FULL               AUSTIN FULL PURPOSE  12191.0414315244        400455693   \n",
       "\n",
       "                        city_name jurisdiction_type_specifics  \n",
       "jurisdiction_type                                              \n",
       "FULL               CITY OF AUSTIN                FULL PURPOSE  "
      ]
     },
     "execution_count": 8,
     "metadata": {},
     "output_type": "execute_result"
    }
   ],
   "source": [
    "acl"
   ]
  },
  {
   "cell_type": "code",
   "execution_count": 9,
   "metadata": {},
   "outputs": [
    {
     "data": {
      "image/png": "[encoded data removed]",
      "text/plain": [
       "<Figure size 864x864 with 1 Axes>"
      ]
     },
     "metadata": {
      "needs_background": "light"
     },
     "output_type": "display_data"
    }
   ],
   "source": [
    "fig1, ax = plt.subplots(figsize=(12,12))\n",
    "a = acl.plot(ax=ax, color=\"black\", alpha=0.2)"
   ]
  },
  {
   "cell_type": "code",
   "execution_count": 10,
   "metadata": {},
   "outputs": [
    {
     "ename": "KeyboardInterrupt",
     "evalue": "",
     "output_type": "error",
     "traceback": [
      "\u001b[0;31m---------------------------------------------------------------------------\u001b[0m",
      "\u001b[0;31mKeyboardInterrupt\u001b[0m                         Traceback (most recent call last)",
      "\u001b[0;32m<ipython-input-10-1e530ff8edcd>\u001b[0m in \u001b[0;36m<module>\u001b[0;34m\u001b[0m\n\u001b[0;32m----> 1\u001b[0;31m \u001b[0mlanduse\u001b[0m \u001b[0;34m=\u001b[0m \u001b[0mgpd\u001b[0m\u001b[0;34m.\u001b[0m\u001b[0mread_file\u001b[0m\u001b[0;34m(\u001b[0m\u001b[0;34m'https://data.austintexas.gov/api/geospatial/nuca-fzpt?method=export&format=GeoJSON'\u001b[0m\u001b[0;34m)\u001b[0m\u001b[0;34m\u001b[0m\u001b[0;34m\u001b[0m\u001b[0m\n\u001b[0m\u001b[1;32m      2\u001b[0m \u001b[0;31m#landuse.crs = {'init': 'epsg:102739'}\u001b[0m\u001b[0;34m\u001b[0m\u001b[0;34m\u001b[0m\u001b[0;34m\u001b[0m\u001b[0m\n",
      "\u001b[0;32m~/opt/anaconda3/envs/park_env/lib/python3.7/site-packages/geopandas/io/file.py\u001b[0m in \u001b[0;36mread_file\u001b[0;34m(filename, bbox, **kwargs)\u001b[0m\n\u001b[1;32m     80\u001b[0m \u001b[0;34m\u001b[0m\u001b[0m\n\u001b[1;32m     81\u001b[0m             \u001b[0mcolumns\u001b[0m \u001b[0;34m=\u001b[0m \u001b[0mlist\u001b[0m\u001b[0;34m(\u001b[0m\u001b[0mfeatures\u001b[0m\u001b[0;34m.\u001b[0m\u001b[0mmeta\u001b[0m\u001b[0;34m[\u001b[0m\u001b[0;34m\"schema\"\u001b[0m\u001b[0;34m]\u001b[0m\u001b[0;34m[\u001b[0m\u001b[0;34m\"properties\"\u001b[0m\u001b[0;34m]\u001b[0m\u001b[0;34m)\u001b[0m \u001b[0;34m+\u001b[0m \u001b[0;34m[\u001b[0m\u001b[0;34m\"geometry\"\u001b[0m\u001b[0;34m]\u001b[0m\u001b[0;34m\u001b[0m\u001b[0;34m\u001b[0m\u001b[0m\n\u001b[0;32m---> 82\u001b[0;31m             \u001b[0mgdf\u001b[0m \u001b[0;34m=\u001b[0m \u001b[0mGeoDataFrame\u001b[0m\u001b[0;34m.\u001b[0m\u001b[0mfrom_features\u001b[0m\u001b[0;34m(\u001b[0m\u001b[0mf_filt\u001b[0m\u001b[0;34m,\u001b[0m \u001b[0mcrs\u001b[0m\u001b[0;34m=\u001b[0m\u001b[0mcrs\u001b[0m\u001b[0;34m,\u001b[0m \u001b[0mcolumns\u001b[0m\u001b[0;34m=\u001b[0m\u001b[0mcolumns\u001b[0m\u001b[0;34m)\u001b[0m\u001b[0;34m\u001b[0m\u001b[0;34m\u001b[0m\u001b[0m\n\u001b[0m\u001b[1;32m     83\u001b[0m \u001b[0;34m\u001b[0m\u001b[0m\n\u001b[1;32m     84\u001b[0m     \u001b[0;32mreturn\u001b[0m \u001b[0mgdf\u001b[0m\u001b[0;34m\u001b[0m\u001b[0;34m\u001b[0m\u001b[0m\n",
      "\u001b[0;32m~/opt/anaconda3/envs/park_env/lib/python3.7/site-packages/geopandas/geodataframe.py\u001b[0m in \u001b[0;36mfrom_features\u001b[0;34m(cls, features, crs, columns)\u001b[0m\n\u001b[1;32m    225\u001b[0m \u001b[0;34m\u001b[0m\u001b[0m\n\u001b[1;32m    226\u001b[0m         \u001b[0mrows\u001b[0m \u001b[0;34m=\u001b[0m \u001b[0;34m[\u001b[0m\u001b[0;34m]\u001b[0m\u001b[0;34m\u001b[0m\u001b[0;34m\u001b[0m\u001b[0m\n\u001b[0;32m--> 227\u001b[0;31m         \u001b[0;32mfor\u001b[0m \u001b[0mf\u001b[0m \u001b[0;32min\u001b[0m \u001b[0mfeatures_lst\u001b[0m\u001b[0;34m:\u001b[0m\u001b[0;34m\u001b[0m\u001b[0;34m\u001b[0m\u001b[0m\n\u001b[0m\u001b[1;32m    228\u001b[0m             \u001b[0;32mif\u001b[0m \u001b[0mhasattr\u001b[0m\u001b[0;34m(\u001b[0m\u001b[0mf\u001b[0m\u001b[0;34m,\u001b[0m \u001b[0;34m\"__geo_interface__\"\u001b[0m\u001b[0;34m)\u001b[0m\u001b[0;34m:\u001b[0m\u001b[0;34m\u001b[0m\u001b[0;34m\u001b[0m\u001b[0m\n\u001b[1;32m    229\u001b[0m                 \u001b[0mf\u001b[0m \u001b[0;34m=\u001b[0m \u001b[0mf\u001b[0m\u001b[0;34m.\u001b[0m\u001b[0m__geo_interface__\u001b[0m\u001b[0;34m\u001b[0m\u001b[0;34m\u001b[0m\u001b[0m\n",
      "\u001b[0;31mKeyboardInterrupt\u001b[0m: "
     ]
    }
   ],
   "source": [
    "landuse = gpd.read_file('https://data.austintexas.gov/api/geospatial/nuca-fzpt?method=export&format=GeoJSON')\n",
    "#landuse.crs = {'init': 'epsg:102739'}"
   ]
  },
  {
   "cell_type": "code",
   "execution_count": null,
   "metadata": {},
   "outputs": [],
   "source": [
    "landuse.head()"
   ]
  },
  {
   "cell_type": "code",
   "execution_count": 14,
   "metadata": {},
   "outputs": [],
   "source": [
    "#aus_landuse = gpd.overlay(landuse, fulljurisdiction(by='city'), how='intersection')\n",
    "#aus_landuse\n",
    "#landuse.head()"
   ]
  },
  {
   "cell_type": "code",
   "execution_count": 15,
   "metadata": {},
   "outputs": [
    {
     "data": {
      "text/plain": [
       "geopandas.geodataframe.GeoDataFrame"
      ]
     },
     "execution_count": 15,
     "metadata": {},
     "output_type": "execute_result"
    }
   ],
   "source": [
    "type(landuse)"
   ]
  },
  {
   "cell_type": "code",
   "execution_count": 16,
   "metadata": {},
   "outputs": [
    {
     "ename": "KeyboardInterrupt",
     "evalue": "",
     "output_type": "error",
     "traceback": [
      "\u001b[0;31m---------------------------------------------------------------------------\u001b[0m",
      "\u001b[0;31mKeyboardInterrupt\u001b[0m                         Traceback (most recent call last)",
      "\u001b[0;32m<ipython-input-16-c16dc7ff3ec4>\u001b[0m in \u001b[0;36m<module>\u001b[0;34m\u001b[0m\n\u001b[0;32m----> 1\u001b[0;31m \u001b[0macllu\u001b[0m \u001b[0;34m=\u001b[0m \u001b[0mgpd\u001b[0m\u001b[0;34m.\u001b[0m\u001b[0moverlay\u001b[0m\u001b[0;34m(\u001b[0m\u001b[0mlanduse\u001b[0m\u001b[0;34m,\u001b[0m \u001b[0macl\u001b[0m\u001b[0;34m,\u001b[0m \u001b[0mhow\u001b[0m\u001b[0;34m=\u001b[0m\u001b[0;34m'intersection'\u001b[0m\u001b[0;34m)\u001b[0m\u001b[0;34m\u001b[0m\u001b[0;34m\u001b[0m\u001b[0m\n\u001b[0m",
      "\u001b[0;32m~/opt/anaconda3/envs/park_env/lib/python3.7/site-packages/geopandas/tools/overlay.py\u001b[0m in \u001b[0;36moverlay\u001b[0;34m(df1, df2, how, make_valid, use_sindex)\u001b[0m\n\u001b[1;32m    365\u001b[0m         \u001b[0;32mreturn\u001b[0m \u001b[0m_overlay_difference\u001b[0m\u001b[0;34m(\u001b[0m\u001b[0mdf1\u001b[0m\u001b[0;34m,\u001b[0m \u001b[0mdf2\u001b[0m\u001b[0;34m)\u001b[0m\u001b[0;34m\u001b[0m\u001b[0;34m\u001b[0m\u001b[0m\n\u001b[1;32m    366\u001b[0m     \u001b[0;32melif\u001b[0m \u001b[0mhow\u001b[0m \u001b[0;34m==\u001b[0m \u001b[0;34m'intersection'\u001b[0m\u001b[0;34m:\u001b[0m\u001b[0;34m\u001b[0m\u001b[0;34m\u001b[0m\u001b[0m\n\u001b[0;32m--> 367\u001b[0;31m         \u001b[0mresult\u001b[0m \u001b[0;34m=\u001b[0m \u001b[0m_overlay_intersection\u001b[0m\u001b[0;34m(\u001b[0m\u001b[0mdf1\u001b[0m\u001b[0;34m,\u001b[0m \u001b[0mdf2\u001b[0m\u001b[0;34m)\u001b[0m\u001b[0;34m\u001b[0m\u001b[0;34m\u001b[0m\u001b[0m\n\u001b[0m\u001b[1;32m    368\u001b[0m     \u001b[0;32melif\u001b[0m \u001b[0mhow\u001b[0m \u001b[0;34m==\u001b[0m \u001b[0;34m'symmetric_difference'\u001b[0m\u001b[0;34m:\u001b[0m\u001b[0;34m\u001b[0m\u001b[0;34m\u001b[0m\u001b[0m\n\u001b[1;32m    369\u001b[0m         \u001b[0mresult\u001b[0m \u001b[0;34m=\u001b[0m \u001b[0m_overlay_symmetric_diff\u001b[0m\u001b[0;34m(\u001b[0m\u001b[0mdf1\u001b[0m\u001b[0;34m,\u001b[0m \u001b[0mdf2\u001b[0m\u001b[0;34m)\u001b[0m\u001b[0;34m\u001b[0m\u001b[0;34m\u001b[0m\u001b[0m\n",
      "\u001b[0;32m~/opt/anaconda3/envs/park_env/lib/python3.7/site-packages/geopandas/tools/overlay.py\u001b[0m in \u001b[0;36m_overlay_intersection\u001b[0;34m(df1, df2)\u001b[0m\n\u001b[1;32m    222\u001b[0m         \u001b[0mright\u001b[0m \u001b[0;34m=\u001b[0m \u001b[0mdf2\u001b[0m\u001b[0;34m.\u001b[0m\u001b[0mgeometry\u001b[0m\u001b[0;34m.\u001b[0m\u001b[0mtake\u001b[0m\u001b[0;34m(\u001b[0m\u001b[0mpairs\u001b[0m\u001b[0;34m[\u001b[0m\u001b[0;34m'__idx2'\u001b[0m\u001b[0;34m]\u001b[0m\u001b[0;34m.\u001b[0m\u001b[0mvalues\u001b[0m\u001b[0;34m)\u001b[0m\u001b[0;34m\u001b[0m\u001b[0;34m\u001b[0m\u001b[0m\n\u001b[1;32m    223\u001b[0m         \u001b[0mright\u001b[0m\u001b[0;34m.\u001b[0m\u001b[0mreset_index\u001b[0m\u001b[0;34m(\u001b[0m\u001b[0mdrop\u001b[0m\u001b[0;34m=\u001b[0m\u001b[0;32mTrue\u001b[0m\u001b[0;34m,\u001b[0m \u001b[0minplace\u001b[0m\u001b[0;34m=\u001b[0m\u001b[0;32mTrue\u001b[0m\u001b[0;34m)\u001b[0m\u001b[0;34m\u001b[0m\u001b[0;34m\u001b[0m\u001b[0m\n\u001b[0;32m--> 224\u001b[0;31m         \u001b[0mintersections\u001b[0m \u001b[0;34m=\u001b[0m \u001b[0mleft\u001b[0m\u001b[0;34m.\u001b[0m\u001b[0mintersection\u001b[0m\u001b[0;34m(\u001b[0m\u001b[0mright\u001b[0m\u001b[0;34m)\u001b[0m\u001b[0;34m.\u001b[0m\u001b[0mbuffer\u001b[0m\u001b[0;34m(\u001b[0m\u001b[0;36m0\u001b[0m\u001b[0;34m)\u001b[0m\u001b[0;34m\u001b[0m\u001b[0;34m\u001b[0m\u001b[0m\n\u001b[0m\u001b[1;32m    225\u001b[0m \u001b[0;34m\u001b[0m\u001b[0m\n\u001b[1;32m    226\u001b[0m         \u001b[0;31m# only keep actual intersecting geometries\u001b[0m\u001b[0;34m\u001b[0m\u001b[0;34m\u001b[0m\u001b[0;34m\u001b[0m\u001b[0m\n",
      "\u001b[0;32m~/opt/anaconda3/envs/park_env/lib/python3.7/site-packages/geopandas/base.py\u001b[0m in \u001b[0;36mintersection\u001b[0;34m(self, other)\u001b[0m\n\u001b[1;32m    449\u001b[0m             \u001b[0mintersection\u001b[0m \u001b[0;32mwith\u001b[0m\u001b[0;34m.\u001b[0m\u001b[0;34m\u001b[0m\u001b[0;34m\u001b[0m\u001b[0m\n\u001b[1;32m    450\u001b[0m         \"\"\"\n\u001b[0;32m--> 451\u001b[0;31m         \u001b[0;32mreturn\u001b[0m \u001b[0m_geo_op\u001b[0m\u001b[0;34m(\u001b[0m\u001b[0mself\u001b[0m\u001b[0;34m,\u001b[0m \u001b[0mother\u001b[0m\u001b[0;34m,\u001b[0m \u001b[0;34m'intersection'\u001b[0m\u001b[0;34m)\u001b[0m\u001b[0;34m\u001b[0m\u001b[0;34m\u001b[0m\u001b[0m\n\u001b[0m\u001b[1;32m    452\u001b[0m \u001b[0;34m\u001b[0m\u001b[0m\n\u001b[1;32m    453\u001b[0m     \u001b[0;31m#\u001b[0m\u001b[0;34m\u001b[0m\u001b[0;34m\u001b[0m\u001b[0;34m\u001b[0m\u001b[0m\n",
      "\u001b[0;32m~/opt/anaconda3/envs/park_env/lib/python3.7/site-packages/geopandas/base.py\u001b[0m in \u001b[0;36m_geo_op\u001b[0;34m(this, other, op)\u001b[0m\n\u001b[1;32m     30\u001b[0m         \u001b[0mthis\u001b[0m\u001b[0;34m,\u001b[0m \u001b[0mother\u001b[0m \u001b[0;34m=\u001b[0m \u001b[0mthis\u001b[0m\u001b[0;34m.\u001b[0m\u001b[0malign\u001b[0m\u001b[0;34m(\u001b[0m\u001b[0mother\u001b[0m\u001b[0;34m.\u001b[0m\u001b[0mgeometry\u001b[0m\u001b[0;34m)\u001b[0m\u001b[0;34m\u001b[0m\u001b[0;34m\u001b[0m\u001b[0m\n\u001b[1;32m     31\u001b[0m         return gpd.GeoSeries([getattr(this_elem, op)(other_elem)\n\u001b[0;32m---> 32\u001b[0;31m                              for this_elem, other_elem in zip(this, other)],\n\u001b[0m\u001b[1;32m     33\u001b[0m                              index=this.index, crs=crs)\n\u001b[1;32m     34\u001b[0m     \u001b[0;32melse\u001b[0m\u001b[0;34m:\u001b[0m\u001b[0;34m\u001b[0m\u001b[0;34m\u001b[0m\u001b[0m\n",
      "\u001b[0;32m~/opt/anaconda3/envs/park_env/lib/python3.7/site-packages/geopandas/base.py\u001b[0m in \u001b[0;36m<listcomp>\u001b[0;34m(.0)\u001b[0m\n\u001b[1;32m     30\u001b[0m         \u001b[0mthis\u001b[0m\u001b[0;34m,\u001b[0m \u001b[0mother\u001b[0m \u001b[0;34m=\u001b[0m \u001b[0mthis\u001b[0m\u001b[0;34m.\u001b[0m\u001b[0malign\u001b[0m\u001b[0;34m(\u001b[0m\u001b[0mother\u001b[0m\u001b[0;34m.\u001b[0m\u001b[0mgeometry\u001b[0m\u001b[0;34m)\u001b[0m\u001b[0;34m\u001b[0m\u001b[0;34m\u001b[0m\u001b[0m\n\u001b[1;32m     31\u001b[0m         return gpd.GeoSeries([getattr(this_elem, op)(other_elem)\n\u001b[0;32m---> 32\u001b[0;31m                              for this_elem, other_elem in zip(this, other)],\n\u001b[0m\u001b[1;32m     33\u001b[0m                              index=this.index, crs=crs)\n\u001b[1;32m     34\u001b[0m     \u001b[0;32melse\u001b[0m\u001b[0;34m:\u001b[0m\u001b[0;34m\u001b[0m\u001b[0;34m\u001b[0m\u001b[0m\n",
      "\u001b[0;32m~/opt/anaconda3/envs/park_env/lib/python3.7/site-packages/shapely/geometry/base.py\u001b[0m in \u001b[0;36mintersection\u001b[0;34m(self, other)\u001b[0m\n\u001b[1;32m    618\u001b[0m     \u001b[0;32mdef\u001b[0m \u001b[0mintersection\u001b[0m\u001b[0;34m(\u001b[0m\u001b[0mself\u001b[0m\u001b[0;34m,\u001b[0m \u001b[0mother\u001b[0m\u001b[0;34m)\u001b[0m\u001b[0;34m:\u001b[0m\u001b[0;34m\u001b[0m\u001b[0;34m\u001b[0m\u001b[0m\n\u001b[1;32m    619\u001b[0m         \u001b[0;34m\"\"\"Returns the intersection of the geometries\"\"\"\u001b[0m\u001b[0;34m\u001b[0m\u001b[0;34m\u001b[0m\u001b[0m\n\u001b[0;32m--> 620\u001b[0;31m         \u001b[0;32mreturn\u001b[0m \u001b[0mgeom_factory\u001b[0m\u001b[0;34m(\u001b[0m\u001b[0mself\u001b[0m\u001b[0;34m.\u001b[0m\u001b[0mimpl\u001b[0m\u001b[0;34m[\u001b[0m\u001b[0;34m'intersection'\u001b[0m\u001b[0;34m]\u001b[0m\u001b[0;34m(\u001b[0m\u001b[0mself\u001b[0m\u001b[0;34m,\u001b[0m \u001b[0mother\u001b[0m\u001b[0;34m)\u001b[0m\u001b[0;34m)\u001b[0m\u001b[0;34m\u001b[0m\u001b[0;34m\u001b[0m\u001b[0m\n\u001b[0m\u001b[1;32m    621\u001b[0m \u001b[0;34m\u001b[0m\u001b[0m\n\u001b[1;32m    622\u001b[0m     \u001b[0;32mdef\u001b[0m \u001b[0msymmetric_difference\u001b[0m\u001b[0;34m(\u001b[0m\u001b[0mself\u001b[0m\u001b[0;34m,\u001b[0m \u001b[0mother\u001b[0m\u001b[0;34m)\u001b[0m\u001b[0;34m:\u001b[0m\u001b[0;34m\u001b[0m\u001b[0;34m\u001b[0m\u001b[0m\n",
      "\u001b[0;32m~/opt/anaconda3/envs/park_env/lib/python3.7/site-packages/shapely/topology.py\u001b[0m in \u001b[0;36m__call__\u001b[0;34m(self, this, other, *args)\u001b[0m\n\u001b[1;32m     64\u001b[0m         \u001b[0mself\u001b[0m\u001b[0;34m.\u001b[0m\u001b[0m_validate\u001b[0m\u001b[0;34m(\u001b[0m\u001b[0mthis\u001b[0m\u001b[0;34m)\u001b[0m\u001b[0;34m\u001b[0m\u001b[0;34m\u001b[0m\u001b[0m\n\u001b[1;32m     65\u001b[0m         \u001b[0mself\u001b[0m\u001b[0;34m.\u001b[0m\u001b[0m_validate\u001b[0m\u001b[0;34m(\u001b[0m\u001b[0mother\u001b[0m\u001b[0;34m,\u001b[0m \u001b[0mstop_prepared\u001b[0m\u001b[0;34m=\u001b[0m\u001b[0;32mTrue\u001b[0m\u001b[0;34m)\u001b[0m\u001b[0;34m\u001b[0m\u001b[0;34m\u001b[0m\u001b[0m\n\u001b[0;32m---> 66\u001b[0;31m         \u001b[0mproduct\u001b[0m \u001b[0;34m=\u001b[0m \u001b[0mself\u001b[0m\u001b[0;34m.\u001b[0m\u001b[0mfn\u001b[0m\u001b[0;34m(\u001b[0m\u001b[0mthis\u001b[0m\u001b[0;34m.\u001b[0m\u001b[0m_geom\u001b[0m\u001b[0;34m,\u001b[0m \u001b[0mother\u001b[0m\u001b[0;34m.\u001b[0m\u001b[0m_geom\u001b[0m\u001b[0;34m,\u001b[0m \u001b[0;34m*\u001b[0m\u001b[0margs\u001b[0m\u001b[0;34m)\u001b[0m\u001b[0;34m\u001b[0m\u001b[0;34m\u001b[0m\u001b[0m\n\u001b[0m\u001b[1;32m     67\u001b[0m         \u001b[0;32mif\u001b[0m \u001b[0mproduct\u001b[0m \u001b[0;32mis\u001b[0m \u001b[0;32mNone\u001b[0m\u001b[0;34m:\u001b[0m\u001b[0;34m\u001b[0m\u001b[0;34m\u001b[0m\u001b[0m\n\u001b[1;32m     68\u001b[0m             err = TopologicalError(\n",
      "\u001b[0;31mKeyboardInterrupt\u001b[0m: "
     ]
    }
   ],
   "source": [
    "acllu = gpd.overlay(landuse, acl, how='intersection')"
   ]
  },
  {
   "cell_type": "code",
   "execution_count": null,
   "metadata": {},
   "outputs": [],
   "source": [
    "acllu.head()"
   ]
  },
  {
   "cell_type": "code",
   "execution_count": null,
   "metadata": {},
   "outputs": [],
   "source": [
    "fig2, ax = plt.subplots(figsize=(12,12))\n",
    "base = acllu.plot(ax=ax, color=\"black\", alpha=0.2)\n",
    "layer = acllu[\"geometry\"].plot(ax=base, color='white', edgecolor = 'black')"
   ]
  },
  {
   "cell_type": "code",
   "execution_count": 23,
   "metadata": {},
   "outputs": [],
   "source": [
    "#acllu.to_file(\"C:/Users/Victoria/Desktop/acl_landuse2016.shp\")"
   ]
  },
  {
   "cell_type": "markdown",
   "metadata": {},
   "source": [
    "# Bring in all necessary data files"
   ]
  },
  {
   "cell_type": "code",
   "execution_count": 17,
   "metadata": {},
   "outputs": [],
   "source": [
    "#acl = austin city limits shapefile\n",
    "acl = gpd.read_file(wd+'data/fulljurisdiction/austincitylimits.shp')\n",
    "acl.crs = {'init': 'epsg:102739'}\n",
    "\n",
    "#cbg = census block groups\n",
    "cbg = gpd.read_file(wd+'data/censusblockgroups/cbg.shp')\n",
    "cbg.crs = {'init': 'epsg:102739'}\n",
    "\n",
    "#Census Block Group Data Tables\n",
    "pop = pd.read_excel(wd+\"data/censustables/ACS_17_5yr_totalpop_allcounties.xlsx\")\n",
    "race = pd.read_excel(wd+\"data/censustables/ACS_17_5yr_race_includinglatinx.xlsx\")\n",
    "\n",
    "#City of Austin Park Boundaries\n",
    "coaparks = gpd.read_file(wd+\"data/coaparks/BOUNDARIES_city_of_austin_parks.shp\")\n",
    "coaparks.crs = {'init': 'epsg:102739'}\n",
    "\n",
    "#Park Buffers\n",
    "quartbuf = gpd.read_file(wd+\"data/coaparks_buffer/quarterbuff.shp\")\n",
    "halfbuf = gpd.read_file(wd+\"data/coaparks_buffer/halfbuff.shp\")\n",
    "varibuf = gpd.read_file(wd+\"data/coaparks_buffer/varibuff.shp\")\n",
    "\n",
    "#2016 Austin City Limits Land Use\n",
    "#acllu"
   ]
  },
  {
   "cell_type": "code",
   "execution_count": 20,
   "metadata": {},
   "outputs": [
    {
     "data": {
      "text/html": [
       "<div>\n",
       "<style scoped>\n",
       "    .dataframe tbody tr th:only-of-type {\n",
       "        vertical-align: middle;\n",
       "    }\n",
       "\n",
       "    .dataframe tbody tr th {\n",
       "        vertical-align: top;\n",
       "    }\n",
       "\n",
       "    .dataframe thead th {\n",
       "        text-align: right;\n",
       "    }\n",
       "</style>\n",
       "<table border=\"1\" class=\"dataframe\">\n",
       "  <thead>\n",
       "    <tr style=\"text-align: right;\">\n",
       "      <th></th>\n",
       "      <th>Id</th>\n",
       "      <th>Id2</th>\n",
       "      <th>Estimate; Total</th>\n",
       "    </tr>\n",
       "  </thead>\n",
       "  <tbody>\n",
       "    <tr>\n",
       "      <th>0</th>\n",
       "      <td>1500000US482090101001</td>\n",
       "      <td>482090101001</td>\n",
       "      <td>1197</td>\n",
       "    </tr>\n",
       "    <tr>\n",
       "      <th>1</th>\n",
       "      <td>1500000US482090101002</td>\n",
       "      <td>482090101002</td>\n",
       "      <td>1174</td>\n",
       "    </tr>\n",
       "    <tr>\n",
       "      <th>2</th>\n",
       "      <td>1500000US482090102001</td>\n",
       "      <td>482090102001</td>\n",
       "      <td>870</td>\n",
       "    </tr>\n",
       "    <tr>\n",
       "      <th>3</th>\n",
       "      <td>1500000US482090102002</td>\n",
       "      <td>482090102002</td>\n",
       "      <td>3914</td>\n",
       "    </tr>\n",
       "    <tr>\n",
       "      <th>4</th>\n",
       "      <td>1500000US482090102003</td>\n",
       "      <td>482090102003</td>\n",
       "      <td>1207</td>\n",
       "    </tr>\n",
       "  </tbody>\n",
       "</table>\n",
       "</div>"
      ],
      "text/plain": [
       "                      Id           Id2  Estimate; Total\n",
       "0  1500000US482090101001  482090101001             1197\n",
       "1  1500000US482090101002  482090101002             1174\n",
       "2  1500000US482090102001  482090102001              870\n",
       "3  1500000US482090102002  482090102002             3914\n",
       "4  1500000US482090102003  482090102003             1207"
      ]
     },
     "execution_count": 20,
     "metadata": {},
     "output_type": "execute_result"
    }
   ],
   "source": [
    "pop.head()"
   ]
  },
  {
   "cell_type": "code",
   "execution_count": 33,
   "metadata": {},
   "outputs": [
    {
     "data": {
      "application/vnd.jupyter.widget-view+json": {
       "model_id": "96f3ee033aae452f9d2d4a740f04bd5f",
       "version_major": 2,
       "version_minor": 0
      },
      "text/plain": [
       "Map(basemap={'url': 'http://server.arcgisonline.com/ArcGIS/rest/services/World_Street_Map/MapServer/tile/{z}/{…"
      ]
     },
     "metadata": {},
     "output_type": "display_data"
    }
   ],
   "source": [
    "m = Map(center=(30.2672, -97.7431), basemap=basemaps.Esri.WorldStreetMap)\n",
    "geo_data_parks = GeoData(geo_dataframe=coaparks, style={'color':'black', 'opacity':.05},\n",
    "                  hover_style={'fillColor':'red', 'fillOpacity':.2}, name = 'coaparks')\n",
    "\n",
    "#geo_data = GeoData(geo_dataframe=cbg, style={'color':'purple', 'opacity':.05},hover_style={'fillColor':'red', 'fillOpacity':.2}, name = 'coaPop')\n",
    "\n",
    "m.add_layer(geo_data_parks)\n",
    "m.add_control(LayersControl())\n",
    "m"
   ]
  },
  {
   "cell_type": "code",
   "execution_count": null,
   "metadata": {},
   "outputs": [],
   "source": []
  }
 ],
 "metadata": {
  "kernelspec": {
   "display_name": "park_env",
   "language": "python",
   "name": "park_env"
  },
  "language_info": {
   "codemirror_mode": {
    "name": "ipython",
    "version": 3
   },
   "file_extension": ".py",
   "mimetype": "text/x-python",
   "name": "python",
   "nbconvert_exporter": "python",
   "pygments_lexer": "ipython3",
   "version": "3.7.4"
  }
 },
 "nbformat": 4,
 "nbformat_minor": 2
}
