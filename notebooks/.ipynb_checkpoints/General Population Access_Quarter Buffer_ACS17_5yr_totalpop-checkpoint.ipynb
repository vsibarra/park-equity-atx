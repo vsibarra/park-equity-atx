{
 "cells": [
  {
   "cell_type": "code",
   "execution_count": 1,
   "metadata": {},
   "outputs": [],
   "source": [
    "import geopandas as gpd\n",
    "import pandas as pd\n",
    "import os\n",
    "import getpass\n",
    "import matplotlib.pyplot as plt\n",
    "from earthpy.clip import clip_shp"
   ]
  },
  {
   "cell_type": "markdown",
   "metadata": {},
   "source": [
    "### NOTES:\n",
    "* Bring in parks buffer shapefiles\n",
    "* If everything is in the same coordinate system then do the areas generated convert as well?\n",
    "* What is the differene between bringing in a geojson vs. a shapefile?"
   ]
  },
  {
   "cell_type": "markdown",
   "metadata": {},
   "source": [
    "###### Bring in necessary geojson files and set your projection for all files"
   ]
  },
  {
   "cell_type": "code",
   "execution_count": 49,
   "metadata": {},
   "outputs": [
    {
     "ename": "AttributeError",
     "evalue": "'GeoDataFrame' object has no attribute 'tocrs'",
     "output_type": "error",
     "traceback": [
      "\u001b[1;31m---------------------------------------------------------------------------\u001b[0m",
      "\u001b[1;31mAttributeError\u001b[0m                            Traceback (most recent call last)",
      "\u001b[1;32m<ipython-input-49-9d6601d83a48>\u001b[0m in \u001b[0;36m<module>\u001b[1;34m\u001b[0m\n\u001b[0;32m     15\u001b[0m \u001b[1;33m\u001b[0m\u001b[0m\n\u001b[0;32m     16\u001b[0m \u001b[0mrace\u001b[0m \u001b[1;33m=\u001b[0m \u001b[0mgpd\u001b[0m\u001b[1;33m.\u001b[0m\u001b[0mread_file\u001b[0m\u001b[1;33m(\u001b[0m\u001b[0mwd\u001b[0m\u001b[1;33m+\u001b[0m\u001b[1;34m\"data/blockgroups_censusdata/race.geojson\"\u001b[0m\u001b[1;33m)\u001b[0m\u001b[1;33m\u001b[0m\u001b[1;33m\u001b[0m\u001b[0m\n\u001b[1;32m---> 17\u001b[1;33m \u001b[0mrace\u001b[0m \u001b[1;33m=\u001b[0m \u001b[0mrace\u001b[0m\u001b[1;33m.\u001b[0m\u001b[0mtocrs\u001b[0m\u001b[1;33m(\u001b[0m\u001b[0mcrs\u001b[0m\u001b[1;33m)\u001b[0m\u001b[1;33m.\u001b[0m\u001b[0mexplode\u001b[0m\u001b[1;33m(\u001b[0m\u001b[1;33m)\u001b[0m\u001b[1;33m.\u001b[0m\u001b[0mreset_index\u001b[0m\u001b[1;33m(\u001b[0m\u001b[1;33m)\u001b[0m\u001b[1;33m\u001b[0m\u001b[1;33m\u001b[0m\u001b[0m\n\u001b[0m",
      "\u001b[1;32m~\\Anaconda3\\envs\\park_env\\lib\\site-packages\\pandas\\core\\generic.py\u001b[0m in \u001b[0;36m__getattr__\u001b[1;34m(self, name)\u001b[0m\n\u001b[0;32m   5177\u001b[0m             \u001b[1;32mif\u001b[0m \u001b[0mself\u001b[0m\u001b[1;33m.\u001b[0m\u001b[0m_info_axis\u001b[0m\u001b[1;33m.\u001b[0m\u001b[0m_can_hold_identifiers_and_holds_name\u001b[0m\u001b[1;33m(\u001b[0m\u001b[0mname\u001b[0m\u001b[1;33m)\u001b[0m\u001b[1;33m:\u001b[0m\u001b[1;33m\u001b[0m\u001b[1;33m\u001b[0m\u001b[0m\n\u001b[0;32m   5178\u001b[0m                 \u001b[1;32mreturn\u001b[0m \u001b[0mself\u001b[0m\u001b[1;33m[\u001b[0m\u001b[0mname\u001b[0m\u001b[1;33m]\u001b[0m\u001b[1;33m\u001b[0m\u001b[1;33m\u001b[0m\u001b[0m\n\u001b[1;32m-> 5179\u001b[1;33m             \u001b[1;32mreturn\u001b[0m \u001b[0mobject\u001b[0m\u001b[1;33m.\u001b[0m\u001b[0m__getattribute__\u001b[0m\u001b[1;33m(\u001b[0m\u001b[0mself\u001b[0m\u001b[1;33m,\u001b[0m \u001b[0mname\u001b[0m\u001b[1;33m)\u001b[0m\u001b[1;33m\u001b[0m\u001b[1;33m\u001b[0m\u001b[0m\n\u001b[0m\u001b[0;32m   5180\u001b[0m \u001b[1;33m\u001b[0m\u001b[0m\n\u001b[0;32m   5181\u001b[0m     \u001b[1;32mdef\u001b[0m \u001b[0m__setattr__\u001b[0m\u001b[1;33m(\u001b[0m\u001b[0mself\u001b[0m\u001b[1;33m,\u001b[0m \u001b[0mname\u001b[0m\u001b[1;33m,\u001b[0m \u001b[0mvalue\u001b[0m\u001b[1;33m)\u001b[0m\u001b[1;33m:\u001b[0m\u001b[1;33m\u001b[0m\u001b[1;33m\u001b[0m\u001b[0m\n",
      "\u001b[1;31mAttributeError\u001b[0m: 'GeoDataFrame' object has no attribute 'tocrs'"
     ]
    }
   ],
   "source": [
    "wd = os.getcwd()\n",
    "wd = wd[:wd.find('notebooks')]\n",
    "\n",
    "#crs is set for Central Texas\n",
    "crs =  {'init' :'epsg:6578'}\n",
    "\n",
    "parks = gpd.read_file(wd+\"data/coaparks/parkboundaries.geojson\")\n",
    "parks = parks.to_crs(crs).explode().reset_index()\n",
    "\n",
    "quartbuff = gpd.read_file(wd+\"data/coaparks_buffer/quarterbuffgj.geojson\")\n",
    "quartbuff = quartbuff.to_crs(crs).explode().reset_index()\n",
    "\n",
    "pop = gpd.read_file(wd+\"data/blockgroups_censusdata/popcount.geojson\")\n",
    "pop = pop.to_crs(crs).explode().reset_index()\n",
    "\n",
    "race = gpd.read_file(wd+\"data/blockgroups_censusdata/race.geojson\")\n",
    "race = race.to_crs(crs).explode().reset_index()"
   ]
  },
  {
   "cell_type": "markdown",
   "metadata": {},
   "source": [
    "##### Check your projections\n",
    "https://geopandas.org/projections.html"
   ]
  },
  {
   "cell_type": "code",
   "execution_count": null,
   "metadata": {},
   "outputs": [],
   "source": [
    "parks.crs"
   ]
  },
  {
   "cell_type": "code",
   "execution_count": 7,
   "metadata": {},
   "outputs": [
    {
     "data": {
      "text/plain": [
       "{'init': 'epsg:6578'}"
      ]
     },
     "execution_count": 7,
     "metadata": {},
     "output_type": "execute_result"
    }
   ],
   "source": [
    "quartbuff.crs"
   ]
  },
  {
   "cell_type": "code",
   "execution_count": 8,
   "metadata": {},
   "outputs": [
    {
     "data": {
      "text/plain": [
       "{'init': 'epsg:6578'}"
      ]
     },
     "execution_count": 8,
     "metadata": {},
     "output_type": "execute_result"
    }
   ],
   "source": [
    "pop.crs"
   ]
  },
  {
   "cell_type": "markdown",
   "metadata": {},
   "source": [
    "###### Preview the files "
   ]
  },
  {
   "cell_type": "code",
   "execution_count": 3,
   "metadata": {
    "scrolled": true
   },
   "outputs": [
    {
     "data": {
      "text/html": [
       "<div>\n",
       "<style scoped>\n",
       "    .dataframe tbody tr th:only-of-type {\n",
       "        vertical-align: middle;\n",
       "    }\n",
       "\n",
       "    .dataframe tbody tr th {\n",
       "        vertical-align: top;\n",
       "    }\n",
       "\n",
       "    .dataframe thead th {\n",
       "        text-align: right;\n",
       "    }\n",
       "</style>\n",
       "<table border=\"1\" class=\"dataframe\">\n",
       "  <thead>\n",
       "    <tr style=\"text-align: right;\">\n",
       "      <th></th>\n",
       "      <th>level_0</th>\n",
       "      <th>level_1</th>\n",
       "      <th>STATEFP10</th>\n",
       "      <th>COUNTYFP10</th>\n",
       "      <th>TRACTCE10</th>\n",
       "      <th>BLOCKCE10</th>\n",
       "      <th>GEOID10</th>\n",
       "      <th>NAME10</th>\n",
       "      <th>MTFCC10</th>\n",
       "      <th>UR10</th>\n",
       "      <th>...</th>\n",
       "      <th>jurisdic_3</th>\n",
       "      <th>modified_f</th>\n",
       "      <th>objectid</th>\n",
       "      <th>shape_area</th>\n",
       "      <th>shape_leng</th>\n",
       "      <th>Id</th>\n",
       "      <th>Id2</th>\n",
       "      <th>Estimate;</th>\n",
       "      <th>geometry</th>\n",
       "      <th>full_area</th>\n",
       "    </tr>\n",
       "  </thead>\n",
       "  <tbody>\n",
       "    <tr>\n",
       "      <th>0</th>\n",
       "      <td>0</td>\n",
       "      <td>0</td>\n",
       "      <td>48</td>\n",
       "      <td>209</td>\n",
       "      <td>010901</td>\n",
       "      <td>1000</td>\n",
       "      <td>482090109011000</td>\n",
       "      <td>Block 1000</td>\n",
       "      <td>G5040</td>\n",
       "      <td>None</td>\n",
       "      <td>...</td>\n",
       "      <td>34.0</td>\n",
       "      <td>210.0</td>\n",
       "      <td>110.0</td>\n",
       "      <td>7.752723e+09</td>\n",
       "      <td>2.049691e+06</td>\n",
       "      <td>1500000US482090109011</td>\n",
       "      <td>482090109011</td>\n",
       "      <td>2205</td>\n",
       "      <td>POLYGON ((3069235.856359433 10028018.79442929,...</td>\n",
       "      <td>3.246548e+06</td>\n",
       "    </tr>\n",
       "    <tr>\n",
       "      <th>1</th>\n",
       "      <td>0</td>\n",
       "      <td>1</td>\n",
       "      <td>48</td>\n",
       "      <td>209</td>\n",
       "      <td>010901</td>\n",
       "      <td>1000</td>\n",
       "      <td>482090109011000</td>\n",
       "      <td>Block 1000</td>\n",
       "      <td>G5040</td>\n",
       "      <td>None</td>\n",
       "      <td>...</td>\n",
       "      <td>34.0</td>\n",
       "      <td>210.0</td>\n",
       "      <td>110.0</td>\n",
       "      <td>7.752723e+09</td>\n",
       "      <td>2.049691e+06</td>\n",
       "      <td>1500000US482090109011</td>\n",
       "      <td>482090109011</td>\n",
       "      <td>2205</td>\n",
       "      <td>POLYGON ((3060337.982900123 10029835.09477461,...</td>\n",
       "      <td>1.955843e+07</td>\n",
       "    </tr>\n",
       "    <tr>\n",
       "      <th>2</th>\n",
       "      <td>1</td>\n",
       "      <td>0</td>\n",
       "      <td>48</td>\n",
       "      <td>209</td>\n",
       "      <td>010908</td>\n",
       "      <td>1002</td>\n",
       "      <td>482090109081002</td>\n",
       "      <td>Block 1002</td>\n",
       "      <td>G5040</td>\n",
       "      <td>None</td>\n",
       "      <td>...</td>\n",
       "      <td>34.0</td>\n",
       "      <td>210.0</td>\n",
       "      <td>110.0</td>\n",
       "      <td>7.752723e+09</td>\n",
       "      <td>2.049691e+06</td>\n",
       "      <td>1500000US482090109081</td>\n",
       "      <td>482090109081</td>\n",
       "      <td>3774</td>\n",
       "      <td>POLYGON ((3093546.031100261 10008632.89993141,...</td>\n",
       "      <td>1.837685e+03</td>\n",
       "    </tr>\n",
       "    <tr>\n",
       "      <th>3</th>\n",
       "      <td>2</td>\n",
       "      <td>0</td>\n",
       "      <td>48</td>\n",
       "      <td>453</td>\n",
       "      <td>000101</td>\n",
       "      <td>1002</td>\n",
       "      <td>484530001011002</td>\n",
       "      <td>Block 1002</td>\n",
       "      <td>G5040</td>\n",
       "      <td>None</td>\n",
       "      <td>...</td>\n",
       "      <td>34.0</td>\n",
       "      <td>210.0</td>\n",
       "      <td>110.0</td>\n",
       "      <td>7.752723e+09</td>\n",
       "      <td>2.049691e+06</td>\n",
       "      <td>1500000US484530001011</td>\n",
       "      <td>484530001011</td>\n",
       "      <td>1045</td>\n",
       "      <td>POLYGON ((3111307.928720258 10089475.92878409,...</td>\n",
       "      <td>1.023445e+07</td>\n",
       "    </tr>\n",
       "    <tr>\n",
       "      <th>4</th>\n",
       "      <td>3</td>\n",
       "      <td>0</td>\n",
       "      <td>48</td>\n",
       "      <td>453</td>\n",
       "      <td>000101</td>\n",
       "      <td>2020</td>\n",
       "      <td>484530001012020</td>\n",
       "      <td>Block 2020</td>\n",
       "      <td>G5040</td>\n",
       "      <td>None</td>\n",
       "      <td>...</td>\n",
       "      <td>34.0</td>\n",
       "      <td>210.0</td>\n",
       "      <td>110.0</td>\n",
       "      <td>7.752723e+09</td>\n",
       "      <td>2.049691e+06</td>\n",
       "      <td>1500000US484530001012</td>\n",
       "      <td>484530001012</td>\n",
       "      <td>1202</td>\n",
       "      <td>POLYGON ((3109353.91885116 10091523.83983915, ...</td>\n",
       "      <td>1.190645e+07</td>\n",
       "    </tr>\n",
       "  </tbody>\n",
       "</table>\n",
       "<p>5 rows × 30 columns</p>\n",
       "</div>"
      ],
      "text/plain": [
       "   level_0  level_1 STATEFP10 COUNTYFP10 TRACTCE10 BLOCKCE10          GEOID10  \\\n",
       "0        0        0        48        209    010901      1000  482090109011000   \n",
       "1        0        1        48        209    010901      1000  482090109011000   \n",
       "2        1        0        48        209    010908      1002  482090109081002   \n",
       "3        2        0        48        453    000101      1002  484530001011002   \n",
       "4        3        0        48        453    000101      2020  484530001012020   \n",
       "\n",
       "       NAME10 MTFCC10  UR10  ... jurisdic_3 modified_f  objectid  \\\n",
       "0  Block 1000   G5040  None  ...       34.0      210.0     110.0   \n",
       "1  Block 1000   G5040  None  ...       34.0      210.0     110.0   \n",
       "2  Block 1002   G5040  None  ...       34.0      210.0     110.0   \n",
       "3  Block 1002   G5040  None  ...       34.0      210.0     110.0   \n",
       "4  Block 2020   G5040  None  ...       34.0      210.0     110.0   \n",
       "\n",
       "     shape_area    shape_leng                     Id           Id2 Estimate;  \\\n",
       "0  7.752723e+09  2.049691e+06  1500000US482090109011  482090109011      2205   \n",
       "1  7.752723e+09  2.049691e+06  1500000US482090109011  482090109011      2205   \n",
       "2  7.752723e+09  2.049691e+06  1500000US482090109081  482090109081      3774   \n",
       "3  7.752723e+09  2.049691e+06  1500000US484530001011  484530001011      1045   \n",
       "4  7.752723e+09  2.049691e+06  1500000US484530001012  484530001012      1202   \n",
       "\n",
       "                                            geometry     full_area  \n",
       "0  POLYGON ((3069235.856359433 10028018.79442929,...  3.246548e+06  \n",
       "1  POLYGON ((3060337.982900123 10029835.09477461,...  1.955843e+07  \n",
       "2  POLYGON ((3093546.031100261 10008632.89993141,...  1.837685e+03  \n",
       "3  POLYGON ((3111307.928720258 10089475.92878409,...  1.023445e+07  \n",
       "4  POLYGON ((3109353.91885116 10091523.83983915, ...  1.190645e+07  \n",
       "\n",
       "[5 rows x 30 columns]"
      ]
     },
     "execution_count": 3,
     "metadata": {},
     "output_type": "execute_result"
    }
   ],
   "source": [
    "pop['full_area'] = pop['geometry'].area\n",
    "pop.head()\n"
   ]
  },
  {
   "cell_type": "code",
   "execution_count": 4,
   "metadata": {},
   "outputs": [
    {
     "data": {
      "text/html": [
       "<div>\n",
       "<style scoped>\n",
       "    .dataframe tbody tr th:only-of-type {\n",
       "        vertical-align: middle;\n",
       "    }\n",
       "\n",
       "    .dataframe tbody tr th {\n",
       "        vertical-align: top;\n",
       "    }\n",
       "\n",
       "    .dataframe thead th {\n",
       "        text-align: right;\n",
       "    }\n",
       "</style>\n",
       "<table border=\"1\" class=\"dataframe\">\n",
       "  <thead>\n",
       "    <tr style=\"text-align: right;\">\n",
       "      <th></th>\n",
       "      <th>level_0</th>\n",
       "      <th>level_1</th>\n",
       "      <th>ASSET_MGMT</th>\n",
       "      <th>LOCATION_N</th>\n",
       "      <th>ADDRESS</th>\n",
       "      <th>CITY_MUNIC</th>\n",
       "      <th>COUNTY</th>\n",
       "      <th>STATE</th>\n",
       "      <th>STREET_NUM</th>\n",
       "      <th>STREET_NAM</th>\n",
       "      <th>...</th>\n",
       "      <th>MXLOADID</th>\n",
       "      <th>GLOBALID</th>\n",
       "      <th>CREATED_BY</th>\n",
       "      <th>CREATED_DA</th>\n",
       "      <th>MODIFIED_B</th>\n",
       "      <th>MODIFIED_D</th>\n",
       "      <th>Shape__Are</th>\n",
       "      <th>Shape__Len</th>\n",
       "      <th>geometry</th>\n",
       "      <th>full_area</th>\n",
       "    </tr>\n",
       "  </thead>\n",
       "  <tbody>\n",
       "    <tr>\n",
       "      <th>0</th>\n",
       "      <td>0</td>\n",
       "      <td>0</td>\n",
       "      <td>412</td>\n",
       "      <td>Stratford Overlook Greenbelt</td>\n",
       "      <td>3006 Stratford Dr., Austin, Texas 78746</td>\n",
       "      <td>Austin</td>\n",
       "      <td>Travis</td>\n",
       "      <td>TX</td>\n",
       "      <td>3006</td>\n",
       "      <td>Stratford</td>\n",
       "      <td>...</td>\n",
       "      <td>None</td>\n",
       "      <td>None</td>\n",
       "      <td>CTM.Publisher</td>\n",
       "      <td>2019-10-12</td>\n",
       "      <td>CTM.Publisher</td>\n",
       "      <td>2019-10-12</td>\n",
       "      <td>4.403262e+03</td>\n",
       "      <td>420.672106</td>\n",
       "      <td>POLYGON ((3099659.296639148 10076099.36654284,...</td>\n",
       "      <td>6.701295e+05</td>\n",
       "    </tr>\n",
       "    <tr>\n",
       "      <th>1</th>\n",
       "      <td>1</td>\n",
       "      <td>0</td>\n",
       "      <td>413</td>\n",
       "      <td>Highland Neighborhood Park</td>\n",
       "      <td>403 W St Johns Ave., Austin, Texas 78752</td>\n",
       "      <td>Austin</td>\n",
       "      <td>Travis</td>\n",
       "      <td>TX</td>\n",
       "      <td>403</td>\n",
       "      <td>W St Johns</td>\n",
       "      <td>...</td>\n",
       "      <td>None</td>\n",
       "      <td>None</td>\n",
       "      <td>CTM.Publisher</td>\n",
       "      <td>2019-10-12</td>\n",
       "      <td>CTM.Publisher</td>\n",
       "      <td>2019-10-12</td>\n",
       "      <td>1.048800e+04</td>\n",
       "      <td>422.279483</td>\n",
       "      <td>POLYGON ((3122902.889064377 10096179.90844941,...</td>\n",
       "      <td>6.708336e+05</td>\n",
       "    </tr>\n",
       "    <tr>\n",
       "      <th>2</th>\n",
       "      <td>2</td>\n",
       "      <td>0</td>\n",
       "      <td>354</td>\n",
       "      <td>Palma Plaza Pocket Park</td>\n",
       "      <td>1524 Palma Plz., Austin, Texas 78703</td>\n",
       "      <td>Austin</td>\n",
       "      <td>Travis</td>\n",
       "      <td>TX</td>\n",
       "      <td>1524</td>\n",
       "      <td>Palma</td>\n",
       "      <td>...</td>\n",
       "      <td>None</td>\n",
       "      <td>None</td>\n",
       "      <td>CTM.Publisher</td>\n",
       "      <td>2019-10-12</td>\n",
       "      <td>CTM.Publisher</td>\n",
       "      <td>2019-10-12</td>\n",
       "      <td>1.007678e+04</td>\n",
       "      <td>492.661534</td>\n",
       "      <td>POLYGON ((3109810.268547425 10075962.94345382,...</td>\n",
       "      <td>6.988492e+05</td>\n",
       "    </tr>\n",
       "    <tr>\n",
       "      <th>3</th>\n",
       "      <td>3</td>\n",
       "      <td>0</td>\n",
       "      <td>398</td>\n",
       "      <td>Oertli Neighborhood Park</td>\n",
       "      <td>12613 Blaine Rd., Austin, Texas 78753</td>\n",
       "      <td>Austin</td>\n",
       "      <td>Travis</td>\n",
       "      <td>TX</td>\n",
       "      <td>12613</td>\n",
       "      <td>Blaine</td>\n",
       "      <td>...</td>\n",
       "      <td>None</td>\n",
       "      <td>None</td>\n",
       "      <td>CTM.Publisher</td>\n",
       "      <td>2019-10-12</td>\n",
       "      <td>CTM.Publisher</td>\n",
       "      <td>2019-10-12</td>\n",
       "      <td>2.671883e+05</td>\n",
       "      <td>2404.916487</td>\n",
       "      <td>POLYGON ((3142020.189037737 10117140.78761685,...</td>\n",
       "      <td>1.463807e+06</td>\n",
       "    </tr>\n",
       "    <tr>\n",
       "      <th>4</th>\n",
       "      <td>4</td>\n",
       "      <td>0</td>\n",
       "      <td>370</td>\n",
       "      <td>Decker Tallgrass Prairie Preserve</td>\n",
       "      <td>8001 Decker Ln., Austin, Texas 78724</td>\n",
       "      <td>Austin</td>\n",
       "      <td>Travis</td>\n",
       "      <td>TX</td>\n",
       "      <td>8001</td>\n",
       "      <td>Decker</td>\n",
       "      <td>...</td>\n",
       "      <td>None</td>\n",
       "      <td>None</td>\n",
       "      <td>CTM.Publisher</td>\n",
       "      <td>2019-10-12</td>\n",
       "      <td>CTM.Publisher</td>\n",
       "      <td>2019-10-12</td>\n",
       "      <td>1.515843e+07</td>\n",
       "      <td>26672.772067</td>\n",
       "      <td>POLYGON ((3154723.006204471 10083882.87548318,...</td>\n",
       "      <td>9.294015e+06</td>\n",
       "    </tr>\n",
       "  </tbody>\n",
       "</table>\n",
       "<p>5 rows × 57 columns</p>\n",
       "</div>"
      ],
      "text/plain": [
       "   level_0  level_1 ASSET_MGMT                         LOCATION_N  \\\n",
       "0        0        0        412       Stratford Overlook Greenbelt   \n",
       "1        1        0        413         Highland Neighborhood Park   \n",
       "2        2        0        354            Palma Plaza Pocket Park   \n",
       "3        3        0        398           Oertli Neighborhood Park   \n",
       "4        4        0        370  Decker Tallgrass Prairie Preserve   \n",
       "\n",
       "                                    ADDRESS CITY_MUNIC  COUNTY STATE  \\\n",
       "0   3006 Stratford Dr., Austin, Texas 78746     Austin  Travis    TX   \n",
       "1  403 W St Johns Ave., Austin, Texas 78752     Austin  Travis    TX   \n",
       "2      1524 Palma Plz., Austin, Texas 78703     Austin  Travis    TX   \n",
       "3     12613 Blaine Rd., Austin, Texas 78753     Austin  Travis    TX   \n",
       "4      8001 Decker Ln., Austin, Texas 78724     Austin  Travis    TX   \n",
       "\n",
       "  STREET_NUM  STREET_NAM  ... MXLOADID GLOBALID     CREATED_BY  CREATED_DA  \\\n",
       "0       3006   Stratford  ...     None     None  CTM.Publisher  2019-10-12   \n",
       "1        403  W St Johns  ...     None     None  CTM.Publisher  2019-10-12   \n",
       "2       1524       Palma  ...     None     None  CTM.Publisher  2019-10-12   \n",
       "3      12613      Blaine  ...     None     None  CTM.Publisher  2019-10-12   \n",
       "4       8001      Decker  ...     None     None  CTM.Publisher  2019-10-12   \n",
       "\n",
       "      MODIFIED_B  MODIFIED_D    Shape__Are    Shape__Len  \\\n",
       "0  CTM.Publisher  2019-10-12  4.403262e+03    420.672106   \n",
       "1  CTM.Publisher  2019-10-12  1.048800e+04    422.279483   \n",
       "2  CTM.Publisher  2019-10-12  1.007678e+04    492.661534   \n",
       "3  CTM.Publisher  2019-10-12  2.671883e+05   2404.916487   \n",
       "4  CTM.Publisher  2019-10-12  1.515843e+07  26672.772067   \n",
       "\n",
       "                                            geometry     full_area  \n",
       "0  POLYGON ((3099659.296639148 10076099.36654284,...  6.701295e+05  \n",
       "1  POLYGON ((3122902.889064377 10096179.90844941,...  6.708336e+05  \n",
       "2  POLYGON ((3109810.268547425 10075962.94345382,...  6.988492e+05  \n",
       "3  POLYGON ((3142020.189037737 10117140.78761685,...  1.463807e+06  \n",
       "4  POLYGON ((3154723.006204471 10083882.87548318,...  9.294015e+06  \n",
       "\n",
       "[5 rows x 57 columns]"
      ]
     },
     "execution_count": 4,
     "metadata": {},
     "output_type": "execute_result"
    }
   ],
   "source": [
    "quartbuff['full_area'] = quartbuff['geometry'].area\n",
    "quartbuff.head()"
   ]
  },
  {
   "cell_type": "code",
   "execution_count": null,
   "metadata": {
    "scrolled": true
   },
   "outputs": [],
   "source": [
    "# parks['full_area'] = parks['geometry'].area\n",
    "# parks.columns\n",
    "# parks.head()"
   ]
  },
  {
   "cell_type": "code",
   "execution_count": 5,
   "metadata": {},
   "outputs": [
    {
     "name": "stdout",
     "output_type": "stream",
     "text": [
      "717\n",
      "668\n"
     ]
    }
   ],
   "source": [
    "print(len(quartbuff))\n",
    "print(len(pop))\n",
    "      \n"
   ]
  },
  {
   "cell_type": "code",
   "execution_count": 25,
   "metadata": {},
   "outputs": [
    {
     "data": {
      "text/plain": [
       "0    34000.0\n",
       "1    34000.0\n",
       "2    34000.0\n",
       "dtype: float64"
      ]
     },
     "execution_count": 25,
     "metadata": {},
     "output_type": "execute_result"
    }
   ],
   "source": [
    "pop[pop.COUNTYFP10=='209'].apply(lambda r: r.jurisdic_3*1000, axis=1)"
   ]
  },
  {
   "cell_type": "code",
   "execution_count": 46,
   "metadata": {},
   "outputs": [
    {
     "data": {
      "text/plain": [
       "666"
      ]
     },
     "execution_count": 46,
     "metadata": {},
     "output_type": "execute_result"
    }
   ],
   "source": [
    "len(pop[(~pop.COUNTYFP10.isnull()) & (pop.full_area > 1)])"
   ]
  },
  {
   "cell_type": "code",
   "execution_count": 48,
   "metadata": {},
   "outputs": [
    {
     "data": {
      "text/html": [
       "<div>\n",
       "<style scoped>\n",
       "    .dataframe tbody tr th:only-of-type {\n",
       "        vertical-align: middle;\n",
       "    }\n",
       "\n",
       "    .dataframe tbody tr th {\n",
       "        vertical-align: top;\n",
       "    }\n",
       "\n",
       "    .dataframe thead th {\n",
       "        text-align: right;\n",
       "    }\n",
       "</style>\n",
       "<table border=\"1\" class=\"dataframe\">\n",
       "  <thead>\n",
       "    <tr style=\"text-align: right;\">\n",
       "      <th></th>\n",
       "      <th>STATEFP10</th>\n",
       "      <th>COUNTYFP10</th>\n",
       "      <th>TRACTCE10</th>\n",
       "    </tr>\n",
       "  </thead>\n",
       "  <tbody>\n",
       "    <tr>\n",
       "      <th>0</th>\n",
       "      <td>48</td>\n",
       "      <td>209</td>\n",
       "      <td>010901</td>\n",
       "    </tr>\n",
       "    <tr>\n",
       "      <th>1</th>\n",
       "      <td>48</td>\n",
       "      <td>209</td>\n",
       "      <td>010901</td>\n",
       "    </tr>\n",
       "    <tr>\n",
       "      <th>2</th>\n",
       "      <td>48</td>\n",
       "      <td>209</td>\n",
       "      <td>010908</td>\n",
       "    </tr>\n",
       "    <tr>\n",
       "      <th>3</th>\n",
       "      <td>48</td>\n",
       "      <td>453</td>\n",
       "      <td>000101</td>\n",
       "    </tr>\n",
       "    <tr>\n",
       "      <th>4</th>\n",
       "      <td>48</td>\n",
       "      <td>453</td>\n",
       "      <td>000101</td>\n",
       "    </tr>\n",
       "  </tbody>\n",
       "</table>\n",
       "</div>"
      ],
      "text/plain": [
       "  STATEFP10 COUNTYFP10 TRACTCE10\n",
       "0        48        209    010901\n",
       "1        48        209    010901\n",
       "2        48        209    010908\n",
       "3        48        453    000101\n",
       "4        48        453    000101"
      ]
     },
     "execution_count": 48,
     "metadata": {},
     "output_type": "execute_result"
    }
   ],
   "source": [
    "pop[['parkname','STATEFP10', 'COUNTYFP10', 'TRACTCE10']].head()\n"
   ]
  },
  {
   "cell_type": "code",
   "execution_count": 35,
   "metadata": {},
   "outputs": [
    {
     "data": {
      "text/plain": [
       "0      209\n",
       "1      209\n",
       "2      209\n",
       "3      453\n",
       "4      453\n",
       "      ... \n",
       "611    453\n",
       "612    453\n",
       "613    453\n",
       "614    453\n",
       "615    453\n",
       "Name: COUNTYFP10, Length: 616, dtype: object"
      ]
     },
     "execution_count": 35,
     "metadata": {},
     "output_type": "execute_result"
    }
   ],
   "source": [
    "pop.COUNTYFP10[pop.COUNTYFP10.isin(['453','209'])]"
   ]
  },
  {
   "cell_type": "code",
   "execution_count": 37,
   "metadata": {},
   "outputs": [
    {
     "data": {
      "text/plain": [
       "Index(['level_0', 'level_1', 'STATEFP10', 'COUNTYFP10', 'TRACTCE10',\n",
       "       'BLOCKCE10', 'GEOID10', 'NAME10', 'MTFCC10', 'UR10', 'UACE10',\n",
       "       'FUNCSTAT10', 'ALAND10', 'AWATER10', 'INTPTLAT10', 'INTPTLON10',\n",
       "       'city_name', 'jurisdicti', 'jurisdic_1', 'jurisdic_2', 'jurisdic_3',\n",
       "       'modified_f', 'objectid', 'shape_area', 'shape_leng', 'Id', 'Id2',\n",
       "       'Estimate;', 'geometry', 'full_area'],\n",
       "      dtype='object')"
      ]
     },
     "execution_count": 37,
     "metadata": {},
     "output_type": "execute_result"
    }
   ],
   "source": [
    "pop.columns\n"
   ]
  },
  {
   "cell_type": "code",
   "execution_count": 24,
   "metadata": {},
   "outputs": [],
   "source": [
    "pd.notnull?\n",
    "pd.isnull?\n",
    "\n"
   ]
  },
  {
   "cell_type": "code",
   "execution_count": 6,
   "metadata": {},
   "outputs": [
    {
     "ename": "RTreeError",
     "evalue": "Coordinates must be in the form (minx, miny, maxx, maxy) or (x, y) for 2D indexes",
     "output_type": "error",
     "traceback": [
      "\u001b[1;31m---------------------------------------------------------------------------\u001b[0m",
      "\u001b[1;31mRTreeError\u001b[0m                                Traceback (most recent call last)",
      "\u001b[1;32m<ipython-input-6-75ba16bd4697>\u001b[0m in \u001b[0;36m<module>\u001b[1;34m\u001b[0m\n\u001b[1;32m----> 1\u001b[1;33m \u001b[0mlen\u001b[0m\u001b[1;33m(\u001b[0m\u001b[0mgpd\u001b[0m\u001b[1;33m.\u001b[0m\u001b[0moverlay\u001b[0m\u001b[1;33m(\u001b[0m\u001b[0mquartbuff\u001b[0m\u001b[1;33m,\u001b[0m\u001b[0mpop\u001b[0m\u001b[1;33m,\u001b[0m \u001b[0mhow\u001b[0m\u001b[1;33m=\u001b[0m\u001b[1;34m'intersection'\u001b[0m\u001b[1;33m)\u001b[0m\u001b[1;33m)\u001b[0m\u001b[1;33m\u001b[0m\u001b[1;33m\u001b[0m\u001b[0m\n\u001b[0m",
      "\u001b[1;32m~\\Anaconda3\\envs\\park_env\\lib\\site-packages\\geopandas\\tools\\overlay.py\u001b[0m in \u001b[0;36moverlay\u001b[1;34m(df1, df2, how, make_valid, use_sindex)\u001b[0m\n\u001b[0;32m    365\u001b[0m         \u001b[1;32mreturn\u001b[0m \u001b[0m_overlay_difference\u001b[0m\u001b[1;33m(\u001b[0m\u001b[0mdf1\u001b[0m\u001b[1;33m,\u001b[0m \u001b[0mdf2\u001b[0m\u001b[1;33m)\u001b[0m\u001b[1;33m\u001b[0m\u001b[1;33m\u001b[0m\u001b[0m\n\u001b[0;32m    366\u001b[0m     \u001b[1;32melif\u001b[0m \u001b[0mhow\u001b[0m \u001b[1;33m==\u001b[0m \u001b[1;34m'intersection'\u001b[0m\u001b[1;33m:\u001b[0m\u001b[1;33m\u001b[0m\u001b[1;33m\u001b[0m\u001b[0m\n\u001b[1;32m--> 367\u001b[1;33m         \u001b[0mresult\u001b[0m \u001b[1;33m=\u001b[0m \u001b[0m_overlay_intersection\u001b[0m\u001b[1;33m(\u001b[0m\u001b[0mdf1\u001b[0m\u001b[1;33m,\u001b[0m \u001b[0mdf2\u001b[0m\u001b[1;33m)\u001b[0m\u001b[1;33m\u001b[0m\u001b[1;33m\u001b[0m\u001b[0m\n\u001b[0m\u001b[0;32m    368\u001b[0m     \u001b[1;32melif\u001b[0m \u001b[0mhow\u001b[0m \u001b[1;33m==\u001b[0m \u001b[1;34m'symmetric_difference'\u001b[0m\u001b[1;33m:\u001b[0m\u001b[1;33m\u001b[0m\u001b[1;33m\u001b[0m\u001b[0m\n\u001b[0;32m    369\u001b[0m         \u001b[0mresult\u001b[0m \u001b[1;33m=\u001b[0m \u001b[0m_overlay_symmetric_diff\u001b[0m\u001b[1;33m(\u001b[0m\u001b[0mdf1\u001b[0m\u001b[1;33m,\u001b[0m \u001b[0mdf2\u001b[0m\u001b[1;33m)\u001b[0m\u001b[1;33m\u001b[0m\u001b[1;33m\u001b[0m\u001b[0m\n",
      "\u001b[1;32m~\\Anaconda3\\envs\\park_env\\lib\\site-packages\\geopandas\\tools\\overlay.py\u001b[0m in \u001b[0;36m_overlay_intersection\u001b[1;34m(df1, df2)\u001b[0m\n\u001b[0;32m    210\u001b[0m     \u001b[0mspatial_index\u001b[0m \u001b[1;33m=\u001b[0m \u001b[0mdf2\u001b[0m\u001b[1;33m.\u001b[0m\u001b[0msindex\u001b[0m\u001b[1;33m\u001b[0m\u001b[1;33m\u001b[0m\u001b[0m\n\u001b[0;32m    211\u001b[0m     \u001b[0mbbox\u001b[0m \u001b[1;33m=\u001b[0m \u001b[0mdf1\u001b[0m\u001b[1;33m.\u001b[0m\u001b[0mgeometry\u001b[0m\u001b[1;33m.\u001b[0m\u001b[0mapply\u001b[0m\u001b[1;33m(\u001b[0m\u001b[1;32mlambda\u001b[0m \u001b[0mx\u001b[0m\u001b[1;33m:\u001b[0m \u001b[0mx\u001b[0m\u001b[1;33m.\u001b[0m\u001b[0mbounds\u001b[0m\u001b[1;33m)\u001b[0m\u001b[1;33m\u001b[0m\u001b[1;33m\u001b[0m\u001b[0m\n\u001b[1;32m--> 212\u001b[1;33m     \u001b[0msidx\u001b[0m \u001b[1;33m=\u001b[0m \u001b[0mbbox\u001b[0m\u001b[1;33m.\u001b[0m\u001b[0mapply\u001b[0m\u001b[1;33m(\u001b[0m\u001b[1;32mlambda\u001b[0m \u001b[0mx\u001b[0m\u001b[1;33m:\u001b[0m \u001b[0mlist\u001b[0m\u001b[1;33m(\u001b[0m\u001b[0mspatial_index\u001b[0m\u001b[1;33m.\u001b[0m\u001b[0mintersection\u001b[0m\u001b[1;33m(\u001b[0m\u001b[0mx\u001b[0m\u001b[1;33m)\u001b[0m\u001b[1;33m)\u001b[0m\u001b[1;33m)\u001b[0m\u001b[1;33m\u001b[0m\u001b[1;33m\u001b[0m\u001b[0m\n\u001b[0m\u001b[0;32m    213\u001b[0m     \u001b[1;31m# Create pairs of geometries in both dataframes to be intersected\u001b[0m\u001b[1;33m\u001b[0m\u001b[1;33m\u001b[0m\u001b[1;33m\u001b[0m\u001b[0m\n\u001b[0;32m    214\u001b[0m     \u001b[0mnei\u001b[0m \u001b[1;33m=\u001b[0m \u001b[1;33m[\u001b[0m\u001b[1;33m]\u001b[0m\u001b[1;33m\u001b[0m\u001b[1;33m\u001b[0m\u001b[0m\n",
      "\u001b[1;32m~\\Anaconda3\\envs\\park_env\\lib\\site-packages\\pandas\\core\\series.py\u001b[0m in \u001b[0;36mapply\u001b[1;34m(self, func, convert_dtype, args, **kwds)\u001b[0m\n\u001b[0;32m   4043\u001b[0m             \u001b[1;32melse\u001b[0m\u001b[1;33m:\u001b[0m\u001b[1;33m\u001b[0m\u001b[1;33m\u001b[0m\u001b[0m\n\u001b[0;32m   4044\u001b[0m                 \u001b[0mvalues\u001b[0m \u001b[1;33m=\u001b[0m \u001b[0mself\u001b[0m\u001b[1;33m.\u001b[0m\u001b[0mastype\u001b[0m\u001b[1;33m(\u001b[0m\u001b[0mobject\u001b[0m\u001b[1;33m)\u001b[0m\u001b[1;33m.\u001b[0m\u001b[0mvalues\u001b[0m\u001b[1;33m\u001b[0m\u001b[1;33m\u001b[0m\u001b[0m\n\u001b[1;32m-> 4045\u001b[1;33m                 \u001b[0mmapped\u001b[0m \u001b[1;33m=\u001b[0m \u001b[0mlib\u001b[0m\u001b[1;33m.\u001b[0m\u001b[0mmap_infer\u001b[0m\u001b[1;33m(\u001b[0m\u001b[0mvalues\u001b[0m\u001b[1;33m,\u001b[0m \u001b[0mf\u001b[0m\u001b[1;33m,\u001b[0m \u001b[0mconvert\u001b[0m\u001b[1;33m=\u001b[0m\u001b[0mconvert_dtype\u001b[0m\u001b[1;33m)\u001b[0m\u001b[1;33m\u001b[0m\u001b[1;33m\u001b[0m\u001b[0m\n\u001b[0m\u001b[0;32m   4046\u001b[0m \u001b[1;33m\u001b[0m\u001b[0m\n\u001b[0;32m   4047\u001b[0m         \u001b[1;32mif\u001b[0m \u001b[0mlen\u001b[0m\u001b[1;33m(\u001b[0m\u001b[0mmapped\u001b[0m\u001b[1;33m)\u001b[0m \u001b[1;32mand\u001b[0m \u001b[0misinstance\u001b[0m\u001b[1;33m(\u001b[0m\u001b[0mmapped\u001b[0m\u001b[1;33m[\u001b[0m\u001b[1;36m0\u001b[0m\u001b[1;33m]\u001b[0m\u001b[1;33m,\u001b[0m \u001b[0mSeries\u001b[0m\u001b[1;33m)\u001b[0m\u001b[1;33m:\u001b[0m\u001b[1;33m\u001b[0m\u001b[1;33m\u001b[0m\u001b[0m\n",
      "\u001b[1;32mpandas\\_libs\\lib.pyx\u001b[0m in \u001b[0;36mpandas._libs.lib.map_infer\u001b[1;34m()\u001b[0m\n",
      "\u001b[1;32m~\\Anaconda3\\envs\\park_env\\lib\\site-packages\\geopandas\\tools\\overlay.py\u001b[0m in \u001b[0;36m<lambda>\u001b[1;34m(x)\u001b[0m\n\u001b[0;32m    210\u001b[0m     \u001b[0mspatial_index\u001b[0m \u001b[1;33m=\u001b[0m \u001b[0mdf2\u001b[0m\u001b[1;33m.\u001b[0m\u001b[0msindex\u001b[0m\u001b[1;33m\u001b[0m\u001b[1;33m\u001b[0m\u001b[0m\n\u001b[0;32m    211\u001b[0m     \u001b[0mbbox\u001b[0m \u001b[1;33m=\u001b[0m \u001b[0mdf1\u001b[0m\u001b[1;33m.\u001b[0m\u001b[0mgeometry\u001b[0m\u001b[1;33m.\u001b[0m\u001b[0mapply\u001b[0m\u001b[1;33m(\u001b[0m\u001b[1;32mlambda\u001b[0m \u001b[0mx\u001b[0m\u001b[1;33m:\u001b[0m \u001b[0mx\u001b[0m\u001b[1;33m.\u001b[0m\u001b[0mbounds\u001b[0m\u001b[1;33m)\u001b[0m\u001b[1;33m\u001b[0m\u001b[1;33m\u001b[0m\u001b[0m\n\u001b[1;32m--> 212\u001b[1;33m     \u001b[0msidx\u001b[0m \u001b[1;33m=\u001b[0m \u001b[0mbbox\u001b[0m\u001b[1;33m.\u001b[0m\u001b[0mapply\u001b[0m\u001b[1;33m(\u001b[0m\u001b[1;32mlambda\u001b[0m \u001b[0mx\u001b[0m\u001b[1;33m:\u001b[0m \u001b[0mlist\u001b[0m\u001b[1;33m(\u001b[0m\u001b[0mspatial_index\u001b[0m\u001b[1;33m.\u001b[0m\u001b[0mintersection\u001b[0m\u001b[1;33m(\u001b[0m\u001b[0mx\u001b[0m\u001b[1;33m)\u001b[0m\u001b[1;33m)\u001b[0m\u001b[1;33m)\u001b[0m\u001b[1;33m\u001b[0m\u001b[1;33m\u001b[0m\u001b[0m\n\u001b[0m\u001b[0;32m    213\u001b[0m     \u001b[1;31m# Create pairs of geometries in both dataframes to be intersected\u001b[0m\u001b[1;33m\u001b[0m\u001b[1;33m\u001b[0m\u001b[1;33m\u001b[0m\u001b[0m\n\u001b[0;32m    214\u001b[0m     \u001b[0mnei\u001b[0m \u001b[1;33m=\u001b[0m \u001b[1;33m[\u001b[0m\u001b[1;33m]\u001b[0m\u001b[1;33m\u001b[0m\u001b[1;33m\u001b[0m\u001b[0m\n",
      "\u001b[1;32m~\\Anaconda3\\envs\\park_env\\lib\\site-packages\\rtree\\index.py\u001b[0m in \u001b[0;36mintersection\u001b[1;34m(self, coordinates, objects)\u001b[0m\n\u001b[0;32m    452\u001b[0m             \u001b[1;32mreturn\u001b[0m \u001b[0mself\u001b[0m\u001b[1;33m.\u001b[0m\u001b[0m_intersection_obj\u001b[0m\u001b[1;33m(\u001b[0m\u001b[0mcoordinates\u001b[0m\u001b[1;33m,\u001b[0m \u001b[0mobjects\u001b[0m\u001b[1;33m)\u001b[0m\u001b[1;33m\u001b[0m\u001b[1;33m\u001b[0m\u001b[0m\n\u001b[0;32m    453\u001b[0m \u001b[1;33m\u001b[0m\u001b[0m\n\u001b[1;32m--> 454\u001b[1;33m         \u001b[0mp_mins\u001b[0m\u001b[1;33m,\u001b[0m \u001b[0mp_maxs\u001b[0m \u001b[1;33m=\u001b[0m \u001b[0mself\u001b[0m\u001b[1;33m.\u001b[0m\u001b[0mget_coordinate_pointers\u001b[0m\u001b[1;33m(\u001b[0m\u001b[0mcoordinates\u001b[0m\u001b[1;33m)\u001b[0m\u001b[1;33m\u001b[0m\u001b[1;33m\u001b[0m\u001b[0m\n\u001b[0m\u001b[0;32m    455\u001b[0m \u001b[1;33m\u001b[0m\u001b[0m\n\u001b[0;32m    456\u001b[0m         \u001b[0mp_num_results\u001b[0m \u001b[1;33m=\u001b[0m \u001b[0mctypes\u001b[0m\u001b[1;33m.\u001b[0m\u001b[0mc_uint64\u001b[0m\u001b[1;33m(\u001b[0m\u001b[1;36m0\u001b[0m\u001b[1;33m)\u001b[0m\u001b[1;33m\u001b[0m\u001b[1;33m\u001b[0m\u001b[0m\n",
      "\u001b[1;32m~\\Anaconda3\\envs\\park_env\\lib\\site-packages\\rtree\\index.py\u001b[0m in \u001b[0;36mget_coordinate_pointers\u001b[1;34m(self, coordinates)\u001b[0m\n\u001b[0;32m    310\u001b[0m         \u001b[1;32mif\u001b[0m \u001b[0mlen\u001b[0m\u001b[1;33m(\u001b[0m\u001b[0mcoordinates\u001b[0m\u001b[1;33m)\u001b[0m \u001b[1;33m!=\u001b[0m \u001b[0mdimension\u001b[0m \u001b[1;33m*\u001b[0m \u001b[1;36m2\u001b[0m\u001b[1;33m:\u001b[0m\u001b[1;33m\u001b[0m\u001b[1;33m\u001b[0m\u001b[0m\n\u001b[0;32m    311\u001b[0m             raise core.RTreeError(\n\u001b[1;32m--> 312\u001b[1;33m                 \u001b[1;34m\"Coordinates must be in the form \"\u001b[0m\u001b[1;33m\u001b[0m\u001b[1;33m\u001b[0m\u001b[0m\n\u001b[0m\u001b[0;32m    313\u001b[0m                 \"(minx, miny, maxx, maxy) or (x, y) for 2D indexes\")\n\u001b[0;32m    314\u001b[0m \u001b[1;33m\u001b[0m\u001b[0m\n",
      "\u001b[1;31mRTreeError\u001b[0m: Coordinates must be in the form (minx, miny, maxx, maxy) or (x, y) for 2D indexes"
     ]
    }
   ],
   "source": [
    "len(gpd.overlay(quartbuff,pop, how='intersection'))"
   ]
  },
  {
   "cell_type": "code",
   "execution_count": 10,
   "metadata": {},
   "outputs": [
    {
     "ename": "AttributeError",
     "evalue": "'GeoDataFrame' object has no attribute 'coordinates'",
     "output_type": "error",
     "traceback": [
      "\u001b[1;31m---------------------------------------------------------------------------\u001b[0m",
      "\u001b[1;31mAttributeError\u001b[0m                            Traceback (most recent call last)",
      "\u001b[1;32m<ipython-input-10-12ff6b234840>\u001b[0m in \u001b[0;36m<module>\u001b[1;34m\u001b[0m\n\u001b[1;32m----> 1\u001b[1;33m \u001b[0mpop\u001b[0m\u001b[1;33m.\u001b[0m\u001b[0mhead\u001b[0m\u001b[1;33m(\u001b[0m\u001b[1;36m1\u001b[0m\u001b[1;33m)\u001b[0m\u001b[1;33m.\u001b[0m\u001b[0mcoordinates\u001b[0m\u001b[1;33m\u001b[0m\u001b[1;33m\u001b[0m\u001b[0m\n\u001b[0m",
      "\u001b[1;32m~\\Anaconda3\\envs\\park_env\\lib\\site-packages\\pandas\\core\\generic.py\u001b[0m in \u001b[0;36m__getattr__\u001b[1;34m(self, name)\u001b[0m\n\u001b[0;32m   5177\u001b[0m             \u001b[1;32mif\u001b[0m \u001b[0mself\u001b[0m\u001b[1;33m.\u001b[0m\u001b[0m_info_axis\u001b[0m\u001b[1;33m.\u001b[0m\u001b[0m_can_hold_identifiers_and_holds_name\u001b[0m\u001b[1;33m(\u001b[0m\u001b[0mname\u001b[0m\u001b[1;33m)\u001b[0m\u001b[1;33m:\u001b[0m\u001b[1;33m\u001b[0m\u001b[1;33m\u001b[0m\u001b[0m\n\u001b[0;32m   5178\u001b[0m                 \u001b[1;32mreturn\u001b[0m \u001b[0mself\u001b[0m\u001b[1;33m[\u001b[0m\u001b[0mname\u001b[0m\u001b[1;33m]\u001b[0m\u001b[1;33m\u001b[0m\u001b[1;33m\u001b[0m\u001b[0m\n\u001b[1;32m-> 5179\u001b[1;33m             \u001b[1;32mreturn\u001b[0m \u001b[0mobject\u001b[0m\u001b[1;33m.\u001b[0m\u001b[0m__getattribute__\u001b[0m\u001b[1;33m(\u001b[0m\u001b[0mself\u001b[0m\u001b[1;33m,\u001b[0m \u001b[0mname\u001b[0m\u001b[1;33m)\u001b[0m\u001b[1;33m\u001b[0m\u001b[1;33m\u001b[0m\u001b[0m\n\u001b[0m\u001b[0;32m   5180\u001b[0m \u001b[1;33m\u001b[0m\u001b[0m\n\u001b[0;32m   5181\u001b[0m     \u001b[1;32mdef\u001b[0m \u001b[0m__setattr__\u001b[0m\u001b[1;33m(\u001b[0m\u001b[0mself\u001b[0m\u001b[1;33m,\u001b[0m \u001b[0mname\u001b[0m\u001b[1;33m,\u001b[0m \u001b[0mvalue\u001b[0m\u001b[1;33m)\u001b[0m\u001b[1;33m:\u001b[0m\u001b[1;33m\u001b[0m\u001b[1;33m\u001b[0m\u001b[0m\n",
      "\u001b[1;31mAttributeError\u001b[0m: 'GeoDataFrame' object has no attribute 'coordinates'"
     ]
    }
   ],
   "source": [
    "pop."
   ]
  },
  {
   "cell_type": "code",
   "execution_count": 12,
   "metadata": {},
   "outputs": [
    {
     "name": "stderr",
     "output_type": "stream",
     "text": [
      "C:\\Users\\Victoria\\Anaconda3\\envs\\park_env\\lib\\site-packages\\ipykernel_launcher.py:11: SettingWithCopyWarning: \n",
      "A value is trying to be set on a copy of a slice from a DataFrame.\n",
      "Try using .loc[row_indexer,col_indexer] = value instead\n",
      "\n",
      "See the caveats in the documentation: http://pandas.pydata.org/pandas-docs/stable/user_guide/indexing.html#returning-a-view-versus-a-copy\n",
      "  # This is added back by InteractiveShellApp.init_path()\n"
     ]
    }
   ],
   "source": [
    "data = {'Park_Name':[],\n",
    "       'Calc_Pop':[]}\n",
    "\n",
    "from shapely.geometry import Polygon\n",
    "names = quartbuff['LOCATION_N'].unique()\n",
    "for i, dfrow in parks.iterrows():\n",
    "     name = dfrow['LOCATION_N']\n",
    "\n",
    "for i,name in enumerate(names):\n",
    "    park = quartbuff.loc[quartbuff['LOCATION_N'] == name]\n",
    "    park['geometry'] = park['geometry'].buffer(0) #This is the buffer\n",
    "#     print(i, name)\n",
    "    \n",
    "    is_in_park = False\n",
    "    for j, dfrow in pop.iterrows(): # iterate over pop shapes\n",
    "#         print(dfrow['geometry'].is_valid)\n",
    "        for n, dfrow2 in park.iterrows(): # iterate over buffered park shape\n",
    "            # check if any pop shps fall within the buffered park shapes\n",
    "            if Polygon(dfrow['geometry']).intersects(Polygon(dfrow2['geometry'])):\n",
    "                is_in_park = True\n",
    "                break\n",
    "    if is_in_park:\n",
    "        pop_valid = pop.copy()\n",
    "        pop_valid['geometry'] = pop_valid['geometry'].buffer(0) # fix invalid polygons by buffering them by zero distances\n",
    "        # definetly a hack and should be looked into.\n",
    "        pop_clip = clip_shp(pop_valid,park)\n",
    "\n",
    "        pop_clip['new_area'] = pop_clip['geometry'].area\n",
    "        pop_clip['weight'] = pop_clip['new_area']/ pop_clip['full_area']\n",
    "        pop_clip['new_pop'] = pop_clip['weight'] * pop_clip['Estimate;']\n",
    "\n",
    "        data['Park_Name'].append(name)\n",
    "        data['Calc_Pop'].append(pop_clip['new_pop'].sum())\n",
    "    else: # if no pop blocks are within the park then return 0\n",
    "        data['Park_Name'].append(name)\n",
    "        data['Calc_Pop'].append(0)\n",
    "\n",
    "# print(park.head())\n"
   ]
  },
  {
   "cell_type": "code",
   "execution_count": 16,
   "metadata": {},
   "outputs": [
    {
     "data": {
      "text/html": [
       "<div>\n",
       "<style scoped>\n",
       "    .dataframe tbody tr th:only-of-type {\n",
       "        vertical-align: middle;\n",
       "    }\n",
       "\n",
       "    .dataframe tbody tr th {\n",
       "        vertical-align: top;\n",
       "    }\n",
       "\n",
       "    .dataframe thead th {\n",
       "        text-align: right;\n",
       "    }\n",
       "</style>\n",
       "<table border=\"1\" class=\"dataframe\">\n",
       "  <thead>\n",
       "    <tr style=\"text-align: right;\">\n",
       "      <th></th>\n",
       "      <th>Park_Name</th>\n",
       "      <th>Calc_Pop</th>\n",
       "    </tr>\n",
       "  </thead>\n",
       "  <tbody>\n",
       "    <tr>\n",
       "      <th>0</th>\n",
       "      <td>NaN</td>\n",
       "      <td>0</td>\n",
       "    </tr>\n",
       "    <tr>\n",
       "      <th>1</th>\n",
       "      <td>Davis Spring Special Park</td>\n",
       "      <td>276</td>\n",
       "    </tr>\n",
       "  </tbody>\n",
       "</table>\n",
       "</div>"
      ],
      "text/plain": [
       "                   Park_Name  Calc_Pop\n",
       "0                        NaN         0\n",
       "1  Davis Spring Special Park       276"
      ]
     },
     "execution_count": 16,
     "metadata": {},
     "output_type": "execute_result"
    }
   ],
   "source": [
    "df = pd.DataFrame(data)\n",
    "df['Calc_Pop'] = df['Calc_Pop'].astype(int)\n",
    "\n",
    "df.head(10)"
   ]
  },
  {
   "cell_type": "code",
   "execution_count": 19,
   "metadata": {},
   "outputs": [],
   "source": [
    "parkspop = df.copy()\n",
    "quartbuff = gpd.read_file(wd+\"data/coaparks_buffer/quarterbuffgj.geojson\")\n",
    "qbuff = quartbuff.copy()\n",
    "parksnocem= qbuff.loc[~qbuff['LOCATION_N'].str.contains('Cemetery')].reset_index()\n",
    "parks_pop = parksnocem.merge(parkspop, left_on='LOCATION_N', right_on='Park_Name', suffixes=('_parksnocem', '_parkspop'))\n",
    "parks_pop.to_file(wd+\"data/access/parks_pop_quarterbuff_ACS17.shp\")"
   ]
  },
  {
   "cell_type": "code",
   "execution_count": null,
   "metadata": {},
   "outputs": [],
   "source": [
    "parks_pop.to"
   ]
  },
  {
   "cell_type": "markdown",
   "metadata": {},
   "source": [
    "END OF CODE"
   ]
  },
  {
   "cell_type": "code",
   "execution_count": 17,
   "metadata": {
    "scrolled": true
   },
   "outputs": [
    {
     "ename": "TypeError",
     "evalue": "bad operand type for unary ~: 'float'",
     "output_type": "error",
     "traceback": [
      "\u001b[1;31m---------------------------------------------------------------------------\u001b[0m",
      "\u001b[1;31mTypeError\u001b[0m                                 Traceback (most recent call last)",
      "\u001b[1;32m<ipython-input-17-533eed779708>\u001b[0m in \u001b[0;36m<module>\u001b[1;34m\u001b[0m\n\u001b[1;32m----> 1\u001b[1;33m \u001b[0mdf2\u001b[0m\u001b[1;33m=\u001b[0m \u001b[0mdf\u001b[0m\u001b[1;33m.\u001b[0m\u001b[0mloc\u001b[0m\u001b[1;33m[\u001b[0m\u001b[1;33m~\u001b[0m\u001b[0mdf\u001b[0m\u001b[1;33m[\u001b[0m\u001b[1;34m'Park_Name'\u001b[0m\u001b[1;33m]\u001b[0m\u001b[1;33m.\u001b[0m\u001b[0mstr\u001b[0m\u001b[1;33m.\u001b[0m\u001b[0mcontains\u001b[0m\u001b[1;33m(\u001b[0m\u001b[1;34m'Cemetery'\u001b[0m\u001b[1;33m)\u001b[0m\u001b[1;33m]\u001b[0m\u001b[1;33m.\u001b[0m\u001b[0mreset_index\u001b[0m\u001b[1;33m(\u001b[0m\u001b[1;33m)\u001b[0m\u001b[1;33m\u001b[0m\u001b[1;33m\u001b[0m\u001b[0m\n\u001b[0m\u001b[0;32m      2\u001b[0m \u001b[0mdf2\u001b[0m\u001b[1;33m\u001b[0m\u001b[1;33m\u001b[0m\u001b[0m\n",
      "\u001b[1;32m~\\Anaconda3\\envs\\park_env\\lib\\site-packages\\pandas\\core\\generic.py\u001b[0m in \u001b[0;36m__invert__\u001b[1;34m(self)\u001b[0m\n\u001b[0;32m   1539\u001b[0m     \u001b[1;32mdef\u001b[0m \u001b[0m__invert__\u001b[0m\u001b[1;33m(\u001b[0m\u001b[0mself\u001b[0m\u001b[1;33m)\u001b[0m\u001b[1;33m:\u001b[0m\u001b[1;33m\u001b[0m\u001b[1;33m\u001b[0m\u001b[0m\n\u001b[0;32m   1540\u001b[0m         \u001b[1;32mtry\u001b[0m\u001b[1;33m:\u001b[0m\u001b[1;33m\u001b[0m\u001b[1;33m\u001b[0m\u001b[0m\n\u001b[1;32m-> 1541\u001b[1;33m             \u001b[0marr\u001b[0m \u001b[1;33m=\u001b[0m \u001b[0moperator\u001b[0m\u001b[1;33m.\u001b[0m\u001b[0minv\u001b[0m\u001b[1;33m(\u001b[0m\u001b[0mcom\u001b[0m\u001b[1;33m.\u001b[0m\u001b[0mvalues_from_object\u001b[0m\u001b[1;33m(\u001b[0m\u001b[0mself\u001b[0m\u001b[1;33m)\u001b[0m\u001b[1;33m)\u001b[0m\u001b[1;33m\u001b[0m\u001b[1;33m\u001b[0m\u001b[0m\n\u001b[0m\u001b[0;32m   1542\u001b[0m             \u001b[1;32mreturn\u001b[0m \u001b[0mself\u001b[0m\u001b[1;33m.\u001b[0m\u001b[0m__array_wrap__\u001b[0m\u001b[1;33m(\u001b[0m\u001b[0marr\u001b[0m\u001b[1;33m)\u001b[0m\u001b[1;33m\u001b[0m\u001b[1;33m\u001b[0m\u001b[0m\n\u001b[0;32m   1543\u001b[0m         \u001b[1;32mexcept\u001b[0m \u001b[0mException\u001b[0m\u001b[1;33m:\u001b[0m\u001b[1;33m\u001b[0m\u001b[1;33m\u001b[0m\u001b[0m\n",
      "\u001b[1;31mTypeError\u001b[0m: bad operand type for unary ~: 'float'"
     ]
    }
   ],
   "source": [
    "# df2= df.loc[~df['Park_Name'].str.contains('Cemetery')].reset_index()\n",
    "# df2"
   ]
  },
  {
   "cell_type": "code",
   "execution_count": null,
   "metadata": {},
   "outputs": [],
   "source": [
    "data = {'Park_Name':[],\n",
    "       'Calc_Pop':[]}\n",
    "\n",
    "from shapely.geometry import Polygon\n",
    "names = quartbuff['LOCATION_N'].unique()\n",
    "for i, dfrow in quartbuff.iterrows():\n",
    "        name = dfrow['LOCATION_N']\n",
    "\n",
    "for i,name in enumerate(names):\n",
    "    park = quartbuff.loc[quartbuff['LOCATION_N'] == name]\n",
    "#     park['geometry'] = park['geometry'].buffer(1320) #This is the 1/4 mile buffer\n",
    "    print(i, name)\n",
    "    \n",
    "    is_in_park = False\n",
    "    for j, dfrow in pop.iterrows(): # iterate over pop shapes\n",
    "        print(dfrow['geometry'].is_valid)\n",
    "        for n, dfrow2 in park.iterrows(): # iterate over buffered park shape\n",
    "                                                        # check if any pop shps fall within the buffered park shapes\n",
    "            if Polygon(dfrow['geometry']).intersects(Polygon(dfrow2['geometry'])):\n",
    "                is_in_park = True\n",
    "                break\n",
    "        \n",
    "    if is_in_park:\n",
    "        pop_valid = pop.copy()\n",
    "        pop_valid['geometry'] = pop_valid['geometry'].buffer(0) # fix invalid polygons by buffering them by zero distances\n",
    "                                                                    # definetly a hack and should be looked into.\n",
    "        pop_clip = clip_shp(pop_valid,quartbuff)\n",
    "\n",
    "        pop_clip['new_area'] = pop_clip['geometry'].area\n",
    "        pop_clip['weight'] = pop_clip['new_area']/ pop_clip['full_area']\n",
    "        pop_clip['new_pop'] = pop_clip['weight'] * pop_clip['Estimate;']\n",
    "\n",
    "        data['Park_Name'].append(name)\n",
    "        data['Calc_Pop'].append(pop_clip['new_pop'].sum())\n",
    "    else: # if no pop blocks are within the park then return 0\n",
    "        data['Park_Name'].append(name)\n",
    "        data['Calc_Pop'].append(0)\n",
    "print(park.head())\n",
    "\n",
    "#names.head()"
   ]
  }
 ],
 "metadata": {
  "kernelspec": {
   "display_name": "Python 3",
   "language": "python",
   "name": "python3"
  },
  "language_info": {
   "codemirror_mode": {
    "name": "ipython",
    "version": 3
   },
   "file_extension": ".py",
   "mimetype": "text/x-python",
   "name": "python",
   "nbconvert_exporter": "python",
   "pygments_lexer": "ipython3",
   "version": "3.7.4"
  }
 },
 "nbformat": 4,
 "nbformat_minor": 2
}
