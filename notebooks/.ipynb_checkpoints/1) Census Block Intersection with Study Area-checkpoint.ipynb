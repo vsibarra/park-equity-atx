{
 "cells": [
  {
   "cell_type": "markdown",
   "metadata": {},
   "source": [
    "## This notenook will use the intersection tool to select the census block we are interested in viewing by using the Austin City Limits full jurisdiction shapefile as our boundary."
   ]
  },
  {
   "cell_type": "markdown",
   "metadata": {},
   "source": [
    "#### We want to import census block data, City Jurisdiction data, and census data\n",
    "* Census data is typically distributed by census tract, census block group, or by census block. However, our census data is not connected to a shapefile and thus we must create a shapefile for our study area and join the corresponding census data\n",
    "\n",
    "* We must first bring in Jurisdiction data and create a shapefile based solely on the areas listed as 'Full Jurisdiction' in order to create our study area;This varies dependent on what area/scale you are interested in viewing\n",
    "* Use the City limits shapefile created from the full jurisdiction and overlay it over the census block shapefile to create a shapefile of only the census block groups within city limits\n",
    "* Dissolve the census blocks into block groups\n",
    "* Take census block group and census excel data and combine them. \n",
    "\n",
    "\n"
   ]
  },
  {
   "cell_type": "code",
   "execution_count": null,
   "metadata": {},
   "outputs": [],
   "source": [
    "import geopandas as gpd\n",
    "import os\n",
    "import getpass\n",
    "import matplotlib.pyplot as plt\n",
    "import re\n",
    "import pandas as pd"
   ]
  },
  {
   "cell_type": "code",
   "execution_count": null,
   "metadata": {},
   "outputs": [],
   "source": [
    "# Find working directory, saves the path while appending the notebooks file name. \n",
    "# wd is now the file path to the park-equity-atx directory.\n",
    "wd = os.getcwd()\n",
    "wd = wd[:wd.find('notebooks')]\n",
    "wd"
   ]
  },
  {
   "cell_type": "code",
   "execution_count": null,
   "metadata": {},
   "outputs": [],
   "source": [
    "acl = gpd.read_file(wd+'data/fulljurisdiction/austincitylimits.shp')"
   ]
  },
  {
   "cell_type": "code",
   "execution_count": null,
   "metadata": {},
   "outputs": [],
   "source": [
    "acl"
   ]
  },
  {
   "cell_type": "code",
   "execution_count": null,
   "metadata": {},
   "outputs": [],
   "source": [
    "fig1, ax = plt.subplots(figsize=(12,12))\n",
    "a = acl.plot(ax=ax, color=\"black\", alpha=0.2)\n",
    "# a = acl.plot(ax=ax, color=None, alpha=1)\n",
    "#Projection for city data is NAD 1983 StatePlane Texas Central FIPS 4203 Feet\n",
    "#acl.crs = {'init': 'epsg:102739'}\n",
    "##export to shapefile \n",
    "#acl.to_file(\"test_acl.shp\")\n",
    "plt.title(\"Austin City Limits - Full Jurisdiction\")"
   ]
  },
  {
   "cell_type": "code",
   "execution_count": null,
   "metadata": {},
   "outputs": [],
   "source": [
    "censusblocks = gpd.read_file(wd+\"data/censusblocks2010/2010 Census Blocks.shp\")"
   ]
  },
  {
   "cell_type": "code",
   "execution_count": null,
   "metadata": {},
   "outputs": [],
   "source": [
    "censusblocks"
   ]
  },
  {
   "cell_type": "code",
   "execution_count": null,
   "metadata": {},
   "outputs": [],
   "source": [
    "#censusblocks.crs = {'init': 'epsg:102739'}\n",
    "fig2, ax = plt.subplots(figsize=(12,12))\n",
    "base = censusblocks.plot(ax=ax, color=\"black\", alpha=0.2)\n",
    "layer = censusblocks[\"geometry\"].plot(ax=base, color='grey', edgecolor = 'black')\n",
    "# cb= censusblocks.plot(ax=ax, color=None, alpha=1)"
   ]
  },
  {
   "cell_type": "code",
   "execution_count": null,
   "metadata": {},
   "outputs": [],
   "source": [
    "cbintersection = gpd.overlay(censusblocks, acl, how = 'intersection')"
   ]
  },
  {
   "cell_type": "code",
   "execution_count": null,
   "metadata": {
    "scrolled": true
   },
   "outputs": [],
   "source": [
    "cbintersection "
   ]
  },
  {
   "cell_type": "code",
   "execution_count": null,
   "metadata": {},
   "outputs": [],
   "source": [
    "#cbintersection.crs = {'init': 'epsg:102739'}\n",
    "fig3, ax = plt.subplots(figsize=(12,12))\n",
    "base = cbintersection.plot(ax=ax, color=\"black\", alpha=0.2)\n",
    "layer = cbintersection[\"geometry\"].plot(ax=base, color='white', edgecolor = 'black')\n",
    "\n",
    "# cbi = cbintersection.plot(ax=ax, color=None, alpha=1)"
   ]
  },
  {
   "cell_type": "code",
   "execution_count": null,
   "metadata": {},
   "outputs": [],
   "source": [
    "#export to shapefile \n",
    "cbintersection.to_file(wd+\"data/cbintersection/cbi.shp\")"
   ]
  },
  {
   "cell_type": "markdown",
   "metadata": {},
   "source": [
    "# Creation of the Census Block Groups shapefile\n",
    "##### This shapefile can be merged with any future cesus block group data for analysis purposes. The 'GeoID' attribute serves as the link to merge data sets."
   ]
  },
  {
   "cell_type": "code",
   "execution_count": null,
   "metadata": {},
   "outputs": [],
   "source": [
    "import geopandas as gpd\n",
    "import os\n",
    "import getpass\n",
    "import matplotlib.pyplot as plt\n",
    "import re\n",
    "import pandas as pd"
   ]
  },
  {
   "cell_type": "code",
   "execution_count": null,
   "metadata": {},
   "outputs": [],
   "source": [
    "wd = os.getcwd()\n",
    "wd = wd[:wd.find('notebooks')]\n",
    "wd"
   ]
  },
  {
   "cell_type": "code",
   "execution_count": null,
   "metadata": {},
   "outputs": [],
   "source": [
    "blocks = gpd.read_file(wd+\"data/cbintersection/cbi.shp\")"
   ]
  },
  {
   "cell_type": "code",
   "execution_count": null,
   "metadata": {
    "scrolled": true
   },
   "outputs": [],
   "source": [
    "print(blocks['GEOID10'].head)"
   ]
  },
  {
   "cell_type": "markdown",
   "metadata": {},
   "source": [
    "According to the [documentation](https://www.census.gov/programs-surveys/geography/guidance/geo-identifiers.html) we have that the geocodes are each representing block data. Census tables will have a 12 digit geoID and the census blocks data will have a 15 digit block ID. Thus, in order to merge the files a new column called 'blockGroups' will be created that includes only the first 12 digits of the block ID. Then the census block groups will be created by dissolving by 'blockGroups'. When merging any census data tables to this file, the 'blockGroups' attribute will be equal to the 'ID2' attribute found in census data tables."
   ]
  },
  {
   "cell_type": "code",
   "execution_count": null,
   "metadata": {},
   "outputs": [],
   "source": [
    "blockgroup = blocks['GEOID10'].str.slice(start=0, stop=12)\n",
    "blockgroup"
   ]
  },
  {
   "cell_type": "code",
   "execution_count": null,
   "metadata": {},
   "outputs": [],
   "source": [
    "blocks['GEOID10'] = blockgroup"
   ]
  },
  {
   "cell_type": "code",
   "execution_count": null,
   "metadata": {
    "scrolled": true
   },
   "outputs": [],
   "source": [
    "blocks.head()"
   ]
  },
  {
   "cell_type": "code",
   "execution_count": null,
   "metadata": {},
   "outputs": [],
   "source": [
    "cbgdiss = blocks.copy()\n",
    "cbgdiss.head()"
   ]
  },
  {
   "cell_type": "code",
   "execution_count": null,
   "metadata": {},
   "outputs": [],
   "source": [
    "cbgdiss=cbgdiss.dissolve(by='GEOID10').reset_index()\n",
    "cbgdiss=cbgdiss.drop(['STATEFP10','COUNTYFP10','TRACTCE10','BLOCKCE10','NAME10', 'MTFCC10','UR10','UACE10','FUNCSTAT10',\\\n",
    "              'jurisdic_1','jurisdic_2','jurisdic_3','modified_f','objectid','shape_area','shape_leng'], axis=1)\n",
    "#cbgdiss= cbgdiss.rename(columns={'blockGroups':'Id2'})\n",
    "cbgdiss"
   ]
  },
  {
   "cell_type": "code",
   "execution_count": null,
   "metadata": {},
   "outputs": [],
   "source": [
    "fig4, ax = plt.subplots(figsize=(12,12))\n",
    "base = cbgdiss.plot(ax=ax, color=\"black\", alpha=0.2)\n",
    "layer = cbgdiss[\"geometry\"].plot(ax=base, color='white', edgecolor = 'black')"
   ]
  },
  {
   "cell_type": "code",
   "execution_count": null,
   "metadata": {},
   "outputs": [],
   "source": [
    "#This shapefile contains the census block groups for Austin City Limits \n",
    "cbgdiss.to_file(wd+\"data/censusblockgroups/cbg.shp\")"
   ]
  },
  {
   "cell_type": "markdown",
   "metadata": {},
   "source": [
    "# Creation of the Census Block Group shapefile with population count data included \n",
    "#### The 'GEOID10' census block group attribute is now the same as the Id2 attribute in the census data excel files"
   ]
  },
  {
   "cell_type": "code",
   "execution_count": null,
   "metadata": {},
   "outputs": [],
   "source": [
    "import geopandas as gpd\n",
    "import os\n",
    "import getpass\n",
    "import matplotlib.pyplot as plt\n",
    "import re\n",
    "import pandas as pd"
   ]
  },
  {
   "cell_type": "code",
   "execution_count": null,
   "metadata": {},
   "outputs": [],
   "source": [
    "wd = os.getcwd()\n",
    "wd = wd[:wd.find('notebooks')]"
   ]
  },
  {
   "cell_type": "code",
   "execution_count": null,
   "metadata": {},
   "outputs": [],
   "source": [
    "cbg = gpd.read_file(wd+\"data/censusblockgroups/cbg.shp\")\n",
    "poptable = pd.read_excel(wd+\"data/censustables/ACS_17_5yr_totalpop_allcounties.xlsx\")"
   ]
  },
  {
   "cell_type": "code",
   "execution_count": null,
   "metadata": {
    "scrolled": false
   },
   "outputs": [],
   "source": [
    "cbgroups = cbg.copy()\n",
    "pop = poptable.copy()\n",
    "\n",
    "print(cbgroups['GEOID10'].head)\n",
    "print(poptable['Id2'].head)"
   ]
  },
  {
   "cell_type": "markdown",
   "metadata": {},
   "source": [
    "#### Convert the ID2 column to string data type. This will simplify the merge "
   ]
  },
  {
   "cell_type": "code",
   "execution_count": null,
   "metadata": {},
   "outputs": [],
   "source": [
    "pop['Id2'] = pop['Id2'].astype(str)"
   ]
  },
  {
   "cell_type": "code",
   "execution_count": null,
   "metadata": {},
   "outputs": [],
   "source": [
    "popmerger = cbgroups.merge(pop, left_on='GEOID10', right_on='Id2', suffixes=('_cbgroups', '_poptable'))"
   ]
  },
  {
   "cell_type": "code",
   "execution_count": null,
   "metadata": {},
   "outputs": [],
   "source": [
    "popmerger"
   ]
  },
  {
   "cell_type": "markdown",
   "metadata": {},
   "source": [
    "### This creates a shapefile for the combination of the census population count excelsheet and census blocks shapefile"
   ]
  },
  {
   "cell_type": "code",
   "execution_count": null,
   "metadata": {},
   "outputs": [],
   "source": [
    "popmerger.to_file(wd+\"data/blockgroups_censusdata/popmerge.shp\")\n"
   ]
  },
  {
   "cell_type": "code",
   "execution_count": null,
   "metadata": {
    "scrolled": true
   },
   "outputs": [],
   "source": [
    "popcount = popmerger.copy().explode().reset_index()\n",
    "popcount.to_file(wd+\"data/blockgroups_censusdata/popcount.geojson\", driver='GeoJSON')\n",
    "popcount"
   ]
  },
  {
   "cell_type": "markdown",
   "metadata": {},
   "source": [
    "### The same steps from above will be used to create shapefiles for the merging of other census demographic data"
   ]
  },
  {
   "cell_type": "markdown",
   "metadata": {},
   "source": [
    "#### Race Census Tables"
   ]
  },
  {
   "cell_type": "code",
   "execution_count": null,
   "metadata": {},
   "outputs": [],
   "source": [
    "cbg = gpd.read_file(wd+\"data/censusblockgroups/cbg.shp\")\n",
    "racetable = pd.read_excel(wd+\"data/censustables/ACS_17_5YR_race_includinglatinx.xlsx\")\n",
    "\n",
    "cbgroups2 = cbg.copy()\n",
    "race = racetable.copy()\n",
    "print(cbgroups2['GEOID10'].head)\n",
    "print(racetable['Id2'].head)\n",
    "\n",
    "race['Id2'] = race['Id2'].astype(str)\n",
    "\n",
    "racemerger = cbgroups2.merge(race, left_on='GEOID10', right_on='Id2', suffixes=('_cbgroups2', '_racetable'))\n",
    "racemerger.to_file(wd+\"data/blockgroups_censusdata/racemerge.shp\")\n",
    "race = racemerger.copy().explode().reset_index()\n",
    "race.to_file(wd+\"data/blockgroups_censusdata/race.geojson\", driver='GeoJSON')"
   ]
  },
  {
   "cell_type": "code",
   "execution_count": null,
   "metadata": {},
   "outputs": [],
   "source": [
    "racetable.head()"
   ]
  },
  {
   "cell_type": "code",
   "execution_count": null,
   "metadata": {},
   "outputs": [],
   "source": [
    "racemerger.head()"
   ]
  },
  {
   "cell_type": "markdown",
   "metadata": {},
   "source": [
    "#### Income Census Tables"
   ]
  },
  {
   "cell_type": "code",
   "execution_count": null,
   "metadata": {},
   "outputs": [],
   "source": [
    "cbg = gpd.read_file(wd+\"data/censusblockgroups/cbg.shp\")\n",
    "incometable = pd.read_excel(wd+\"data/censustables/ACS_17_5YR_Household_Income.xlsx\")\n",
    "\n",
    "cbgroups3 = cbg.copy()\n",
    "income = incometable.copy()\n",
    "print(cbgroups3['GEOID10'].head)\n",
    "print(incometable['Id2'].head)\n",
    "\n",
    "income['Id2'] = income['Id2'].astype(str)\n",
    "\n",
    "incomemerger = cbgroups3.merge(income, left_on='GEOID10', right_on='Id2', suffixes=('_cbgroups3', '_incometable'))\n",
    "incomemerger.to_file(wd+\"data/blockgroups_censusdata/incomemerge.shp\")\n",
    "income = incomemerger.copy().explode().reset_index()\n",
    "income.to_file(wd+\"data/blockgroups_censusdata/income.geojson\", driver='GeoJSON')"
   ]
  },
  {
   "cell_type": "code",
   "execution_count": null,
   "metadata": {},
   "outputs": [],
   "source": [
    "incometable.head()"
   ]
  },
  {
   "cell_type": "code",
   "execution_count": null,
   "metadata": {},
   "outputs": [],
   "source": [
    "incomemerger.head()"
   ]
  },
  {
   "cell_type": "markdown",
   "metadata": {},
   "source": [
    "#### Age Census Tables"
   ]
  },
  {
   "cell_type": "code",
   "execution_count": null,
   "metadata": {},
   "outputs": [],
   "source": [
    "cbg = gpd.read_file(wd+\"data/censusblockgroups/cbg.shp\")\n",
    "agetable = pd.read_excel(wd+\"data/censustables/ACS_17_5YR_age_sex.xlsx\")\n",
    "\n",
    "cbgroups4 = cbg.copy()\n",
    "age = agetable.copy()\n",
    "print(cbgroups4['GEOID10'].head)\n",
    "print(age['Id2'].head)\n",
    "\n",
    "age['Id2'] = age['Id2'].astype(str)\n",
    "\n",
    "agemerger = cbgroups4.merge(age, left_on='GEOID10', right_on='Id2', suffixes=('cbgroups4', 'age'))\n",
    "agemerger=agemerger.drop(['ALAND10', 'AWATER10', 'INTPTLAT10', 'INTPTLON10','city_name', 'jurisdicti', \n",
    "                          'Id','Id2_error',], axis=1)\n",
    "agemerger.to_file(wd+\"data/blockgroups_censusdata/agemerge.shp\")\n",
    "age = agemerger.copy().explode().reset_index()\n",
    "age.to_file(wd+\"data/blockgroups_censusdata/age.geojson\", driver='GeoJSON')"
   ]
  },
  {
   "cell_type": "code",
   "execution_count": null,
   "metadata": {},
   "outputs": [],
   "source": [
    "agetable.head()"
   ]
  },
  {
   "cell_type": "code",
   "execution_count": null,
   "metadata": {},
   "outputs": [],
   "source": [
    "agemerger.head()"
   ]
  },
  {
   "cell_type": "markdown",
   "metadata": {},
   "source": [
    "### END OF CODE"
   ]
  }
 ],
 "metadata": {
  "kernelspec": {
   "display_name": "Python 3",
   "language": "python",
   "name": "python3"
  },
  "language_info": {
   "codemirror_mode": {
    "name": "ipython",
    "version": 3
   },
   "file_extension": ".py",
   "mimetype": "text/x-python",
   "name": "python",
   "nbconvert_exporter": "python",
   "pygments_lexer": "ipython3",
   "version": "3.7.4"
  }
 },
 "nbformat": 4,
 "nbformat_minor": 2
}
