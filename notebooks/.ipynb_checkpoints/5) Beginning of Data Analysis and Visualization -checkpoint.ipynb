{
 "cells": [
  {
   "cell_type": "code",
   "execution_count": 4,
   "metadata": {},
   "outputs": [],
   "source": [
    "import geopandas as gpd\n",
    "import pandas as pd\n",
    "import os\n",
    "import getpass\n",
    "import matplotlib.pyplot as plt\n",
    "import re"
   ]
  },
  {
   "cell_type": "code",
   "execution_count": 5,
   "metadata": {},
   "outputs": [],
   "source": [
    "wd = os.getcwd()\n",
    "wd = wd[:wd.find('notebooks')]"
   ]
  },
  {
   "cell_type": "code",
   "execution_count": 6,
   "metadata": {},
   "outputs": [],
   "source": [
    "#landuse = gpd.read_file(wd+\"data//\")\n",
    "cbg = gpd.read_file(wd+\"data/censusblockgroups/cbg.shp\")\n",
    "pop = pd.read_excel(wd+\"data/censustables/ACS_17_5yr_totalpop_allcounties.xlsx\")\n",
    "race = pd.read_excel(wd+\"data/censustables/ACS_17_5yr_race_includinglatinx.xlsx\")\n",
    "parks = gpd.read_file(wd+\"data/coaparks/BOUNDARIES_city_of_austin_parks.shp\")\n",
    "halfbuf = gpd.read_file(wd+\"data/coaparks_buffer/halfbuff.shp\")\n",
    "quarbuf = gpd.read_file(wd+\"data/coaparks_buffer/quarterbuff.shp\")\n",
    "varibuf = gpd.read_file(wd+\"data/coaparks_buffer/varibuff.shp\")\n"
   ]
  },
  {
   "cell_type": "code",
   "execution_count": null,
   "metadata": {},
   "outputs": [],
   "source": []
  }
 ],
 "metadata": {
  "kernelspec": {
   "display_name": "Python 3",
   "language": "python",
   "name": "python3"
  },
  "language_info": {
   "codemirror_mode": {
    "name": "ipython",
    "version": 3
   },
   "file_extension": ".py",
   "mimetype": "text/x-python",
   "name": "python",
   "nbconvert_exporter": "python",
   "pygments_lexer": "ipython3",
   "version": "3.7.3"
  }
 },
 "nbformat": 4,
 "nbformat_minor": 2
}
