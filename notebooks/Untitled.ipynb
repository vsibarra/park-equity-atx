{
 "cells": [
  {
   "cell_type": "code",
   "execution_count": 8,
   "metadata": {},
   "outputs": [],
   "source": [
    "import geopandas\n",
    "import os"
   ]
  },
  {
   "cell_type": "code",
   "execution_count": 12,
   "metadata": {},
   "outputs": [
    {
     "data": {
      "text/html": [
       "<div>\n",
       "<style scoped>\n",
       "    .dataframe tbody tr th:only-of-type {\n",
       "        vertical-align: middle;\n",
       "    }\n",
       "\n",
       "    .dataframe tbody tr th {\n",
       "        vertical-align: top;\n",
       "    }\n",
       "\n",
       "    .dataframe thead th {\n",
       "        text-align: right;\n",
       "    }\n",
       "</style>\n",
       "<table border=\"1\" class=\"dataframe\">\n",
       "  <thead>\n",
       "    <tr style=\"text-align: right;\">\n",
       "      <th></th>\n",
       "      <th>city_name</th>\n",
       "      <th>jurisdicti</th>\n",
       "      <th>jurisdic_1</th>\n",
       "      <th>jurisdic_2</th>\n",
       "      <th>jurisdic_3</th>\n",
       "      <th>modified_f</th>\n",
       "      <th>objectid</th>\n",
       "      <th>shape_area</th>\n",
       "      <th>shape_leng</th>\n",
       "      <th>geometry</th>\n",
       "    </tr>\n",
       "  </thead>\n",
       "  <tbody>\n",
       "    <tr>\n",
       "      <td>0</td>\n",
       "      <td>CITY OF AUSTIN</td>\n",
       "      <td>AUSTIN FULL PURPOSE</td>\n",
       "      <td>FULL</td>\n",
       "      <td>FULL PURPOSE</td>\n",
       "      <td>34.0</td>\n",
       "      <td>210.0</td>\n",
       "      <td>110.0</td>\n",
       "      <td>7.752723e+09</td>\n",
       "      <td>2.049691e+06</td>\n",
       "      <td>POLYGON ((3086815.032605638 10026999.74263538,...</td>\n",
       "    </tr>\n",
       "  </tbody>\n",
       "</table>\n",
       "</div>"
      ],
      "text/plain": [
       "        city_name           jurisdicti jurisdic_1    jurisdic_2  jurisdic_3  \\\n",
       "0  CITY OF AUSTIN  AUSTIN FULL PURPOSE       FULL  FULL PURPOSE        34.0   \n",
       "\n",
       "   modified_f  objectid    shape_area    shape_leng  \\\n",
       "0       210.0     110.0  7.752723e+09  2.049691e+06   \n",
       "\n",
       "                                            geometry  \n",
       "0  POLYGON ((3086815.032605638 10026999.74263538,...  "
      ]
     },
     "execution_count": 12,
     "metadata": {},
     "output_type": "execute_result"
    }
   ],
   "source": [
    "geopandas.read_file(\"C:/Users/Victoria/Desktop/THESIS/Analysis/gitproject/park-equity-atx/data/citylimits/citylimits.shp\")"
   ]
  },
  {
   "cell_type": "code",
   "execution_count": 11,
   "metadata": {},
   "outputs": [
    {
     "data": {
      "text/plain": [
       "'C:\\\\Users\\\\Victoria\\\\Desktop\\\\THESIS\\\\Analysis\\\\gitproject\\\\park-equity-atx\\\\notebooks'"
      ]
     },
     "execution_count": 11,
     "metadata": {},
     "output_type": "execute_result"
    }
   ],
   "source": [
    "os.getcwd()"
   ]
  },
  {
   "cell_type": "code",
   "execution_count": null,
   "metadata": {},
   "outputs": [],
   "source": []
  }
 ],
 "metadata": {
  "kernelspec": {
   "display_name": "Python 3",
   "language": "python",
   "name": "python3"
  },
  "language_info": {
   "codemirror_mode": {
    "name": "ipython",
    "version": 3
   },
   "file_extension": ".py",
   "mimetype": "text/x-python",
   "name": "python",
   "nbconvert_exporter": "python",
   "pygments_lexer": "ipython3",
   "version": "3.7.3"
  }
 },
 "nbformat": 4,
 "nbformat_minor": 2
}
